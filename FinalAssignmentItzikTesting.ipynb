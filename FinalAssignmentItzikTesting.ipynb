{
  "cells": [
    {
      "cell_type": "markdown",
      "metadata": {
        "id": "view-in-github",
        "colab_type": "text"
      },
      "source": [
        "<a href=\"https://colab.research.google.com/github/Phosics/ReinforcementLearningFinal/blob/main/FinalAssignmentItzikTesting.ipynb\" target=\"_parent\"><img src=\"https://colab.research.google.com/assets/colab-badge.svg\" alt=\"Open In Colab\"/></a>"
      ]
    },
    {
      "cell_type": "markdown",
      "metadata": {
        "id": "SLapsBtwOO6m"
      },
      "source": [
        "# Mid Semester Project - DEEP Reinforcements Learning\n",
        "Dear students,<br> this is the template notebook. Please copy it by clicking on the \"File\" tab and then on \"Save a copy into drive\".\n",
        "\n",
        "---\n",
        "<br>\n",
        "\n",
        "### Name and ID:\n",
        "Student 1:\n",
        "<br>\n",
        "Student 2:\n",
        "<br><br>\n",
        "<img src=\"https://raw.githubusercontent.com/Farama-Foundation/Minigrid/master/minigrid-text.png\">\n",
        "\n",
        "### https://minigrid.farama.org/"
      ]
    },
    {
      "cell_type": "markdown",
      "metadata": {
        "id": "4-OzvtfyOYL8"
      },
      "source": [
        "# Pre-Requisit"
      ]
    },
    {
      "cell_type": "markdown",
      "metadata": {
        "id": "fUNptoCrObZs"
      },
      "source": [
        "## Installs"
      ]
    },
    {
      "cell_type": "code",
      "execution_count": 17,
      "metadata": {
        "id": "-YTEVlS-OAQ-"
      },
      "outputs": [],
      "source": [
        "%%capture\n",
        "!sudo apt-get update\n",
        "!sudo apt-get install -y xvfb ffmpeg freeglut3-dev\n",
        "!pip install 'imageio==2.4.0'\n",
        "!apt-get install python-opengl -y\n",
        "!apt install xvfb -y\n",
        "!pip install pyvirtualdisplay\n",
        "!pip install piglet\n",
        "!pip install gymnasium\n",
        "!apt-get install python-opengl -y\n",
        "!apt install xvfb -y\n",
        "!pip install -U --no-cache-dir gdown --pre\n",
        "!pip install minigrid\n",
        "!wget -q https://www.dropbox.com/scl/fi/jhkb2y3jw8wgin9e26ooc/MiniGrid-MultiRoom-N6-v0_vid.mp4?rlkey=qtkrmmbk9aiote5z7w4bx6ixi&st=zbr4gk21&dl=1 -O content/MiniGrid-MultiRoom-N6-v0_vid.mp4\n"
      ]
    },
    {
      "cell_type": "markdown",
      "metadata": {
        "id": "SEFhAxcrOhB1"
      },
      "source": [
        "## Imports"
      ]
    },
    {
      "cell_type": "code",
      "source": [
        "from pyvirtualdisplay import Display\n",
        "from IPython.display import HTML\n",
        "from IPython import display as ipythondisplay\n",
        "import pyvirtualdisplay\n",
        "import IPython\n",
        "import base64\n",
        "import gymnasium\n",
        "import minigrid\n",
        "from minigrid.wrappers import RGBImgObsWrapper, RGBImgPartialObsWrapper, ImgObsWrapper, FullyObsWrapper, RGBImgPartialObsWrapper\n",
        "from gymnasium.wrappers import FrameStackObservation\n",
        "import matplotlib.pyplot as plt\n",
        "import imageio\n",
        "import numpy as np\n",
        "import cv2\n",
        "import torch\n",
        "import torch.nn as nn\n",
        "import torch.optim as optim\n",
        "import random\n",
        "from collections import deque"
      ],
      "metadata": {
        "id": "peOGhIA-iLk7"
      },
      "execution_count": 18,
      "outputs": []
    },
    {
      "cell_type": "code",
      "source": [
        "# Constants for the environemnt configuration do no change the values\n",
        "highlight = False\n",
        "render_mode = \"rgb_array\""
      ],
      "metadata": {
        "id": "diKi1gEQtM3M"
      },
      "execution_count": 19,
      "outputs": []
    },
    {
      "cell_type": "markdown",
      "metadata": {
        "id": "LnksgjjqOq02"
      },
      "source": [
        "## Display utils\n",
        "The cell below contains the video display configuration. No need to make changes here."
      ]
    },
    {
      "cell_type": "code",
      "execution_count": 20,
      "metadata": {
        "id": "ceUl4Q9JOzpO"
      },
      "outputs": [],
      "source": [
        "def embed_mp4(filename):\n",
        "  \"\"\"Embeds an mp4 file in the notebook.\"\"\"\n",
        "  video = open(filename,'rb').read()\n",
        "  b64 = base64.b64encode(video)\n",
        "  tag = '''\n",
        "  <video width=\"640\" height=\"480\" controls>\n",
        "    <source src=\"data:video/mp4;base64,{0}\" type=\"video/mp4\">\n",
        "  Your browser does not support the video tag.\n",
        "  </video>'''.format(b64.decode())\n",
        "\n",
        "  return IPython.display.HTML(tag)\n",
        "display = pyvirtualdisplay.Display(visible=0, size=(1400, 900)).start()"
      ]
    },
    {
      "cell_type": "markdown",
      "source": [
        "# Introduction\n",
        "\n",
        "For this project, you will work with environments from the [MiniGrid](https://minigrid.farama.org) framework. MiniGrid is designed to test and benchmark reinforcement learning algorithms, offering a diverse range of tasks with varying levels of complexity.\n",
        "\n",
        "MiniGrid environments are built around the concept of a partially observable, grid-based world where an agent operates to achieve predefined objectives.\n",
        "\n",
        "## **MultiRoom Environment**\n",
        "\n",
        "You will work with the **MultiRoom Environment** see docomentation [here](https://minigrid.farama.org/environments/minigrid/MultiRoomEnv/). MultiRoomEnv introduces a level of complexity beyond simple navigation tasks by requiring the agent to navigate through multiple connected rooms to reach a goal. This environment is an excellent testbed for reinforcement learning algorithms that require exploration, memory, and planning.\n",
        "\n"
      ],
      "metadata": {
        "id": "76Bi4SEyip5J"
      }
    },
    {
      "cell_type": "markdown",
      "source": [
        "## Understanding the `done` and `truncated` Mechanisms in MultiRoomEnv\n",
        "\n",
        "As you experienced in the MidTerm assignment, the **GYM** API returns multiple outputs from the **`step`** method. In the MultiRoomEnv environment, two key mechanisms, **`done`** and **`truncated`**, are used to signify the end of an episode. These mechanisms are essential for managing the flow of training and providing valuable feedback about the agent's performance.\n",
        "\n",
        "\n",
        "### `done`\n",
        "- The `done` flag is set to `True` when the agent successfully reaches the goal.\n",
        "- It indicates the successful termination of the episode, meaning the agent has completed the task.\n",
        "- Example scenario: The agent navigates through all the rooms and reaches the green goal square in the final room.\n",
        "\n",
        "### `truncated`\n",
        "- The `truncated` flag is used to terminate an episode when a predefined condition is met, such as exceeding the maximum number of steps allowed.\n",
        "- It does not necessarily indicate success or failure, but rather ensures that episodes do not run indefinitely.\n",
        "- Example scenario: The agent fails to reach the goal within the allowed number of steps, and the episode ends prematurely.\n",
        "\n",
        "**Pay Attention!**\n",
        "\n",
        "Each time the environment is reset, the configuration of the rooms is randomized. This variability should be carefully considered during training, as resetting the environment every time the `max_step` limit is reached can make it challenging for the agent to learn effectively.\n",
        "\n",
        "Additionally, note that the `max_step` parameter is defined as the number of rooms multiplied by 20.\n"
      ],
      "metadata": {
        "id": "Tjh-Gz0MqHDg"
      }
    },
    {
      "cell_type": "markdown",
      "source": [
        "## Random Action Rendering"
      ],
      "metadata": {
        "id": "Sw5k_FWrr0Zd"
      }
    },
    {
      "cell_type": "code",
      "source": [
        "env = gymnasium.make(\"MiniGrid-MultiRoom-N6-v0\", render_mode=render_mode, highlight=highlight)\n",
        "video_filename = '/content/vid.mp4'\n",
        "truncated = False\n",
        "# Evaluation\n",
        "with imageio.get_writer(video_filename, fps=16) as video:\n",
        "  obs, _ = env.reset()\n",
        "  done = False\n",
        "  total_reward = 0\n",
        "  step = 0\n",
        "  while not truncated:\n",
        "      action = env.action_space.sample()\n",
        "      obs, reward, done, truncated  , _ = env.step(action)\n",
        "      next_obs = obs  # Get agent's position directly from the environment\n",
        "      video.append_data(env.render())\n",
        "      step += 1\n",
        "      if truncated:\n",
        "        print(\"done\",\"reward=\", total_reward,\"num_of_steps=\",step)\n",
        "        break\n",
        "embed_mp4(video_filename)"
      ],
      "metadata": {
        "colab": {
          "base_uri": "https://localhost:8080/",
          "height": 519
        },
        "id": "vLBT8jG2r5z4",
        "outputId": "1017ea28-9b89-4940-e3cb-ba32dddbce66"
      },
      "execution_count": 21,
      "outputs": [
        {
          "output_type": "stream",
          "name": "stdout",
          "text": [
            "done reward= 0 num_of_steps= 120\n"
          ]
        },
        {
          "output_type": "execute_result",
          "data": {
            "text/plain": [
              "<IPython.core.display.HTML object>"
            ],
            "text/html": [
              "\n",
              "  <video width=\"640\" height=\"480\" controls>\n",
              "    <source src=\"data:video/mp4;base64,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\" type=\"video/mp4\">\n",
              "  Your browser does not support the video tag.\n",
              "  </video>"
            ]
          },
          "metadata": {},
          "execution_count": 21
        }
      ]
    },
    {
      "cell_type": "markdown",
      "source": [
        "## Wrappers for Observations: ImgObsWrapper and RGBImgPartialObsWrapper\n",
        "\n",
        "For this project, you will use two wrappers provided by MiniGrid: **ImgObsWrapper** and **RGBImgPartialObsWrapper**. These wrappers modify the agent's observations.\n",
        "\n",
        "### ImgObsWrapper\n",
        "- The **ImgObsWrapper** converts the observation from its default dictionary format into a single image array.\n",
        "- By default, observations in MiniGrid are returned as a dictionary containing both image data and other optional keys (e.g., mission strings). This wrapper extracts only the image component for simplicity.\n",
        "\n",
        "### RGBImgPartialObsWrapper\n",
        "- This wrapper provides a **partial view of the environment**, but instead of limiting it to a fixed field of view, it shows the **entire visible content of the current room** from the agent's position to the walls in the direction the agent is facing.\n",
        "- The observation dynamically updates as the agent moves or turns, allowing it to see the layout of the room but not beyond its walls or through closed doors.\n",
        "- This introduces the challenge of **partial observability across multiple rooms**, as the agent must explore and navigate to new rooms to gather more information about the environment.\n",
        "\n",
        "\n"
      ],
      "metadata": {
        "id": "WhdA4okKt8fu"
      }
    },
    {
      "cell_type": "markdown",
      "source": [
        "\n",
        "### Wrapper Usage\n",
        "To apply a wrapper, you can modify your environment setup as follows:"
      ],
      "metadata": {
        "id": "zKEmSOdGvCf9"
      }
    },
    {
      "cell_type": "code",
      "source": [
        "fig, axs = plt.subplots(1, 2, figsize=(15, 5))\n",
        "env = gymnasium.make(\"MiniGrid-MultiRoom-N6-v0\", render_mode=render_mode, highlight=highlight)\n",
        "env = RGBImgPartialObsWrapper(env)\n",
        "env = ImgObsWrapper(env)\n",
        "obs, _ = env.reset()\n",
        "axs[1].imshow(obs)\n",
        "axs[1].title.set_text(f'RGBImgPartialObsWrapper, shape: {obs.shape}')\n",
        "axs[0].imshow(env.render())\n",
        "axs[0].title.set_text(f'Full state')\n",
        "plt.show()"
      ],
      "metadata": {
        "colab": {
          "base_uri": "https://localhost:8080/",
          "height": 468
        },
        "id": "kZCKkKFiu-IV",
        "outputId": "8ad555d8-ec93-474a-f90e-42dc3a7f4e83"
      },
      "execution_count": 22,
      "outputs": [
        {
          "output_type": "display_data",
          "data": {
            "text/plain": [
              "<Figure size 1500x500 with 2 Axes>"
            ],
            "image/png": "[encoded data removed]"
          },
          "metadata": {}
        }
      ]
    },
    {
      "cell_type": "markdown",
      "source": [
        "## Initializing the smaller environments"
      ],
      "metadata": {
        "id": "5ydi5m69RBSs"
      }
    },
    {
      "cell_type": "code",
      "source": [
        "env = gymnasium.make(\"MiniGrid-MultiRoom-N2-S4-v0\", render_mode=render_mode, highlight=highlight)\n",
        "fig, axs = plt.subplots(1, 2, figsize=(15, 5))\n",
        "env = RGBImgPartialObsWrapper(env)\n",
        "env = ImgObsWrapper(env)\n",
        "obs, _ = env.reset()\n",
        "axs[0].imshow(env.render())\n",
        "axs[0].title.set_text(f'MiniGrid-MultiRoom-N2-S4-v0')\n",
        "\n",
        "\n",
        "\n",
        "env = gymnasium.make(\"MiniGrid-MultiRoom-N4-S5-v0\", render_mode=render_mode, highlight=highlight)\n",
        "env = RGBImgPartialObsWrapper(env)\n",
        "env = ImgObsWrapper(env)\n",
        "obs, _ = env.reset()\n",
        "axs[1].imshow(env.render())\n",
        "axs[1].title.set_text(f'MiniGrid-MultiRoom-N4-S5-v0')\n",
        "plt.show()"
      ],
      "metadata": {
        "colab": {
          "base_uri": "https://localhost:8080/",
          "height": 468
        },
        "id": "QFEJ9keiRLUB",
        "outputId": "a5e49a3c-470e-49c5-b244-63d6cc92ee3f"
      },
      "execution_count": 23,
      "outputs": [
        {
          "output_type": "display_data",
          "data": {
            "text/plain": [
              "<Figure size 1500x500 with 2 Axes>"
            ],
            "image/png": "[encoded data removed]"
          },
          "metadata": {}
        }
      ]
    },
    {
      "cell_type": "markdown",
      "source": [
        "### Partial Observation Example"
      ],
      "metadata": {
        "id": "AiHHFwv2ZBd7"
      }
    },
    {
      "cell_type": "code",
      "source": [
        "env = gymnasium.make(\"MiniGrid-MultiRoom-N6-v0\", render_mode=render_mode, highlight=highlight)\n",
        "env = RGBImgPartialObsWrapper(env)\n",
        "env = ImgObsWrapper(env)\n",
        "video_filename = '/content/vid_partial.mp4'\n",
        "truncated = False\n",
        "# Evaluation\n",
        "with imageio.get_writer(video_filename, fps=10) as video:\n",
        "  obs, _ = env.reset()\n",
        "  done = False\n",
        "  total_reward = 0\n",
        "  step = 0\n",
        "  while not truncated:\n",
        "      action = env.action_space.sample()\n",
        "      obs, reward, done, truncated  , _ = env.step(action)\n",
        "      next_obs = obs  # Get agent's position directly from the environment\n",
        "      video.append_data(obs)\n",
        "      step += 1\n",
        "      if truncated:\n",
        "        print(\"done\",\"reward=\", total_reward,\"num_of_steps=\",step)\n",
        "        break\n",
        "embed_mp4(video_filename)"
      ],
      "metadata": {
        "colab": {
          "base_uri": "https://localhost:8080/",
          "height": 556
        },
        "id": "7gwWN2ANYmAR",
        "outputId": "a372a0fd-2e25-4617-b6c3-d1f5497e87b7"
      },
      "execution_count": 24,
      "outputs": [
        {
          "output_type": "stream",
          "name": "stderr",
          "text": [
            "WARNING:root:IMAGEIO FFMPEG_WRITER WARNING: input image is not divisible by macro_block_size=16, resizing from (56, 56) to (64, 64) to ensure video compatibility with most codecs and players. To prevent resizing, make your input image divisible by the macro_block_size or set the macro_block_size to None (risking incompatibility). You may also see a FFMPEG warning concerning speedloss due to data not being aligned.\n"
          ]
        },
        {
          "output_type": "stream",
          "name": "stdout",
          "text": [
            "done reward= 0 num_of_steps= 120\n"
          ]
        },
        {
          "output_type": "execute_result",
          "data": {
            "text/plain": [
              "<IPython.core.display.HTML object>"
            ],
            "text/html": [
              "\n",
              "  <video width=\"640\" height=\"480\" controls>\n",
              "    <source src=\"data:video/mp4;base64,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\" type=\"video/mp4\">\n",
              "  Your browser does not support the video tag.\n",
              "  </video>"
            ]
          },
          "metadata": {},
          "execution_count": 24
        }
      ]
    },
    {
      "cell_type": "markdown",
      "source": [
        "## Exmple from our solution"
      ],
      "metadata": {
        "id": "FvMK87FGd7Wm"
      }
    },
    {
      "cell_type": "code",
      "source": [
        "# Step 1: Correct download path\n",
        "# Call the function\n",
        "embed_mp4('MiniGrid-MultiRoom-N6-v0_vid.mp4?rlkey=qtkrmmbk9aiote5z7w4bx6ixi')\n"
      ],
      "metadata": {
        "colab": {
          "base_uri": "https://localhost:8080/",
          "height": 501
        },
        "id": "wmaiTB4SZzLp",
        "outputId": "b9448417-3a5e-4a60-e9af-32afe5a9bfd1"
      },
      "execution_count": 25,
      "outputs": [
        {
          "output_type": "execute_result",
          "data": {
            "text/plain": [
              "<IPython.core.display.HTML object>"
            ],
            "text/html": [
              "\n",
              "  <video width=\"640\" height=\"480\" controls>\n",
              "    <source src=\"data:video/mp4;base64,AAAAIGZ0eXBpc29tAAACAGlzb21pc28yYXZjMW1wNDEAAAAYYmVhbQEAAAABAAAAAAAAAAUAAAAAAAAIZnJlZQAABa1tb292AAAAbG12aGQAAAAAAAAAAAAAAAAAAAPoAAAXDAABAAABAAAAAAAAAAAAAAAAAQAAAAAAAAAAAAAAAAAAAAEAAAAAAAAAAAAAAAAAAEAAAAAAAAAAAAAAAAAAAAAAAAAAAAAAAAAAAAAAAAACAAAE13RyYWsAAABcdGtoZAAAAAMAAAAAAAAAAAAAAAEAAAAAAAAXDAAAAAAAAAAAAAAAAAAAAAAAAQAAAAAAAAAAAAAAAAAAAAEAAAAAAAAAAAAAAAAAAEAAAAADIAAAAyAAAAAAACRmcmVlAAAAAAAAAAAAAAAAAAAAAAAAAAAAAAAAAAAAAAAABE9tZGlhAAAAIG1kaGQAAAAAAAAAAAAAAAAAACgAAADsAFXEAAAAAAAtaGRscgAAAAAAAAAAdmlkZQAAAAAAAAAAAAAAAFZpZGVvSGFuZGxlcgAAAAP6bWluZgAAABR2bWhkAAAAAQAAAAAAAAAAAAAAJGRpbmYAAAAcZHJlZgAAAAAAAAABAAAADHVybCAAAAABAAADunN0YmwAAACuc3RzZAAAAAAAAAABAAAAnmF2YzEAAAAAAAAAAQAAAAAAAAAAAAAAAAAAAAADIAMgAEgAAABIAAAAAAAAAAEVTGF2YzYwLjMxLjEwMiBsaWJ4MjY0AAAAAAAAAAAAAAAY//8AAAA0YXZjQwFkAB//4QAYZ2QAH6zZQMgZaEAAAAMAQAAABQPGDGWAAQAFaOvnLIv9+PgAAAAAFGJ0cnQAAAAAAABzdAAAc3QAAAAYc3R0cwAAAAAAAAABAAAAOwAABAAAAAAUc3RzcwAAAAAAAAABAAAAAQAAAahjdHRzAAAAAAAAADMAAAABAAAIAAAAAAEAABQAAAAAAQAACAAAAAABAAAAAAAAAAEAAAQAAAAAAQAADAAAAAABAAAEAAAAAAEAAAgAAAAAAQAAFAAAAAABAAAIAAAAAAEAAAAAAAAAAQAABAAAAAABAAAUAAAAAAEAAAgAAAAAAQAAAAAAAAABAAAEAAAAAAEAABQAAAAAAQAACAAAAAABAAAAAAAAAAEAAAQAAAAAAQAADAAAAAABAAAEAAAAAAEAABAAAAAAAgAABAAAAAABAAAMAAAAAAEAAAQAAAAABgAACAAAAAABAAAUAAAAAAEAAAgAAAAAAQAAAAAAAAABAAAEAAAAAAEAABAAAAAAAgAABAAAAAABAAAMAAAAAAEAAAQAAAAAAQAACAAAAAABAAAMAAAAAAEAAAQAAAAAAQAADAAAAAABAAAEAAAAAAEAABQAAAAAAQAACAAAAAABAAAAAAAAAAEAAAQAAAAAAgAACAAAAAABAAAUAAAAAAEAAAgAAAAAAQAAAAAAAAABAAAEAAAAAAEAAAwAAAAAAQAABAAAAAAcc3RzYwAAAAAAAAABAAAAAQAAADsAAAABAAABAHN0c3oAAAAAAAAAAAAAADsAACK9AAADkAAAAFYAAAA5AAAAUwAAAL4AAABBAAABngAAAWsAAAC4AAAASQAAAEsAAALyAAAA7wAAAD4AAADFAAABZAAAAL8AAAB6AAAAgwAAAOAAAAA+AAACBwAAAKEAAABkAAAArAAAAFYAAAMzAAAAqwAAAHMAAABZAAAASgAAAEwAAAIYAAAAngAAAEIAAAA2AAABTwAAAKQAAACXAAABnwAAAOUAAABMAAABkQAAADoAAAFGAAAArgAAAeQAAABqAAAAOwAAAJYAAABZAAABPwAAAbQAAADdAAAAmgAAAEcAAAEsAAAAlwAAABRzdGNvAAAAAAAAAAEAAAX1AAAAYnVkdGEAAABabWV0YQAAAAAAAAAhaGRscgAAAAAAAAAAbWRpcmFwcGwAAAAAAAAAAAAAAAAtaWxzdAAAACWpdG9vAAAAHWRhdGEAAAABAAAAAExhdmY2MC4xNi4xMDAAAFUubWRhdAAAAq8GBf//q9xF6b3m2Ui3lizYINkj7u94MjY0IC0gY29yZSAxNjQgcjMxMDggMzFlMTlmOSAtIEguMjY0L01QRUctNCBBVkMgY29kZWMgLSBDb3B5bGVmdCAyMDAzLTIwMjMgLSBodHRwOi8vd3d3LnZpZGVvbGFuLm9yZy94MjY0Lmh0bWwgLSBvcHRpb25zOiBjYWJhYz0xIHJlZj0zIGRlYmxvY2s9MTowOjAgYW5hbHlzZT0weDM6MHgxMTMgbWU9aGV4IHN1Ym1lPTcgcHN5PTEgcHN5X3JkPTEuMDA6MC4wMCBtaXhlZF9yZWY9MSBtZV9yYW5nZT0xNiBjaHJvbWFfbWU9MSB0cmVsbGlzPTEgOHg4ZGN0PTEgY3FtPTAgZGVhZHpvbmU9MjEsMTEgZmFzdF9wc2tpcD0xIGNocm9tYV9xcF9vZmZzZXQ9LTIgdGhyZWFkcz0yNSBsb29rYWhlYWRfdGhyZWFkcz00IHNsaWNlZF90aHJlYWRzPTAgbnI9MCBkZWNpbWF0ZT0xIGludGVybGFjZWQ9MCBibHVyYXlfY29tcGF0PTAgY29uc3RyYWluZWRfaW50cmE9MCBiZnJhbWVzPTMgYl9weXJhbWlkPTIgYl9hZGFwdD0xIGJfYmlhcz0wIGRpcmVjdD0xIHdlaWdodGI9MSBvcGVuX2dvcD0wIHdlaWdodHA9MiBrZXlpbnQ9MjUwIGtleWludF9taW49MTAgc2NlbmVjdXQ9NDAgaW50cmFfcmVmcmVzaD0wIHJjX2xvb2thaGVhZD00MCByYz1jcmYgbWJ0cmVlPTEgY3JmPTI1LjAgcWNvbXA9MC42MCBxcG1pbj0wIHFwbWF4PTY5IHFwc3RlcD00IGlwX3JhdGlvPTEuNDAgYXE9MToxLjAwAIAAACAGZYiEAF9wI4bm1dmBWwk14OLYCJ8rMGqf3QtmjOG6HcWHVZc9JAm4VTp+0OlQ+BDl5AfVh0O+ZjM5bU6mNIu4qB1izo/yxM4F4xmIYR5WEb7bJPZj9Y5kCp6hWDcvyB4Q3stdEqB1j4YwjNBG53tMsAwTsTEJlwStjyvVgG5f1YgWEkJkQJlwUXZyZaUsG5f1YgWGjDCZcEq2fqIsG5f1YgV4Z6Y/WP7r19uAhrWOmEHbugYEy4JpvGggiwbl/ViBW6rwmXBPJ6nflu9plgF5aoAmXBNjTtfLd7TLAM4ryrJhQOsf3c5zqezGYiY8nMo2wmXAdVmNJod0TV7HHWVu8AmZsHxwmWNXgQNp7usM/JcwFIz2cxFW6ergCVieAaSaoHWJDhi0NSaX9kUl3HbJMfrDj2Ih6DUYUDQHr4QCZcCJoNBjc72mWAXiz4zdkoHWHk3H5JbvaZYBd0C/lhMuBI7BvqwDcv6sQWFzhMuC/wQ02nMNgLBniu8fDH6w751OXO9plgGfvO4zH6xFA4EO5mMwoGf5L8j3gC4brEshxJx+owm5C+ZsROwWCnwz3akUB2cEw9d+7h3bn/gZeCuhpMBmIAzkZ5y/NXtanHYM08Y/x2TzqYhf1jsGaeMf5MFwNGaXOOwZp4yAHYgfRjMcVk7Qyoo6eRsGzZOjH0m2YzETHiyALFofax2DNPGP8IeEY1bVjsGaeMf4Hb6JSZKHauvhefARflpDih2rr4Xnv0rXiOC/bHAM+ZPdzegjc47BmnjH9ZXJjk847BmnjH9ZcpbjkUO1dfC89ehO66grJGOSW72mWAXF7ro7UJ1yS3e0ywC5bZBJTHHYM08Y/rx+q/Hpecud7TLALjzIOOz08+K9BQCTMKo2FOrf5S8qYEqGB6nUwj7oNZy+hJAjblyFYwx8mpgpseB/W+OCPqUasJgSzHEZRfDkDWcvoTs3+A/JjuibBYgKuKIQq47V18Lz2C9wY2NxNun3xShQDXbwzzDaUTQSitcyAS7LLZzjNhIU2/y2VBX807Y6K1Fx2rr4XoEBeGIwh1uUXw5A1nL6HIowsuipjuibBYgNIRGrQIyW72mWAXade8fxfbHAM+ZO3aMe4F9scAz5k7OxVWP0W1dfC89q+m5gF9scAz5k7W3yt3otq6+F57QGKj4X2xwDPmTkhUQ0f9scAz5k5VahDXRbV18Lz14O9lsim53tMsAuXvsWMvtjgGfMnUXwOUGPFx2rr4Xnsg+0qiDEt3tMsAubkndTotq6+F57BirSFkxqbnSE/bgnm4sIcEbf3tACqx27ZXkJcecSIwXXDxKKxhj5NTAjHC6PyctjuibBYgM2YvbBsS3e0ywC569Qsi47V18Lz2JMuexcdq6+F57H1abRcdq6+F57JJiWKJ7qmCT8xWQX40IzjyZfDNwdidj1i45iMA3meOcnQ11tNO5bMipcdfdGfKhRcZXtIHai2dpc6EOrA1LAk67EfdBrOX0PFS+5AR90Gs5fQ9LYZ6J4cgazl9D3jf0kY+yz5NTBemhUBBH0A6zl9OuK0owR9AOs5fTsSsk8FSS3BNTBcxUyShUktwTUwVi6qLgj6AdZy+mgm9pkpsc9GImPDVysiPItq6+F57AQN/EvtjgGfMnXPYt/YwU+2OAZ8ydV8uo1PtjgGfMnQo8AMvtjgGfMnQHgNlUmxBDlahp31vaO5VmoyMQCkIoQPrshLjziRIvnjF1CPss+TUwVX9xJomLPtmrCYE8HK55vDkDWcvoXRlp0KxcTrOX014LE6CpMNHtnkL1y38FYuJ1nL6bw4agpSCRs2XIfzOHrq6G1geYp1pxwwIWCSJAdZ2foa7Imnc9uZ5iz6kicvobOWo8j1ecMmO6JsFiA9LvTTEXHauvhee4kFaDgItq6+F57jQq72j9rPCIXn+QMMTakDZjMRMeIc7waXlNzvaZYBeQqQ5qVJbvaZYBeRwwt0DHzvaZYBnG2y4z990Gs5fQqJu/FyY7omwWICylheUftjgGfMnLapbEXHauvheez7jtvtTwPm11uqlBQTdNsfCBT5yR+2OAZ8ydXe8OCym53tMsAubRNSIuOvujPmUyTXJfZA2YzETHh6JLBXa217vHWUe6Cf9Pa6lPAiO+TKEaOtTAUp0hR8g7Kgd8SYQ6o/azwiF57YNSXU4S2iP2xwDPmTzgk+gQXHX3RnzKeJMRUgVi4nWcvp57x5/hIK1CbBYgPtwVwUItq6+F57nZPn1H7Y4BnzJ4Z3V0i+2OAZ8yeI2ou8TEt3tMsAvFybwjTEt3tMsAuWV86IuO1dfC89ePn2UXHauvheevvvFLwpud7TLALqsGgbbQBGHUasPDGENKvqnFukqN8t+I6ZOtntSjPFqDZK62wCWH9Ai+4mCJIB47vXCUzCgdDCPXihL7gI3UM3km6maqUFNvD4CSh7dupltxnEFudWJJALu2lG2KauwHkPADESTL+Y2bXD+csg+Ic7qjWwnP5ho9s8hHo7XsYw5yDACxAUtb6Bo/bHAM+ZOToiwrQDFh2xh6CJXSpisXj7mGz1UA8Rtr49QsHadYYHoiz9an9t9uMdguXgLKLjP92DwzHciTiHU/ak5rPd23z83sRbV18Lz2RAW2UlYi2rr4Xns2WMEwkKS3e0ywC6vFkEHI5YNy/qxAZm7K2nT6hVVhhNuOEhodgL6hu6eePb4a4tlBtAL+JSbD9cdN03ixEibT6axtQvVDOhIi2S++ULINOuyVKvOf+8/vD3popeNrsxkeBaCLbovVZtF5PsMlK2NSdgHa3XrI5HjbwZ9iNkUaPFPGNvKX2IdT9pN+KMKWEI83T9KU5VMfOeJJRMzpLY2dzWJwNeuctRU8hEfSttMuMMfJqYEVmFh4FOn+vgAAY6xTsc+3T34HTFzydm5D01xsj1gfd09UdGpvtLS1DEQ+WBIVkLO7rgr5jmdoZUUdPIWDZK6h2doTILOX02S+dbdf76lGrCYEuVWkUoLjDHyamBL1SoQ5g1O0Rps5Pz48B9mCowKkFkP8h+ZiiP+0NKQsNtyZB+IUsoE8/6Q7fVXTEud7TLANGZz4KDqQQFNtmMxEx5UoAPrB7rT4T6WLhslPVv8tgvL2gYvLtvdZWgXgXM+ZYz1bgxXgFhxa4OzLyYVJE5z3waOdSRXa/VePsF6eVwwJeZO3YuOphogXacTatXZs6VCw5ySviXRJznkfiyVVGbdXPZboBnXlGgh9R/VHI1kHulRc9WTdl+ayslUqR40b/sq/8tsPkhN5E/rxa8LhijxZrvx+6B7JgsUR8PpQxiQrRkc9KRgPQTc5YFi/Gy4uJ1nL6Y0VsALNcHe01oI1XNWw7TtaGlfZyz2DeWsQvedR51vdkJtFuehh6UQiO7EkEmAwSLizLxDGuMxcdNv4jidR8MU0wvvqUasJgSK7ajsBNG2zGYiY8Nt4uh4IcdgzTxj+xYHaGfTjsGaeMf2Ibvk1pFfgpx2DNPGP8iTDw06Zx2DNPGP8ieAkJrLHYM08Y/sMwSMM8h2rr4Xn8fdjM9gaXLjDHyamCvv1tNcevukP2ajS7jkSsoTF+iEn93R0QHh0XgtoJvK52QTeeHgbHYyjYMKXRi4nZfSsvW29EnCIjlRHDT6JwwnX7yNpToxoPiQEsn1EN5U0uuICiOR9+yg6e78U2cRNn///5zKiBF6El7iIBbdodoDp///+O5RqpB4OoXkNWlUGOP+uNgyjatIP7471N+v436B0qfv9w+ikun5/NX9g8jPipMxw+ihehkJWJodw0RI9ijC4dYFOMgepCi/YRUmF3Tod0GXQS1JbMaI/p2PoXgytkf6nBqLfWkXZEdcNNSmfZwWPJpUzDNZ8oeD/53fW2AaoKGFHcAAzwbPmlG0ficIsQ87QBb97GGzGYiY8SfWbvveAAEBPQPG2LOHr+/9Iuftpggr+HaiRrisspUcD/MTmomTakI7W0BQDAnepr7kiALXi00XQNtSih7jvGlx5kT/5MGGE28gYPlnEfMEa1N+e0VceIATV/IA9Rt8wpr5UzsVvq5phtwsw9z/qxxJ8qYKhLDHJ+xUAK/GNNrKicOaVHupe3FU2Luq7A6+XeL8HT1eAOHKuQOrh7eMxrplR8yx5MhZ+j4RcFB9pYVozpFbJWsZkrMGKduTI7S34dZy+oQ8IdDO8mCh4t3UFEhQ9W0aCQoMVdo/KBAAwRMPguUZe8NG8bq9C9mw+eAHK8totCg0YM7iPMBXhvoca4+9nxY7BqFYYpM3/6mhlu6Wr8gLbodZY6n0CmOXG50GZ1oz9+Xf4BOxVAj7cfSjfjZ5480Lb2gWDDi4YD2IwFRfB8TO47JOX0VRG6nlW+jnIMALECPFquBFpdscAz5k+DGPKqAYAADWoa4u0UfMDe/Jt0QH0Q5E9jA8EDKE+4oO1drUmhCEL47V18Lz5GoTNYuNfHauvhefBuTSUGnviwbl/ViAvxee0Gwcbne0ywC6OuuNW2dj53tMsAzR/lk+yTHOQYAWIDGZDmuWIWDcv6sQGPdaycu7HzvaZAsmWg7MHXcLzjc72k17w5LjZjUksz3G53tMsAulntcVE24CGtY6YNRQkTrUIlFCwbl/ViAykGuS1eLBuX9WIC/LANJZuf7wmzOoWIV2q3O6xpiLQhyER6HIMEuUnfecqMqij4mCP/Sn3P0Ly6mkkwhcjUONLQ5camqvB5CFuOS2o5GcGgykGU8/oVAFMxUj545ZJn6k5jLMraHqYugMqsEsDy4Y5pQAH3NQ5ySB29mVL9URJz52XXJy+igUhW5OvDkDWcvombcHj+W+6DWcvoleUAjijUBBQMvxN4kIwAgimpB5JwtZhVKVZq7ioUms68Gc8vO0VRxhj5NTA4XQSAberw3M+TUwaemRfX2iz7ZqwmBLfjffIDw5A1nL6F8d1GwEdHOQYAWIDGIFriiRbV18Lz2Y47zW8RbV18Lz2dbqB9D4sG5f1YgMsdYMoF+W72mWAXWRETS8RbV18Lz2gTw7CxFtXXwvPaWEQ4RItq6+F57MO4z8S7Y4BnzJ2pj2hncbfCZZk6tbmydlE9ak95jfAr0tTjSOpnXa8+0L3MUxpv06OwGXlnFPv1DWk0+Nm0n0oXPnl5SDJ2gM8ofyfrD6/xxhlCJvOExWBbwaXhZjZTLYw/TGBcwLrQw3dbr5XcypsaTZp8oQiVIi1FTeKHa1fulPqUasJgQ8bEpxLfZZ8mpgqNKh/qzqAABcRdaVY5IjMCF9bA+nNCtyHF1JkJBfEE1Sy7yGO3SnMV/PfMf0lXos8p+TUwYhk+KZVB5H9WaawC6ekB0qeItq6+F57MugBGvEW1dfC89npD9FPEW1dfC89m3/IEy+O1dfC89nW5c1+Itq6+F57RCoyKb47V18Lz2mS5f2JdscAz5k7QGZzel2xwDPmTtp+c/r47V18Lz2o2kTHiLauvhee1bK9OAu1M5/X0GTuPYl6C0+6uC7tyZ09m4j//54Z8NUjLX8QqeHsvrEAacKEWePMA3qBr+lUSRWLMbMuN0f2A5WPX5ydu3dI5YVIiHHOn0Tv5KnSZIP01NaolZOJRKzV/ExaL1gpKXcZ9xZMQPd10uCqYhsSAGNjVzunvqAzyuA5y/UhdZIT/ftV2fLH4FEnh1ngf+A1Zc3XaaY5zEQq1yVgGJCe5Cyf+9iv047NVDfonD8op0o1qsxNdPgAALsoGE9ZMNbTV1qbsZMYIw+WyZZf0Q7RzylNhCJ8nfsOm/ViGMtcFmBJcX3o/8OLgkfsQJNVMEMMdm8TMbzCGVkSI2NOHAz9CE3iL7zLLqSPJhLBZYqw5C+ertBWh+sQxvaDF+jKng/UII++0AnBx9XbGf62I+ByJvTjoo1JwjIrstkm3FA2n0sllj7mzMTOA/UwVhUOAJM8iWj+rQa7GpjfktwTUwXcTGB1+LPtmrCYFJG67UjeG5nyamC8BxHsRizyn5NTBeZ/BBZiz7ZqwmBTMuEujeHIGs5fQ8jSSby32WfJqYLxFKs+Ys8p+TUwXm6UsWz+S3BNTBaiKz7zTyGhEbCTvz48B9mfNMVp9fD3wirks9UvO1743LkCQLEKa32R0OSwjSTqfS0Nf1j7YJG2kTlpVm1xc2wcBH+X7iwFns78hRdnBuZ7HuwjEjdorcN4ypZvh48XQYfVJOflfB0G3szQZdqNrWkWgbCogQIzBiYzyJGMveMY0QI7QLTWxQDACxAUPdZauItq6+F564U6xwegAAGPp/8VELGZiBHTNBD9K1u/LuG9P0JFtXXwvPeSI+7Tq+O1dfC89nVs7uZNCwbl/ViA1Crtc4kLBuX9WIDP+ss10u1nhELz+d/aLxgP8DP3ZR7DAX8t90Gs5fQwzZTsz6OcgwAsQGiOAwHfFg3L+rEBUcVY64gOUQDfLyQh6d4oU1y4I/pZtQLalKRa+9ofpP03OsSs7L6D0RzyVfhsYQW6+oFPEJqnAGo1qCTZ6rKRz4sxgy9X0GAQari6k44Fmu+1bI5YmYwZer6DBnBcneuL+KivfRxcouahLWHzxMN0s5fREzEddffdBrOX0RXBSJ6AAAD1X6O65DuigAsOe+keAq9qOLidZy40mNGtLtG8NzPk1MGZfQhbmLPtmrCYGBNbTZd4cgazl9FKqXWQoztmMxEx4mOCg0kuwlhxDeglfFAPsu86N+eiv5D8zFEf+Q+6Jy5vRXZyWsDSpIlo/UkwsEP++6DWcvoqd0ojqOMMfJqYGHyqOIORZ1+fV6tOBAQNN842pjbPngSAX4VKlaWYiCoFs+9TmWWdiX9h3+OutoEzw5fQKnkEK919iKk44Fmu/NbGKI4LNRrUEmz3N26WGp5qNagk2e36RVhjy6jWoJNntqRA4Tr/5OfMELNT9aLMOZoXK+mPEw3Szl9D4QSrCrw3M+TUwYA5/pN6Bw+ui4AOqyXvMsnbP0GqE4JiXsU21fgX45Gwpyz16BdTQx3s1khhRVObxZ9SROX0VVLbl0mgBKB2zGYiY8RUo+xpGXbHAM+ZPT/wX+A/bHAM+ZPW5C79Uu2OAZ8yetJHKqWaIfiLauvhefKRlelqr47V18Lz5P+A8KqFPXNoQM9BPRd/6z/8gLwzIQlP/4+XK7DryRa4b4Lnk7/1LzHreHpiIaYCGLt6psNJCf/6D7br8OKvakL6w06Uk8/HU9LHQvlnr9B9f6OetW8BNeqJLB2Lt0fj6q7jAbvpGYgdsguo/CM0gAX5lOudCHECfHRd/hYfRGcl6kYq3ZN6oj4zJifT06oB7tVBPkg8cUk8Lak9400oAl/tkhrQmjw/SYN0PpvfW9In+vk4t+jZWMohnApxQ+9FyypXy8A9K2gABcNA9ppb2Pn/dHsnjOaoEOMz2lZDeK0DRgstSCwrbX92fOvGz5oJsw+RdGUQgu7Kmj76Bw5+necFF4k55D0gqOEGBojm6Rol44NHQjif+jINASUIh5P2tcBiKFMZ55jAGzItLm+QFF4NYBQ4DxLWOojIClWDFhrfWgNMgi6LRo2KYU7Hyhunhtoq+YwKW7aQxWpxuh9PZTz6djSEEyf66NkfsNH/xVSdRQyrpSTpE7olSnDMlYwzYwqqKAuoR8mpgcW594ouG/lyt/Ou5Ge61L6CeDelb8jBlN+zsQNjY6M/23F7P2FVOQf+akvfC53sweoaUV5H7hr4GOXq6Oa8dHL4hIbxj33pxAra7FiQYGxfbhse7ZHWVPT8uYs7Wo+2LZizR17vwdW0m54JXAQ1rHTC2ws0mQ2j6h2D0TzKbFDgCChI9tEPz43U6iFazFUuyxbK/+Q/MxRH/iLCXSX8GSROEKWUCef93ZXxKNUlu9plgGlFH2PL+Oxc5DuibBYgwks4QxEbmiSPZjMQwjyTWZiHmLqfakt3tJr3h+oVMIheTp+1nhELz29w75bhIkeWDcv6sQGw1CmP1dscAz5k7gDxd+MAAZryMHn/MuQgIUD20f85Z61yNGvDkvWjXCl1jURibG7VuzOltMv9XJoPmHMsd2xR3sgTgSr1Rtg6ETEkjcvshuArrEOuaD93NYitkAX8TqTcLd2B1tvDQuezeFaHkXeASpUCzoegJrvprguA82sa5MEos+Lz7tnZIcb+caAujML8gklf3EGaaSnjo7527HUJHvzDR7Z5NtKKg1A85rtb6VoV5BuvfmGj2zyGYp3fB777oNZy+hdq3fccuQ7omwWIDI/REUk/bHAM+ZOmdLgXtOWDcv6sQF862t+SLaRUW1dfC8+VYplM1qrtjgGfMoM5bwaRKi2rr4XnvJRPrkqLauvhegBFPYNvCPjfdBrOX07zTsPq94ZZ9s1YTAstWijezDnIMALEB9/21ST9scAz5k8ry87GrtjgGfMnmmrCCq7Y4BnzJ59bfx94N94nS8wmHjr0Htde3jUV7NP7VehuDwgOePjKK6+AABBQWx4pJNOv+HimRAzhCotq6+F58VAGQwQT9rPCIXoBBw2FNtSvA++6DWcvo4rMH3MXUTQTmf8sdzbpWLWx7hyRMEtzDgMJ4XuEP/iNS/4O+2gWe5XZH4HpJ1LF+DWo69bhYsGR+uA19ud8CE5KGXD5oaV5fFZF/X+HQG/Ot1LOK/9EIYDwxzVySRGuRydi2/ykW+Sn7cXdfg6JfjdAdItWIGXCBmiaGLULljrXxDV9th7vWRWsNzrJGntLsEVj+R2HRKoTbepBiBpaeD8MNZZU1jki+OYKfxKYXSm0GfGqaldnWkzPDMwUkdpP9o34IcWoyUfePZg8mt4wX1HVk6AjVq/IV2V4zuOyTl9DKWYIAo+HIGs5fQ0kSvUgfDkDWcvoZb5yXwfDkDWcvoX+QsfiPc5R8OQNZy+jg4KQ2DFvug1nL6OAX0GrA+HIGs5fROM3py4IOcgwAsQI4mOsSRSwbl/ViBGQAZFLrgIa1jpheKZ650+HIGs5fRDGwS1Fvug1nL6Ij9R6HeHIGs5fRGIzLILfZZ8mpgxQNshlkYk9O/GQeE+nM5w9B30PWUfAGqlMEGj6EwvcvQwCvpao6dVZcGX+vs8UP/CnFF6CE16KTcMryrg0GtscYPZ//SM2OveI2XsIHFLebc6RCc6yfVhVmaB4SqoAHhjo7n7fLjdXaW+HWciTLMl17veNODgIcoRpuulgu6oqEjQZZ2VVQE1oDcy1lnUggnnGY8Ko0UOiUcsAgmE9cpAAAAwPSb05fbXoaaUup0iaVA1r6rBoKPCTJ++xra1ZER/uskoTPO85Jx+W41zJOUWXrM5lsnCFjD73gGCE93SLtjuTNug1nL6GZd0BcieLeLeI933Qazl9Ngl5bYPHsqfzDR7Z5NVLlt5tePU/JbgmpgrQDCoU4+pRqwmBLipPOWn3Qazl9C73ULZ1w2YzETHh0k81P/7Y4BnzJ1RPVR9+1nhELz2neW/7svFv2s8Ihefvk7Oj+uGzGYiY8Nqb8/z4AAAMAGTA8WF05y4PrHaHqmIcGSBSHPftZ4RC8+A8lpdYZ7qvHauvhee4bpsyS6xlu9plgF4qwt8CXGW72mWAXjNRNvr2wENax0wub6kYa4Ffhe+6DWcvofU9Ze6990Gs5fQ8v7c7IxUwuSpEOExQD7NRfLFU907yH5mKI/45Nqmfv1vladLKBPP+4xJm8nBud7TLANPsWvyYLvFj6R3RNgsQZmmasnieCg7D70TYCwc7Okmw4lodQ8ZbvaTXvDyYN2vCo/4y3e0ywC6OpqdVcb53tMsAubyL2rFhwg3O9plgFxjzU8pwbne0ywC4+JofRQICGtY6YNCvWNWfI2JLd7TLALjoAZpV47V18Lz1xHtDJRJbvaZYBci7Z5myW1dfC89dZo5mNOd+gAb28SLYPU9OTfKc9Vr8iReCjSo8q+YqpbuBegjZLauvhee/C82Bxrx2rr4Xnt2MydlXjtXXwvPa+YTPFeO1dfC89sSd2BSINzvaZYBdqgD6eIXG5GUZO2OAZ8yg2NBoSJWJLd7TLALs80g6V47V18Lz2nusTIvHauvhef34PcSjOFWn3Qazl9OT/hcesa1PzDR7Z5DTzs4q/SO6JsFiAsM0cpXjtXXwvPYJ+i75O2OAZ8yc7m5uK8dq6+F5664rizftjgGfMnLCknkyW1dfC89eOcaJv2xwDPmTltScKZLauvheevySh6ZLauvheewDKfyvHauvheexVfO2M7AAEcmdfJer9n0C4aJPvPmaUm/bHAM+ZOlDjS+8yWvujPmU7B+fr46HIGs5fRATCnCXvug1nL6IGSIw46HIGs5fRBh6h98+HdE2CxAekQ7u5UMG5f1YgOgA7FpRvne0ywDPEXCPRP85BgBYgOo5wyV47V18Lz5XiAG/3k7Y4BnzJ4M5ZAb9scAz5k7Jrwjr4y3e0ywC7GoDRHg3O9plgFy72lW3bAQ1rHTCv7VErafdBrOX0KxY4HHQ5A1nL6Fi+SuXvug1nL6FkrINtPug1nL6FxboZHQ5A1nL6F6pcpHQ5A1nL6GDFd1RYwx8mpgSzFfFRYwx8mpg5MtUXlbV4bTj6lGrCYFvAqTiLFxOs5fUHEsXwpW9boAAjj3549f0SfhFwNtiGfbNWEwch4BvSXa+QHsxz0YiY8UTIRpfSdrPCIXoB6bfckdDcz5NTBq87I+RDPtmrCYGdHO0COhyBrOX0XiCXJR0OQNZy+i9r0Dyx8O6JsFiBQf868XjtXXwvPiQPrh5O2OAZ8ypfS2z/TiXvfdBrOX0WIzjl732WfJqYNQoq84hn2zVhMDNecZc0+6DWcvonI3+XupHdE2CxAhHuKek7Y4BnzJ7atXpMlr7oz5lQ5bhiXvss+TUwZNSrqU/ktwTUwZWCsqU/ktwTUwZfGopEM8p+TUwZgmpJEM8p+TUwZqtGEpyhBzgBYgSD0kzk7WeEQvQCawaiU/zkGAFiBKvV20jGKZErGo9B8AAAGlEAAAOMQZokbEX/5EAAAAh2xbMCksA20dEfbdp7ztqG2dq6KqQQbTImu9ImnmAMIlbq+bxlrbMd6YYf7DUzUFKWB6AOrLkSgjo6T+FEi4iP6FKZYcMkQhrrFtoA8NB6Z5Sr+V3b2S3le6hl1Aa2JmB50UjFhlS8mRmtXqtBlIQyfBWmmaJWUFU5t3mbU9Z5Gej4rzCbeWlRddMsfT+etBDV4WoFkgKi4KuGnrGl29mM4MpiHBSMB019httWzlP6X3I4bwAKA4lvi1yG2j+XJ4CgC/ACjEwcMGXZi1lJ7ZqiBcheNFsOmhFVhA/rQ2dFTA/dfqdxfIqwhoXVkKUnQ8ZoBnbW4CdLC7bBGcThlbJv6dGc7GGpXMASHLn0sA35KCmnTgNJy8AQn0ehnmFg0jOzJsQJIS4SsV1U1y8Xq4xplpv4eLrn1HqAiLuHB1OQM+hjZPPzyyKwPYLhwVFOJ7r3kMV57AS/OvPrsq9oSlxadm7nkZy87WLPtQfMRUUmc2rDWoPi/GsnNXu3F3SCP+OE26YeXUKgrgAGrLzzbxTymM3Elhn2c48JFngmHdz51QjF+r/5RQ0BKU9/uVtKqfCOkMQlumBWdbJqCR4VYy+Q73nVvUyCkknNdY24J9R1VoiJNn6+wbF38mlhX6OuAMqsEu4GhrIWfxAouJafHBUWvoC6tgjFfRF5BBVvCX1khechsLZfiJWDY0gOjidqj+dxZbLJNSDMeFV28MnpQvxGxtVHDMKFSR8yolSf8eqoLMGuzhG2t1bU8pOvrVLXD/mk/QOqdjNBAYhkVSI+/f9AAWz+6KBXKxL8so7o4gtq4oyI1WhtUFUl2i2zBh/9M5RAKppMFbE1lVM26FiGz4jTIPkQRV1vZ9AtDbtbQjmkKZSZRGiva6yY/lQR2178rqCmVwf91ANB5Nm4k/QjDsQHu/+MW3IFG1lDXZVaxhgsIhu9AMBlxq24YACePObm8scCjHWLjbnju6U0XAOQFhlV3nu9lqCvWqxk495gcIyCPoGTjCgbcrXvCITuJeZqbUHt8BoaIQOAZNyhnKF7m5MalWyBpkWqXRC8YzlXnQlxrXtTclCgXvLsoPYbg6EuePh/09i0Is3qS8tScFsgfhGaYCItSClkWvd5gi/7ruOYPiA1ubrxtIWdgjQ5q0v2Ooq4C0RWyMR4BI+Au7zefsHnkg6PsLd++AACPVsrEAAAHHAAAABSQZ5CeIj/AAAIoLECAABttUis2+MxFHBX4q6aipR7JrZuwBIZpIhFhoBBlY3k1twfd/J18oHu7DD/KYwGRTcB8rSYdA4HAdLTj9FAAAADAACJgQAAADUBnmF0Rn8AACKM7GQZGjiYwVOrx3PHa5ZkjwcffaILGL352iGe7+1kQ58qQAAAAwAAAwAsoAAAAE8BnmNqRn8AACIyrtERgAAAgIZG52HehfCdZgPJFFAQKlaaWg9HvYunADq/Mpt4xbxn81quZReyw76VzR70HY4QSKaG273o4oAAAAMAAAbNAAAAukGaZkmoQWiZTBTxf+RAAAAIafdCayegGjfNFb5Hrqt1Z9PScSvEFVWgaqER5J0Yw2Q/3oMaxjtO4vRmPxyDxD6ZrdER8i8VFovDMaGsAWI55g0TZVmrZU8YpDN5j/k6nuJ886UajMMfa4YZlURx4ZMRZeKjapzHQEdodcTaUREzb6Tjk5EpWKkbJ9xbta/nTQcoTgGcU8yimjjtIRc1xC+v/b5NgNH/FmeFKauuDBZ820AAAAMAAAMD/QAAAD0BnoVqRn8AAAog9YH89DSlOrtcjeRQDuTITODm2yf8bCzB+PkYRHtQQxIpfN9hloUTwqjAoAAAAwAAAwInAAABmkGah0nhClJlMCL/5EAAAHPI0j4AMFf//z+Uq0p+qjTRef1NItvh0XeZltLOegBnDx4GmdkggAAAAwArK6HmOGGim1S/sfy0tbamvE9iqR2g5v0osp6hY5XdpXDmA15AoN6ZI5mCLpWbNpPEC0gg7ugMeQfWakQn/CU0GtsInNkNbD71uNfe7rrKVUC7f/mhi8eRpmj5a814z3NQWvaNz1mHmbgBrNIgZmIEetLOyiXtxjhh6LQDw9hUuQeQw2w2LH/FJeem8XE+l5wfIQx2cF2xQ/X3FGUZ7JBAhB+afm+CqZFn7ZiqqoBws6H/thFBKP1c1psYqR6XjZQih6zMpB09yvJ5JsH3PpfB1+Ed85nEHM6R2bGJAz2ho31QOvOCVj2KA6q+/MWeatYZA+4PFl6ITr0JbyS5IFxAekBgFcX3wprkB5g90CJeUF5ybE9pWLCyNNC6Y1l6dxcoze1DECuZjQpkI/cZavsp+DmFc0zPt/k1bIZX4BRy0bcCG4kYGDGat31UmriKDygfEWTmeX3nAAADAAADAAHHAAABZ0Gaq0nhDomUwIv/5EAAAHPTLmQX/HhXQACaCPRJD5StcdOH2c7Z32nuIrJmPU6VzQbhBkFuHxYsPGGyKPz3AAp7vbnuMLYD6YGiUx98YkFuLn+Grb+zD/Jp8lM2Th6X/bt9JoQhdPPT011sR9zmusbcE+o6q0FZhQm8qU/SwshMhFpKNq5Xy/V4v/nSmwRZtSMvqLL6NHZtRvG8wALOQQuauoVnh60ez02ZG6tkGsI4HmqW5/cBOYgcyPnVXptU4fpLFxv8OQUmyaSYulb0U7SOvT9iOjZMps1jDlVBhAlcUyydIYKA8lMWQpNfJLv9aSJeAn/+umcl4EEarQnXeaXcvQpcxegiX+xCfjc8hXzi4XoLmEPp1V7+2UqoTau9KrQxu55QT1cEYWvDJN76Io3D9FuXa+DGSZUbrN5YJGUdRkRq5BN2FMatBxitnqWDWI/QAtAwo3+UkMymBaHGYAAAAwAAAwEHAAAAtEGeyUURPEcAAHYIX1kEoB3oCaj77UXWnbSkQ24RIvFr/7tx1zRWt1v/mNPhY33B/BYS/8eXtGVx6PtTILbTSHFihsrhzLI9MqG9HkXXnD6r9HmQgLQ5ADDFy0ZgPaykda45nFL6cpW7NXk9idy3h48lHKiNJrQP2NHy1yrrosJ1h45DNwdbsPvKjFKH4nEH2fQubkIj4D0aYa6ezDNa2x8uF2wo1puQIP0lfSAAAAMAAAMD5gAAAEUBnuh0Rn8AAF8cYP+tAIez0nLoWLi5YngPzHI8sp5ju/LoJuL95eILNM10pLepLhRqCSl2t0KCrolVSWAAAAMAAAMACkkAAABHAZ7qakZ/AACIgAWOPgS9Sc81QAyCUJLApnEurdykpCtsY2X8NNi7tfax1IlUdZ+FYaGdX8y+zHp+iNoNVGAAAAMAAAMAwoAAAALuQZrvSahBaJlMCL/kQGx70+0afjXMqVORzOXmdSaLgDAQiVNuVksK7jQDrJJOD3v5YALiy18ticg7xBqOgkV3244VARN81T1T4L2dJmghvIml4ImU1ygSCfoUZNDS/x0OujT4E9D8nmUsjxoJreoTd/gAOCHdiwc6cR6NC3lJopB4EbAsTC1obTFGAEbSPrdjP84TMBVPFlAHcc0RSD/DO4WLF6zuqGUM1DYtfcC6JQzh5XrQ8HoGU0WXXo6//4W+kvhAaZrnpiufzRmvw1uLIGzG5FL4Q1LtDdl9ljiZEPu08E/tEGBCCWb/uY4LIjyaFBet5IluJ27+hzlcNtlSNi/nsJ9MvQLOqGSzjauRtw+hfKw7NcERxyMH53PL0ajmgjawV6gA8S+Y2YKOjiH6Tc80b98SOizcWTcbJQ8Zg+HnWkRpkvCROkfn2bIQKKghhLW6BL5sym94wd9oXZ09w9RPEnuNurtQRQfgTS3cswv5aALtqBY5F5XA8MqmBlSHDt2Vl2E0np37+o+dMC8TyQiPWnV5gL6Byzn2HpAd+D2tbU9fznhwKZDNetENSepXDO5m9G99cllSij6HFb0Dy9RbZylodg/4UaUyUZrHZPDXxfC554EydvwCRnaMf614hAOySaZZivKcojkg1PEZZPJSmCK4bi5ggpQZLcF5PCYiGCc4z7dLauJSsAcdfVNhvy+C4JFVQQneJKZaPHNIR2ZJxzgbqOSsyXzq3qPvWfkpqQpr/zU+c7c7uACuremgoaNXt4XuGZ6cageDR/DM3aanR2Tzy20ZMDi1Gm1TkN94zk5AOPZjDW2UMqkZT0Op1X/RoO3cVoA9tD0LKTLcjDmSYKRAA4kW20RqaIEUd7As/Fqhq349yRqVAdQK2qOT8X8nAK8t+v2imD/QerBM1BOu7Af3DImOpNkcWOg6//qUdH7aWOR3gh+JCVR4ggQrOw9hbC82klZ2E8wY++hwmvJ9nwRsAAADAAADAMWAAAAA60GfDUURLEcDLP7lLMQMXlBk20TcnDlEftapzC6w9gkagqGP/y0Tef6g9aNsWlpwXmFCX03CY1dFSat+C2av/+PuE1SvllapK2/PlC8UN5VlVxESIAufLDAIJfE7wz737fi0aSOisPJ/zsGvP1cHng6lNbTULPNcwdt2PvPFFv1YgctffVYu8s4KjSYLSXqa72XU0kAE6p4N2CyBcFntKVnBTAZ94gUUneUJP87LEpnjENz1EJ4BA/56S7MXNK/sCXhbFXO10svpwRh7l7OLNAduPLEzSQfDkaZCmyrTUcI54bEYiIAAAAMABvUAAAA6AZ8sdEZ/A8SXF6walfnJieJLFiXqsQfh6tq40rVDGFp8bNn6Qh7oPeMiB3GjR+t9GgAAAwAAAwCLgQAAAMEBny5qRn8AAGqAACAFrbYMQWqcyfLCh8sQY/xliIvuW40N5jhZ1mt/fWcr1LfzYaX7j2Qz0BWPhxCo2eY8TbhJo+nF9+knO0rAEGUSyaNjFZEX/+lj0MPnDvezccOx2aeZ4DCr/3fdSa1O2o3KVjtjW2qrHNtGCO+e+Sc9+OMI7PZbAgLSAQe1F0fCGfn+LTcV7/iLAGVcCgthe0IM3631wj1zveLMacTxFBirx5i2Pm4AFf0vHHZwkoAAAAMAAGBBAAABYEGbM0moQWyZTAi/5EAAAAMADD13Bqa/hZAt4F48s3OiP4KoGJwsfHYjmgFb7gpuO/sSUfQIOySF251RSzbrLbkUYECZF0vRjyYK1qDUOq62jgkAg3qrPWZ//ZU1AQgK+OWI2h1G3vlsbuaiE+rW9j4qySa8cDTKfU4hIcYy9cX/wzCak0C4AAANRfwGNl1YcUy+S/Kt9jgzVacmY30z+YPevisu0DlpETX0T3ywh3o+kgkGmNi7derRmbN1yCwNt6Rr0QDHccACdkSNHQs4k6GWLBhUkDTnuW9mlPxzrAJQtK3kQuvjM2fL//TjzJBVNrJZFRq4DGzT2qTh08QbkUvhDUu0N2X2WOJhf1enyfmwMw/GEp0bQ5jgsiPJoUF63kiW4nbv6HOVpcPrOLcgXc/8kUTXXyWcbVyNuH0L5WHZsOqLFd1UVgXWjheKHNgr1AB4l8xswYgcAAADAAADA0IAAAC7QZ9RRRUsRwAAAwA55DJAAAAYBQVhmH0CWoKUS5+kPYArBz1iPS7Vf+8WDLf3blC7tgtl091/+8jEmymsIUACn6/ef81rQ5kpuZefKbq0PtJh3VPe7cYM85CaK7FaoaCpF+npfQ86yLHP6kPBsyOOV0MVHBAwcYfgvhSWOfJchBnQzLECgexWys7cRkliVil5smRUlb7r1K1RXVJg98Xg6OIuoFiCXhlhHXJdCyOCOE4wWgAAAwAAAwAEzAAAAHYBn3B0Rn8AAAMAQlJZh+hRQADXrCAZDfKZXwcpyPSqz/zJbYTh/6D3a5FwihsXONtwLarKcJQ2Sc6dtFBcCdbschaySTc1G+9lqTZ3I/BqhkX14sFIIBW/cJJkrqodBP7H79A/J1c42FNS1mJQAAADAAADAAYFAAAAfwGfcmpGfwAAAwBDBle8pgdtAmNEmMAIB9VOPro2GqynI9KrP/MlthOH/oPdrkXCKGxc423AtqspwlDZJzp20UFwJ1rDwFrJJNzUb72Uk+wTQUGRCp9eLBSCAVv3CSZK6qHblKamUsH8M138nmFjmCud71HXA4sAAAMAAAMAB/gAAADcQZt1SahBbJlMFExf5EAAAAMAAMPoee83UABzE9jji3VVArHBP7LpsixAhco7knj3Trcbtflg1oWrvXg2r29sYmdbYfGVaE4el/27fSaEIXTz09NdbEfc5rrG3BPqOqtBWYUBUc2ZLCyGiEW6HNXK+X2KnEx6U2CLNqRovNh5RqzU1s4vMaC5RXnnfkcQmcbOHL6G6R6tHk+ptJTWDHKNNSOZFMfWFrOvHvIf+O0MlZEoC4OdD3op1aU1Gb7+pnanPWoS+HsBF6QZNk9UlZpqKKAAF/NQAAADAAAeEAAAADoBn5RqRn8AAAMAQ18OCjGP1QhaWAmwltpS7M7qxOcBUnN8AY9JUSlpfzkkw8RqbPJ62UAAAAMAAAQ9AAACA0GbmEnhClJlMCL/5EAAAAMACeX2fVwqyhDp8UO+/Bx6MuBSRZI8wDJeWAJjvqVlYdelhU8c/V+ovRgTBbmktlr4lpRCRsDB0ESBi1oTD6aBb1EUh+f4809ruLIG5S48Paegq5x5MHyOT9cah84414E4RBssHLY0cykkNz4L+mWXOHU2QguQj3fR89CKNbnZ2kMHbx2OMg0JIyamnps9HExqwZYI90+vKusuP1v/s+dVUOuoXy7alCX8Mh5RlbVCqMqlGXsjAgX13fXazJhfwxpyQRNptnAeKhNxbU1vS5szTHbmRJi8VOizCMc90UZIWnRmz4S0sdvlFOUjNkGbTD9dgMORntVA0xUmQrwmbbiRjaWJLLXYmtsX8MfbKiSN1VGzpgjoZcNUZsfAAVtsJUWgznWGxPp8dkN4Cdli0EH+Io1nGplQdh1LTmOwAfMedhzIOFpGC/zDlipCOUXOLnONFNOjfGl6iAAg5+hJBnCU1/lJLpsY9Swge37zdlTqOjA40FrCHOsukSbN4OCqQ0NkhuhXgF4ZrBqed6b80PNsyRediwknOH57o6OmAyMnpaUWkz5QUaR15dv7dkAB0/OnuqIvXuyI3U2fqWIabXJ3PF9Yx9HbspD5jhJPROecOMJxXURnn2OpJACxla2///n331NoDmHP33kgAPhMAAADAFtAAAAAnUGftkU0TEcAAAMAOfSw0yQ0BGmd8t5GAAze2j0vuBQZ653BxbALh74/+Os3lvty1YI/NQc6tmP0FLVw2qxFKvzFaKf4NNzN9c3og35wMHHdVA7sXYF49f4x9HwAKnspVEe/wiNgT/WLp4GPJ07bZ3xCdklvmNuN1QY6YbgjyBw9lXgZk6fV0npAkmKYVc0Bb/src3O279jwAAADAzMAAABgAZ/XakZ/AAADAEMF6ksCkAR9jclAARj7uzQg4ymK//8qn+IIK40cutxo78klTlxnU7PU4bBY1rjmhFJLqhTD1M3/x+v3A+yggd1XYA9JXD3LcVYLw1ZVgNTAgAAAAwFBAAAAqEGb2kmoQWiZTBTxP4cAAAMAAAMAAAb7m1QOA1bKV4J8/Lnp0QBxlhobNUcmfEuCUiDzEAWmAGcxQfhFfM9nTyCVSEkC+V4T9qyxa1WPOpNJHnYxTeOO/pwpNWAAAjSvPOogElBGnPyl+D1B25YfcYGFCWblpn474LRY7CYSswUGCvGofN4Ee6QK6TBK32R3HGt0bqgZd9rkHae154Wjh2HDgAAAAwADqgAAAFIBn/lqRn8AAAMAQ17wgAV0AAJxgQfk6qAW9HmazkelVn/mS2wnD/0Hu1yLhFDYucbbgW1WU4Shsk507aKC4E64dySQm/UVP4lR3n3wAAADAA/xAAADL0Gb+0nhClJlMCJ/hwAAAwAAAwAAdTD9UCk9QL7//4+g/yYVh/PYkuk5O2MHYuHDBga9c007W/lg3LegJWlMF8+AMEQv+MTA49KlwwbSIwuj6bmrud5Raq3e9vzoHbHss53m7LPNwPv/2v7Y3xtJnohtmU8PP2oLsMBM2Xx1agMYazJ7mxbwx59dGROfVLmb+hnRgkMyTeJX20VlrtG4AAADABE55DMvSbC+hmgQcWpJHTTqXoKXGETASoRB8CTkZumaea3KvrIjkEjvaG0bLVLUbeqUgyx8OWBBFRMbQx7+oZjH0hSiIP3FMz8Ceg4opXhdbqepe8VPpS04zjEgBDOeGhhjlD5NZpzeqEPvv5ogitdbjO7AN605tbW9EgvV+8Lr0bLZ1fpdy2NQmxx0q0glYLNh9dcYYowToUY+srHTn+e2p0my9S8AH/mOyoRbYCAIKcETenbeWT44LaaT34tew3BetXoJTizp+Qm/gN85ygovGLbc40H9dF/nRgiGcN/pnKMlyImIHww5nQ+38u61Q6pNjIMYg38eAXJehL8RocP/gwAUg2yIPg08NcGbo+bnoi7Gb+c3SnSkauUTRYVxO2vr+9gmVSzAzPiszEu6hwtmpmhHnBbnHmc3lCcQfgJ7f9ySJBo670jbyfTulNtiSoGRIm5AI2y+gFYxJE8OQF7dBgDKn3dCzRaC7mhWKQcUe45zp61fCrFjroKC0rWwQZYxwBskAUjZLvddH1qnDyti2OC0yGLLqEpbrddzIWGBGNRmP1mzS+BOs8kWuFVBBt5bScBmhjZ3MrTRjiZQE/DYhOTVQkJVqP1NH4DiZj1N44r3uVUhhgRe4Zd417FI3G9qEsavL2kj9J19dTNWNN92A4VxoOdJWsxznosx5jyC8D6KuFXw/AQfU/ipJreJwPgh7N6REvf56kZ6rt+WY1o3mHtkhT0+tnt770NGN+i+Palvr8kaupaR4h7Qvvt+/uw7Fb6JKTHBRSHSPnlMsoX9Wrrzfx6KBmdFetJgBWMduFHw68H86HiFJgEHRUiiYH6oNKWd5AcVQwWX4gSmkDQLBUUG/HU+AAADABlwAAAAp0GaHEnhDomUwIn/hwAAAwAAAwAAdTjvQQqtwNPGB+l8QAAAKzHgrsJQw5tox81J2+2x/QRyfOY6M49u2pTJfs45ezS21eYfrm/vMz3v33+TFn7DL7Ydv4DKCILqyfZsjXjiZN19rf+EplRZCuyhmukuOMhnPvM3vbNXZTznndeMbd4fMkuH1Xv7uelmiB9LgRlSF8YLnnzxUZcei959RbrkAAADAHdBAAAAb0GaPUnhDyZTAif/hwAAAwAAAwAABvMyFmABluSMyEUiowHOiqpgbCvnuPDKcV9ULuooO7WB2c6O3oWmG5ij00Foi6FAW4biRwGJ/q+cPPg5ChxX2c4x8GFFTZTygxpz3xqRnGzxzeM32qA8siA7BQAAAFVBml5J4Q8mUwIn/4cAAAMAAAMAAAdCPCJFtABDAzMyD+c5jngEa0pQV2sY9TX7SebETYZcO+lx8HrROgqdOqzifj9EXK0laGDsULhXvYBWEU/vsEbAAAAARkGaf0nhDyZTAif/hwAAAwAAAwAAB5o8IkW0AEMDMzIP5zmOeARrSaAsr3OYjhnM8tLmiHVZaeW7ARd0E1XE+NtDpgDLwS8AAABIQZqASeEPJlMCJ/+HAAADAAADAEfJAiXulRJeRtPgZDrtUAmXZPTEqFlzMeyBg5z7sq5jvyq7oSjpA7610pedzLHgxQAAAwGBAAACFEGapEnhDyZTAn8AAAMAAAMAAAMAEcCbfIwGoBM3PZTve9A1IGQshcheQcUcY33M6UJI7Us/1i+LD3wJBf1Lt9eN9N1GlgtYCWO/sGY30dHTU1JCYiT0SxwkB71CVfmoAh090f4Ylo1RCnyiNDmTejbDunhi37CK+36e4AoD4ypvN/ilsTfrX/bRq/JlkL5+mFbs6q95EbfNnT7Q8gyUkO2Qv2x2Q+ZbFeUXff+Nz5oNZi8RYNeJg11bsSrVaSyMxT8Uh0eWKg5t19t0aKqvp6Y4sRWyUl/wig2sJyEMCLR2qJ2SeX7L8gtZdTZ9e3X0ZfaFx3u4owzZyL8o05WvGpQIG0mLae4upceA9bi1RrN4fQ6bC2e+6WpIDyYRviWdXliNv6k6vTKOkjj97s+DQF8X8QCj+hoMpzvXIC1MlsXT5SADmYreN0Ok2bKfRs9AvJogfhQxXPn/UXHCKkmmJPTbvv8N4HcQ1QiGQ7GMhTMcOnHxRV4m2qo9Kubbw9iPI381tlB2dsasWKTswAw366LH6wHQpLzLi8y7bcbNwC2hzCxuLemliUhTaOFim7qi+g9E3FNpAHJ2b84mTM8MW4LUVoh6ziKnwjH9IKd87DnNzc/xeFRzjPMdKUFYR7v9xIM32FMNRZU+T5X/qurpXj0qgV4nQzdZ59/lE0sXu+7kGDWPnwKS/OJKIJB9rqAAbQYAI2AAAACaQZ7CRRE8RwAAAwAAAwAChAAAeIdRkrBv8Gg2G8HbErX/VL0bfu3ojd4fNIztx6C3BI7b/EArCU+eMslp9P9150vBjCrY25yWW9VKVsz4hkQntVRARYUSQJqOSgKpEEO4m6zOJvp/aEO1e3APDCPTQwm5nkLLmeVI65svuYdJ14eUDDwLFyEMHg5r8U487wyJMVH1U1kdGyADFwAAAD4BnuF0Rn8AAAMAAAMAAviD8KSoFLOmrSZQn0xFBXnOgmPXYH0zHvf2ANyJisu8+ABIWk8aWYBXW63rAABUwAAAADIBnuNqRn8AAAMAAAMAAARkAAADAHrQeLCL7VnlzvuRi7d8kkoW4LPFlt1LfHw7GQABnwAAAUtBmudJqEFomUwJ/wAAAwAAAwAAAwAAAwIN0fIEIx5/hFaNc9itekdqTCtX7KT/l1mVmNmnLG/FAFM5xNSMvmCsIOxOm9CgSIC94KS5CS/zfJaYlObsQ/T7W71ApnCGsagJ6NUArZlLueuDat0DwMieIyzVxtB1xq5skMRybbVIUnoNxtRjyWp8EXABtxe3kESQhX0cJgL2QsEFRDSlzXwPl8RtKsCQj5br/EL7LgSTIigdJjjSxej7of9gAEDjxRGmAfq8WNNl6GQDFUva+sEAicAADD9SxTl1uqXUR/9kfSnk3DFbJRhDectZIN8Kc/p2i5C3ZrixXIV9QIeZBAO2K4wsUJswqrEvDIfMzmRxTXl/BYu8+lMdpa6NHKD4cRC5BBeLN79qehTtuz1UGm6NDHITFIL0axRAFgebRHILLSUFJNEt6FlAAAwJAAAAoEGfBUURLEcAAAMAAAMAAAMASkAAAAa9mO+IiSDYbwdsStf9UvRt+7eiN3h80jO3HoLcEjtv8QBUqwTcRlktlt0dLc/g0dd7r4o3/VQPDAeITBxlM6OGz61JoRpvuwmgWJ7oxK3HX1L0gG+Vy0iYDrbN5xw5HFjEuBTReEtP8H9QHOfKbjihPKOAdld6DEAT6odm1VzwpGueIYIi4EAAAP8AAACTAZ8makZ/AAADAAADAAADAFQbA5H6cXhVhJAABENtxIEDCosvg4DVilVn/2Ccjj9i9AIAsi0SYbFzjbcC2qynCUNknOnbRQXAnW/VUcskk3NRvyJTomQh5lha8ivrxYKQQC9AUYzpGZQXksxFKC+Q2zivEg66N23Jvvb7rdvVf551/9n3AD7cNRQASHkS1i0zgAG9AAABm0GbKUmoQWyZTBRM/wAAAwAAAwAAAwAAAwAyeKj4FI4ACPD//j9c/x51VZ5TY18exYYUKmcIIcdAEX8QB16rznBwSdututCjBlkvAaGxMS2kf4E9l/gDLQN7svSkDxcxszR9WlCqhVCDsoFycSEbjyzadcx1mxv6IglVXdvvXjDhXWY9ziUpJc/yb7CoFlKooN+M0XurI71k2lzOTwgUNIB90ZP3mA/APeXXJIPD0pxgJsLpq3kStEmU+svly79bxKAAGkTY8ndXtk31lpYiBu/tleoJvjnCiq3deNCEbUTX7D55SEEL/WkXB5eD2yz7n0nGOFCrZFrJ/+mctUy16/eQbI36vnqQgGB+qXmSiXDptdlG1+1o4abaKEA/Yjn0QjUY/78TKDqQrCqsNORXGZthHcntDnvuuHLFVSkZDM45kV3lwzfcC/ZX6/vW42zpqusp3bKOXw42/m3/yZWlYb+qsW71GNOomMEIfTjRCxI9QDcAWP0G3GU8kH5Z/TkTbUvyfoge0ghSoZI71NJo3X80Ujo3FDVXvwADugAAAOEBn0hqRn8AAAMAAAMAAAMAWMi6ACnKABB6f/8+g+jsK9hTPBBjSj+ueph0+sos1ydBeCzPF0rSrhUZ4AAAYQZK6MazrMdWE2YUFsUs/exv68L5sHUIxLMZeD9xllgGAFfVzwFae37uWjF6yEyYbAjsVMbCjE4Apn677eHnaak9zawYq5Ju0dwH4JH/XR+xA0rgMaJzzAbuDJ1ARiZ9DY8REy3914tanp3SwvfwSx2AMvbM8r8gJDd+evKIzzhxxWY6+fCjP1GAxmh7B3b5oEuvCKK71FrnBxyqnQA1vBgAWcAAAABIQZtKSeEKUmUwJ/8AAAMAAAMAAAMAAAMAKRykIALOblJqNHqM9gREHZV1CgIY7q0+KHe06n40zPVYU/kyPdI/LdxIZNtArm7xAAABjUGbbEnhDomUwU0TLwAAAwAAAwAAAwBDRVuKoA1b///n8pVK0HQ5bHR67GHbBamju3ZVceDnmNwMjIypJfVnMZzgSW6ZmyY6DaB/MHE/2nqDdAmEQy/6KAxTL/BswTT+i2kPAKet02nQUD26rj+JdJwM+Qq70nSTrpo6+Q/dxcZZ7g+XRhMOjhOGmchsug0nThYApz7+kERejCn5Zj1w4ydACe3lthR+vSVDxbyzIhyTauQH2XtRGtbekXXpyhREkMnBD4xC94Bqf58R6V0ENgX69bfX/8gLd4JIlf0RIHJkmUkMx8SeyOWteB8ZbY9l4ZYOPdKQK+5oZ9LLfuC6J6SSw6FozAQoq+i7cC4onnF9lRxIeLcUBvUQCXrewDP9yXqcxQ6p6i54voguIcvX/D08tk98IHNIM+GC91j5B/k0u6rVM9HHwPxcPzI7kONAFbWt8MGHzIDaeRaddE5AUHEO8A4R3zdEABvPL4OYvVaBYQZ/mIzOsft0Ia1Emrdrg/ixzGt5HaLuqKIfIeAAAAA2AZ+LakZ/AAADAAADAAL4cRhhBj6DJ7Y1t33xihty3xAexsIi0WOxMmS4ghln3eVhD9pzYAyoAAABQkGbjknhDyZTBTy/AAADAAADAAADAENN4cYSAEPt0U/wa5ok0VV2KwggrT8WA+7dQY4O31VdFl87z31g3Q3Au/UPY886KQ9ky7rwPfOS/mzy5y3KqnMF3Yx8ZOI27k2iWs2rAVxUiPC9/2kvr8HWdUDEx3ON1taaHyRlW4+7ocNyO55suYntdwdvweKYP5bUZguxgVgaew1/j7pQtsaX80LIw1IacYHBdPShxWb8Fx0UvdMsvcGQBH64Mtqvcb6mbqXVQTQlmyPSE1rcweFOFjlf79q0Thvg6O07LA0CJKA6+NoCkDSRsLuUHwLc5jfZ4aCxjMDlydmEyD3qlCmOMSpQqYWz7MsRzF1mOzAeWwvH4ia3WpZmaDeclWruxOynv7NWAosjUSc63xH9c0IV2bbu8ouC0j4ucK42ako3z+IABQUAAACqAZ+takZ/AAADAAADAAL4cRhhBj6DJ7Y1t0soo03azlU4Nes5GaFU8DhTOeLYPpjwR+WqG3/Hq20CIzK+2xSYuP8MVZAy5CUgKOgYX1jxO0tMjr3V9ztTfI7udJ4us1h76UQRw65qukvpPLB70z3lH3wyZD9p339NzIh4WXzIiH9TSKLGknVeACJhAPzm5My5FoD1fUIQQgtHAudbUM8QcjG25xobAstgYsEAAAHgQZuySeEPJlMC/wAAAwAAAwAAAwABKxWTa4A1b///n8SVK0HE/jHOspGBW1WqPfY3O0M6rOoi1SGbXd1EFrGkWI/wHEvBdgtBRorKUoLwK56Tv8k348dLhPvFoLweLkv9gDWiVjw9iqLBWTBGCtElfPDYrX78RySWoq3gcSn/Dmi4alttMhOOImmXw/8BcQBFE3bZ1r6bd2IgIRhqy7Sbi8ikkpB2u6bprWeRMv5o7AE3XxqgHPX1Up1k1KSsHaZf//n5p9rfNH6GkEBj547WqUypPZ3eoCUknch/A6t+lQ6yoT6JB7P3X66o3zy3qdPmsJq4XJWNVm7vSAh9BiZ+reThbVbfjgo39+kR9cz7kVtxDErQSjnev+btayyqsBMnkGUlC3z7yn2Ta6XdWMXBin3VWavv7wLO4fF3oOp0KO4z5GSn3Tj0SvwR84WcfzrgofyTNmMYHIRVyn8bIXgu6CFxf3vBe10qRSe5ZbVbpyiw8v4mAImgXDBPafhKqOQy++UQRgx8XK56b9duHgheMoPTxt91MrMAbDaBD3swRPJgek9HYCpzQKPnLAFLLPt2a7ve2iTwZCME6gExfTPZlkiB/PdJLllOLM0V00WsmyppzLLDNTT3z3nl/fFrACdhAAAAZkGf0EURPEcAAAMAAAMAAAV0AADxDqMlkX2hYioxl7nay+1G/HuVGMdmARjGHcEQk4Xe6NjYKGXgmchqze2Tz0iDIPlCXnfYkHRDksTtmscTKqHv8bXdGTG/Fx4n1miThXyKsIeFXAAAADcBn+90Rn8AAAMAAAMAAAZpB9ZTu1IBWvuaQ53TRAZjm2gBFulow3Q/fJpZN72kmfB+O6EAAPaAAAAAkgGf8WpGfwAAAwAAAwAAAwBtAkTWWmCCkhaTGm/+U7bmZBqqtDX/B39luD/g5j71iOFyvAU1yIc1hw1VeyW3XWgDYwyxHfBIic8FsFyiSD63g1EI3xRch3boWeNrajdzWUoQhKn+fdFojQM7MCVeE3D8pGxfLDaSwxkCrnABnar85+AwCyEieOt5CXYHEqLSyQGzAAAAVUGb80moQWiZTA//AAADAAADAAADAAHwoqz1ABBrG464xkN2PXIkaHWzMPBfkuq0wxY75o3gq/SDZxRspTigUiqm1G8Mfr2mgOEHW48fDH9R/HWgDPgAAAE7QZoUSeEKUmUwPwAAAwAAAwAAAwACKDe6bIeoAfv1GqUCIKHDqgFU/jU61L2okZWwKhvHzMigxYoweBa+I6wb5f+gvto+uPSCyYWqSt8/3cCan3ruKtlv9iqXTvY7iVpWFo0o4yCAu/boddtOy/Oy0UdS9cQ8FGMCWVoz6rUAbNx/g/DY4/Z1O+2+DmrPVxWvShhsQXpjg33d3yS37MNtno9TJdEbmc6CFqMmOzuutUGe0FF79cuJIPcts5jyiTTIEQWra2MC6nXY53R1lyVCgPCl9g32km1RBfoPjiGBSsD4m/6eUh3hEH1/tuzlKYAb6R87bdxv+IQSEn/LCyoDz5com/VTnMEzW4HM+8eluQoKLmVID5o9Q9c5hnfQgGCdB0fkGnv6w1Kku3vAzYV7e0+iN/CyHDCj5D/AAAABsEGaOEnhDomUwJP/AAADAAADAAADAAAMfIZ0AAY7Ycc8GRB69DnGfjVx///7+UqRZRNuZK4COfisE2aF+PkIDP0AAAMASx7uUhWiN8Pt1mNstOIJ9m5RkX/+Ib3pcJT7p3Ycyy4OPj6x23JfRbmMQQCBQxoZ33PEAu+8mJk4X9Kh6DTFgexTOZS5ZGD+yHAg4l+SZEgUJTJhbJmk72c9sWl9rN52NwOLTqpov2Rq2PgttnzCpjsn+DLAQBKz/Pys4F8xtDlCkgVQ44wHf5LqKEifDJRf+Fd80dqHoWzUmlaUA2zrYIqZPKxcHstvuVimqfhe1P/3+xUp9ClQsJ4bIZPKn1+BwDAGUX1/RcBBU9V77//eNjnidi765ns6bRtvfZN9bft0TbIPAGojQQwNuZRP6JLFoZQ2c7J42YnfFXxUSmtMRA6CfHqNHX2KkYNcsHgXgvS0r6WOFhgNv9qAOKYfKnWyTLWzUVKEmS/wf2JE6Cln1GrWopfz0YtyIc6bDJyK1LMID8e2ltSpUKMdKRo9VwkCG6zA0cIa8Kh6BCxO/gr5cuIwwoV1WHnsdcAwIQAAANlBnlZFETxHAAADAAADAAADAAgglS50P8QAASAYBknq5kB16hOYp5gMzznh5I1CiAB8wnrV0abnMkvOQH/CZsIsAuHvj/46zf7uogLfVitiUo2ZSuFxPARDT/ZABUQbBn/NJ9X9ibqcv/tuQ0Sh8hPm4ZiwF0c1/YfbM2slALRQyW8zzybJAP/itEr7QGEr7z2i6aVF1caR1C4GSw0P2mXBiNQQ8TBGffMaLjYTqj3nMqTtjCJK3ofIUgWhLblyI9vzqihjmmKEaXqLQPHygDHO0Dv8Z2VpkPmAAAAAlgGedXRGfwAAAwAAAwAAAwAAvAACUVWVXu0CpNDYNuVYpVZ/5ktsJw/9B7tci4RQ2LnG24FtVlOEobJOdO2iguBOszCAtZJJuajfey1Js7kfg1QyL68WCkEArfuEkyV1UPMt+XmnjIcM1q6gbmY+B6dx1W/xWR46rcwRlwR62liA8H2gVdulAvaWegKAS7VD+xnQWoAJ2QAAAEMBnndqRn8AAAMAAAMAAAMACYgAkEAGdOo2sxfOwvu4CHuoF98qpTtUiECuUmVpYJoNFZKe7JHK2Wy6k4pcz6euwJFtAAABKEGaekmoQWiZTBTxnwAAAwAAAwAAAwAAXXJagBUFPwmcKSGSrL14BQj7ky50NgJZubruxatIXRfdPfjH/+/ZdzEKFQjV7w/9xoQRnuYFLx7zg0hmU2Gbn4X9GYUKK+AsU0m7nxmwuTzcmHcESLspQU82ILwcD99ZZ82HpZpboXW3G/7HWb62WLoh/gYu1yV6VlSEFGY1nx+YucGTg9AoryqMhn4q4nUfpL5/ezZDeM3L7CHbwT3VjnZQO/AuPy0tWNi0YBlsCTiBqIiigTUIrDYL3Jp34a5fYnJUDJdYbP6d6A5FFHqsBvDQy81X0A2dskbC4japRMvam7PlMoPDSXRWMFdOH5hE4cA03V5YtYxT+uYoCUGH2bmysmNjTNhsNxpcha2W3J5AAAAAkwGemWpGfwAAAwAAAwAAAwAJiACQPtpN9AmCFlp/1/9Z23MyDVVaGv+Dv7LcH/BzH3qMLpWzwFNce4B68lHCKlt11oA2MO+UQuvy3d2+erSPzpAN1eCQKLkO7dCzxtbUbso6vhwQ/K7tLmiNVZLwRp0mO6juecy5mvs89My2+I/n/xJ7JKtJoTCOzHrox4SWdPnXTQ==\" type=\"video/mp4\">\n",
              "  Your browser does not support the video tag.\n",
              "  </video>"
            ]
          },
          "metadata": {},
          "execution_count": 25
        }
      ]
    },
    {
      "cell_type": "code",
      "source": [
        "# Set to use GPU\n",
        "device = torch.device(\"cuda\" if torch.cuda.is_available() else \"cpu\")"
      ],
      "metadata": {
        "id": "P_yzi-IamaTl"
      },
      "execution_count": 26,
      "outputs": []
    },
    {
      "cell_type": "code",
      "source": [
        "##############################################\n",
        "# Reset Environment\n",
        "##############################################\n",
        "def env_reset(env, seed=None):\n",
        "  if seed:\n",
        "    torch.manual_seed(seed)\n",
        "    np.random.seed(seed)\n",
        "    random.seed(seed)\n",
        "\n",
        "    return env.reset(seed=seed)\n",
        "  else:\n",
        "    return env.reset()\n",
        "\n",
        "##############################################\n",
        "# Preprocess\n",
        "##############################################\n",
        "def preprocess_state(state):\n",
        "    \"\"\"\n",
        "    Preprocess the state (image) from a gym environment.\n",
        "    If the state is a single frame with shape (H, W, C), it returns a float tensor\n",
        "    with shape (C, H, W) normalized to [0,1].\n",
        "    If the state is a stack of frames with shape (num_stack, H, W, C),\n",
        "    it processes each frame individually, resulting in a tensor with shape (num_stack, C, H, W).\n",
        "    \"\"\"\n",
        "    state = np.array(state).astype(np.float32) / 255.0\n",
        "\n",
        "    if state.ndim == 3:  # Single frame: (H, W, C)\n",
        "        return np.transpose(state, (2, 0, 1))\n",
        "    elif state.ndim == 4:  # Stacked frames: (num_stack, H, W, C)\n",
        "        # Process each frame and stack along a new axis (resulting in shape: (num_stack, C, H, W))\n",
        "        return np.stack([np.transpose(frame, (2, 0, 1)) for frame in state], axis=0)\n",
        "    else:\n",
        "        raise ValueError(f\"Unexpected state shape: {state.shape}\")\n",
        "\n",
        "##############################################\n",
        "# Epsilon Greedy Exploration Schedule\n",
        "##############################################\n",
        "def epsilon_by_frame(frame_idx):\n",
        "  \"\"\"\n",
        "  Returns the epsilon value for the epsilon-greedy exploration strategy,\n",
        "  decaying exponentially from EPSILON_START to EPSILON_FINAL.\n",
        "  \"\"\"\n",
        "  return EPSILON_FINAL + (EPSILON_START - EPSILON_FINAL) * np.exp(-1. * frame_idx / EPSILON_DECAY)\n",
        "\n",
        "##############################################\n",
        "# Select Action\n",
        "##############################################\n",
        "def select_action(env, frame_idx, q_network, state_tensor):\n",
        "  # Epsilon-greedy action selection.\n",
        "  epsilon = epsilon_by_frame(frame_idx)\n",
        "\n",
        "  if random.random() < epsilon:\n",
        "    return env.action_space.sample()\n",
        "  else:\n",
        "    with torch.no_grad():\n",
        "      q_vals = q_network.forward(state_tensor)\n",
        "      return q_vals.argmax(1).item()\n",
        "\n",
        "##############################################\n",
        "# Custom Reward\n",
        "##############################################\n",
        "DOOR_OPEN_REWARD = 0.4\n",
        "DOOR_CLOSE_PENALTY = -0.5     # Negative reward for closing an open door\n",
        "STEP_PENALTY = -0.01\n",
        "INVALID_TOGGLE_PENALTY = -0.2\n",
        "DOOR_VIEW_REWARD = 0.05      # Reward for seeing a door in the field-of-view\n",
        "\n",
        "# Constant for door type in the observation encoding.\n",
        "# (Assumes that the door is encoded as the integer 3 in the observation's first channel.)\n",
        "DOOR_TYPE = 3\n",
        "\n",
        "def custom_reward(env, action, reward, done, truncated):\n",
        "  env = env.unwrapped\n",
        "  total_reward = STEP_PENALTY\n",
        "\n",
        "  # Check for goal achievement.\n",
        "  if done:\n",
        "    return reward\n",
        "\n",
        "  # --- Action-specific logic ---\n",
        "  if action == env.actions.toggle:\n",
        "    # Compute the coordinates of the cell in front of the agent.\n",
        "    dx, dy = 0, 0\n",
        "    if env.agent_dir == 0:\n",
        "      dx = 1\n",
        "    elif env.agent_dir == 1:\n",
        "      dy = 1\n",
        "    elif env.agent_dir == 2:\n",
        "      dx = -1\n",
        "    elif env.agent_dir == 3:\n",
        "      dy = -1\n",
        "\n",
        "    front_x = env.agent_pos[0] + dx\n",
        "    front_y = env.agent_pos[1] + dy\n",
        "    front_cell = env.grid.get(front_x, front_y)\n",
        "\n",
        "    # Check if the front cell is a door.\n",
        "    if front_cell is not None and getattr(front_cell, \"type\", None) == \"door\":\n",
        "      if front_cell.is_open:\n",
        "        total_reward += DOOR_OPEN_REWARD\n",
        "      else:\n",
        "        total_reward += DOOR_CLOSE_PENALTY\n",
        "    else:\n",
        "      total_reward += INVALID_TOGGLE_PENALTY\n",
        "  else:\n",
        "    # For non-toggle actions, check the entire field-of-view.\n",
        "    # Generate the agent's observation. The 'image' key holds the egocentric view.\n",
        "    obs = env.gen_obs()['image']\n",
        "    door_seen = False\n",
        "    # Iterate over each cell in the agent's view.\n",
        "    for row in obs:\n",
        "      for cell in row:\n",
        "        # Each cell is encoded as [object_type, color, state].\n",
        "        # We assume that a door is represented with object_type equal to DOOR_TYPE.\n",
        "        if cell[0] == DOOR_TYPE:\n",
        "          door_seen = True\n",
        "          break\n",
        "      if door_seen:\n",
        "        break\n",
        "\n",
        "    if door_seen:\n",
        "      total_reward += DOOR_VIEW_REWARD\n",
        "\n",
        "  return total_reward"
      ],
      "metadata": {
        "id": "mD1EJMx0xim9"
      },
      "execution_count": 27,
      "outputs": []
    },
    {
      "cell_type": "markdown",
      "source": [
        "# DQN"
      ],
      "metadata": {
        "id": "ePuMBR7noGyB"
      }
    },
    {
      "cell_type": "code",
      "source": [
        "from IPython.display import display\n",
        "\n",
        "##############################################\n",
        "# Define the Q-Network (using PyTorch)\n",
        "##############################################\n",
        "class DuelingDQN(nn.Module):\n",
        "  def __init__(self, input_shape, num_actions):\n",
        "    \"\"\"\n",
        "    A dueling convolutional neural network that maps image observations to Q-values.\n",
        "    \"\"\"\n",
        "    super(DuelingDQN, self).__init__()\n",
        "\n",
        "    # input_shape: (num_stack, C, H, W)\n",
        "    num_stacks, C, H, W = input_shape\n",
        "\n",
        "    # Define a convolutional backbone for processing a single frame.\n",
        "    self.conv = nn.Sequential(\n",
        "        nn.Conv2d(C, 32, kernel_size=3, stride=1),\n",
        "        nn.ReLU(),\n",
        "        nn.Conv2d(32, 64, kernel_size=3, stride=1),\n",
        "        nn.ReLU(),\n",
        "        nn.Flatten()\n",
        "    )\n",
        "\n",
        "    # Determine the size of the conv output for a single frame.\n",
        "    with torch.no_grad():\n",
        "        dummy_input = torch.zeros(1, C, H, W)\n",
        "        conv_out_size = self.conv(dummy_input).shape[1]\n",
        "\n",
        "    # A fully connected layer for further processing per frame.\n",
        "    self.fc = nn.Sequential(\n",
        "        nn.Linear(conv_out_size, 128),\n",
        "        nn.ReLU()\n",
        "    )\n",
        "\n",
        "    # Value Stream\n",
        "    self.value_stream = nn.Sequential(\n",
        "        nn.Linear(128, 128),\n",
        "        nn.ReLU(),\n",
        "        nn.Linear(128, 1)  # Outputs a single state-value estimate\n",
        "    )\n",
        "\n",
        "    # Advantage Stream\n",
        "    self.advantage_stream = nn.Sequential(\n",
        "        nn.Linear(128, 128),\n",
        "        nn.ReLU(),\n",
        "        nn.Linear(128, num_actions)  # Outputs advantage estimates for each action\n",
        "    )\n",
        "\n",
        "  def forward(self, x):\n",
        "    \"\"\"\n",
        "    x: input tensor of shape (batch_size, num_stack, C, H, W)\n",
        "    \"\"\"\n",
        "    batch_size, num_stack, C, H, W = x.shape\n",
        "\n",
        "    # Process each frame individually:\n",
        "    # Reshape to (batch_size * num_stack, C, H, W)\n",
        "    x = x.view(batch_size * num_stack, C, H, W).float() / 255.0\n",
        "\n",
        "    conv_out = self.conv(x)  # -> (batch_size * num_stack, conv_out_size)\n",
        "    fc_out = self.fc(conv_out)  # -> (batch_size * num_stack, 128)\n",
        "\n",
        "    # Reshape back to (batch_size, num_stack, 128)\n",
        "    fc_out = fc_out.view(batch_size, num_stack, -1)\n",
        "\n",
        "    # Aggregate features across the time (frame stack) dimension.\n",
        "    # Here we use mean aggregation, but you might also experiment with max or even an LSTM.\n",
        "    aggregated = fc_out.mean(dim=1)  # -> (batch_size, 128)\n",
        "\n",
        "    # Dueling streams:\n",
        "    value = self.value_stream(aggregated)  # -> (batch_size, 1)\n",
        "    advantage = self.advantage_stream(aggregated)  # -> (batch_size, num_actions)\n",
        "\n",
        "    # Combine streams to compute Q-values.\n",
        "    q_values = value + (advantage - advantage.mean(dim=1, keepdim=True))\n",
        "    return q_values\n",
        "\n",
        "##############################################\n",
        "# Experience Replay Buffer\n",
        "##############################################\n",
        "class ReplayBuffer:\n",
        "  def __init__(self, capacity):\n",
        "    self.capacity = capacity\n",
        "    self.buffer = deque(maxlen=capacity)\n",
        "\n",
        "  def push(self, state, action, reward, next_state, done):\n",
        "    \"\"\"\n",
        "    Save a transition.\n",
        "    \"\"\"\n",
        "    self.buffer.append((state, action, reward, next_state, done))\n",
        "\n",
        "  def sample(self, batch_size):\n",
        "    \"\"\"\n",
        "    Sample a batch of transitions.\n",
        "    \"\"\"\n",
        "    batch = random.sample(self.buffer, batch_size)\n",
        "    # Transpose the batch (list of tuples) into tuples of lists.\n",
        "    states, actions, rewards, next_states, dones = zip(*batch)\n",
        "\n",
        "    return np.array(states), np.array(actions), np.array(rewards), np.array(next_states), np.array(dones)\n",
        "\n",
        "  def __len__(self):\n",
        "    return len(self.buffer)\n",
        "\n",
        "##############################################\n",
        "# Plot Results\n",
        "##############################################\n",
        "def plot_result(log_every, rooms, episode_rewards, episode_steps, episode_finished):\n",
        "  # Plot rewards and score\n",
        "  fig, axs = plt.subplots(3, 1, figsize=(8, 6))\n",
        "\n",
        "  # Generate X-axis values (e.g., for every 100 episodes)\n",
        "  episodes = np.arange(log_every, log_every + len(episode_rewards) * log_every, log_every)\n",
        "\n",
        "  # Plot rewards\n",
        "  axs[0].plot(episodes, episode_rewards, label='Average Rewards')\n",
        "  axs[0].set_xlabel('Episodes')\n",
        "  axs[0].set_ylabel('Average Reward')\n",
        "  axs[0].set_title('Average Rewards Over Time')\n",
        "  axs[0].legend()\n",
        "\n",
        "  #Plot scores\n",
        "  axs[1].plot(episodes, episode_steps, label='Average Steps', color='orange')\n",
        "  axs[1].set_xlabel('Steps')\n",
        "  axs[1].set_ylabel('Average Steps')\n",
        "  axs[1].set_title('Steps Over Time')\n",
        "  axs[1].legend()\n",
        "\n",
        "  #Plot episode lengths\n",
        "  axs[2].plot(episodes, episode_finished, label='Amount of Episodes Finished', color='pink')\n",
        "  axs[2].set_xlabel('Episodes')\n",
        "  axs[2].set_ylabel('Amount of Episodes Finished')\n",
        "  axs[2].set_title('Amount of Episodes Finished Over Time')\n",
        "  axs[2].legend()\n",
        "\n",
        "  plt.tight_layout()\n",
        "  plt.show()"
      ],
      "metadata": {
        "id": "J08AyMRunuQ_"
      },
      "execution_count": 28,
      "outputs": []
    },
    {
      "cell_type": "code",
      "source": [
        "##############################################\n",
        "# Main Training Loop\n",
        "##############################################\n",
        "\n",
        "def train(env, q_network, target_network, optimizer, seed=None):\n",
        "  replay_buffer = ReplayBuffer(REPLAY_BUFFER_CAPACITY)\n",
        "\n",
        "  episode_rewards = []\n",
        "  episode_steps = []\n",
        "  episode_finished = []\n",
        "\n",
        "  frame_idx = 0\n",
        "  losses = []\n",
        "  finish_counter = 0\n",
        "  best_avg_reward = -100\n",
        "\n",
        "  for episode in range(1, NUM_EPISODES + 1):\n",
        "    state, _ = env_reset(env)\n",
        "    state = preprocess_state(state)\n",
        "    episode_reward = 0\n",
        "    done = False\n",
        "\n",
        "    while not done:\n",
        "      frame_idx += 1\n",
        "      # Prepare the current state tensor.\n",
        "      state_tensor = torch.from_numpy(state).to(device)\n",
        "      state_tensor = state_tensor.unsqueeze(0)\n",
        "\n",
        "      # Epsilon-greedy action selection.\n",
        "      action = select_action(env, frame_idx, q_network, state_tensor)\n",
        "\n",
        "      # Take the action in the environment.\n",
        "      next_state, reward, done, truncated, _ = env.step(action)\n",
        "      # episode_reward += custom_reward(env, action, reward, done, truncated)\n",
        "      episode_reward += reward\n",
        "      next_state_proc = preprocess_state(next_state)\n",
        "\n",
        "      # Save the transition in the replay buffer.\n",
        "      replay_buffer.push(state, action, reward, next_state_proc, done)\n",
        "      state = next_state_proc\n",
        "\n",
        "      # Update the Q-network once enough samples are available.\n",
        "      if len(replay_buffer) > BATCH_SIZE:\n",
        "        states, actions, rewards, next_states, dones = replay_buffer.sample(BATCH_SIZE)\n",
        "\n",
        "        # Convert the mini-batch to PyTorch tensors.\n",
        "        states = torch.tensor(states, dtype=torch.uint8).to(device)\n",
        "        actions = torch.tensor(actions, dtype=torch.long).to(device)\n",
        "        rewards = torch.tensor(rewards, dtype=torch.float32).to(device)\n",
        "        next_states = torch.tensor(next_states, dtype=torch.uint8).to(device)\n",
        "        dones = torch.tensor(dones, dtype=torch.float32).to(device)\n",
        "\n",
        "        # Compute Q-values for current states.\n",
        "        q_values = q_network.forward(states)\n",
        "        q_value = q_values.gather(1, actions.unsqueeze(1)).squeeze(1)\n",
        "\n",
        "        # Compute target Q-values using the target network.\n",
        "        with torch.no_grad():\n",
        "          next_q_values = target_network(next_states)\n",
        "          next_q_value = next_q_values.max(1)[0]\n",
        "          target = rewards + GAMMA * next_q_value * (1 - dones)\n",
        "\n",
        "        # Compute the loss (Mean Squared Error).\n",
        "        loss = nn.MSELoss()(q_value, target)\n",
        "        losses.append(loss.item())\n",
        "\n",
        "        optimizer.zero_grad()\n",
        "        loss.backward()\n",
        "        optimizer.step()\n",
        "\n",
        "        # Update the target network periodically.\n",
        "        if frame_idx % TARGET_UPDATE_FREQ == 0:\n",
        "          target_network.load_state_dict(q_network.state_dict())\n",
        "\n",
        "    if done and not truncated:\n",
        "      finish_counter += 1\n",
        "\n",
        "    episode_rewards.append(episode_reward)\n",
        "    episode_steps.append(env.unwrapped.step_count)\n",
        "    episode_finished.append(finish_counter)\n",
        "\n",
        "    if episode % LOG_EVERY == 0:\n",
        "      avg_reward = np.mean(episode_rewards[-10:])\n",
        "      avg_steps = np.mean(episode_steps[-10:])\n",
        "      avg_loss = np.mean(losses[-100:]) if losses else 0\n",
        "      epsilon_val = epsilon_by_frame(frame_idx)\n",
        "\n",
        "      if avg_reward > best_avg_reward:\n",
        "        best_avg_reward = avg_reward\n",
        "        print(\"Saving parameters...\")\n",
        "        torch.save(q_network.state_dict(), '/content/drive/MyDrive/RL/best_model.pth')\n",
        "\n",
        "      print(f\"Episode: {episode}, Frame: {frame_idx}, Epsilon: {epsilon_val}, Avg Reward (last 10): {avg_reward:.2f}, Loss: {avg_loss:.4f}, Avg Steps (last 10): {avg_steps:.2f}, Finished: {finish_counter}\")\n",
        "\n",
        "  env.close()\n",
        "\n",
        "  return episode_rewards, episode_steps, episode_finished"
      ],
      "metadata": {
        "id": "NXru0wObn7GF"
      },
      "execution_count": 29,
      "outputs": []
    },
    {
      "cell_type": "code",
      "source": [
        "##############################################\n",
        "# Hyperparameters\n",
        "##############################################\n",
        "\n",
        "# Environment settings\n",
        "ENV_NAME_2 = \"MiniGrid-MultiRoom-N2-S4-v0\"\n",
        "ENV_NAME_4 = \"MiniGrid-MultiRoom-N4-S5-v0\"\n",
        "ENV_NAME_6 = \"MiniGrid-MultiRoom-N6-v0\"\n",
        "REPLAY_BUFFER_CAPACITY = 10000\n",
        "BATCH_SIZE = 32\n",
        "GAMMA = 0.99\n",
        "LEARNING_RATE = 0.01\n",
        "NUM_EPISODES = 1000\n",
        "TARGET_UPDATE_FREQ = 1000  # steps\n",
        "EPSILON_START = 1.0\n",
        "EPSILON_FINAL = 0.1\n",
        "EPSILON_DECAY = 500000  # steps over which epsilon decays\n",
        "LOG_EVERY = 10\n",
        "\n",
        "# Create the environment\n",
        "env = gymnasium.make(ENV_NAME_2, render_mode=render_mode, highlight=highlight)\n",
        "\n",
        "# Wrap to get a partial (RGB) observation and then extract the image\n",
        "env = RGBImgPartialObsWrapper(env)\n",
        "env = ImgObsWrapper(env)\n",
        "env = FrameStackObservation(env, stack_size=3)\n",
        "\n",
        "# Reset the environment\n",
        "state, _ = env_reset(env)\n",
        "state = preprocess_state(state)\n",
        "\n",
        "# Get initial observation and derive input dimensions.\n",
        "input_shape = state.shape\n",
        "num_actions = env.action_space.n\n",
        "\n",
        "# Initialize the Q-network and target network.\n",
        "q_network = DuelingDQN(input_shape, num_actions).to(device)\n",
        "target_network = DuelingDQN(input_shape, num_actions).to(device)\n",
        "target_network.load_state_dict(q_network.state_dict())\n",
        "target_network.eval()  # Target network is only used for inference.\n",
        "\n",
        "optimizer = optim.Adam(q_network.parameters(), lr=LEARNING_RATE)\n",
        "\n",
        "episode_rewards, episode_steps, episode_finished = train(env, q_network, target_network, optimizer)\n",
        "\n",
        "plot_result(LOG_EVERY, 2, episode_rewards, episode_steps, episode_finished)"
      ],
      "metadata": {
        "id": "Dwd1xhv8nLi5",
        "colab": {
          "base_uri": "https://localhost:8080/",
          "height": 1000
        },
        "outputId": "0edc4d4e-3da1-4ff6-812b-67387ea77a8e"
      },
      "execution_count": 31,
      "outputs": [
        {
          "output_type": "stream",
          "name": "stdout",
          "text": [
            "Saving parameters...\n",
            "Episode: 10, Frame: 3625, Epsilon: 0.9934985960667368, Avg Reward (last 10): -19.71, Loss: 0.2941, Avg Steps (last 10): 362.50, Finished: 1\n",
            "Episode: 20, Frame: 7644, Epsilon: 0.9863454413935878, Avg Reward (last 10): -22.32, Loss: 0.0768, Avg Steps (last 10): 401.90, Finished: 1\n",
            "Episode: 30, Frame: 11357, Epsilon: 0.9797878187339751, Avg Reward (last 10): -19.99, Loss: 0.4008, Avg Steps (last 10): 371.30, Finished: 1\n",
            "Episode: 40, Frame: 18268, Epsilon: 0.9677110463467397, Avg Reward (last 10): -39.02, Loss: 0.6379, Avg Steps (last 10): 691.10, Finished: 1\n",
            "Episode: 50, Frame: 22429, Epsilon: 0.9605199188029088, Avg Reward (last 10): -24.09, Loss: 0.2855, Avg Steps (last 10): 416.10, Finished: 1\n",
            "Episode: 60, Frame: 27708, Epsilon: 0.9514823428162422, Avg Reward (last 10): -30.68, Loss: 0.4948, Avg Steps (last 10): 527.90, Finished: 1\n",
            "Episode: 70, Frame: 34931, Epsilon: 0.9392702492185819, Avg Reward (last 10): -41.56, Loss: 0.0323, Avg Steps (last 10): 722.30, Finished: 1\n",
            "Episode: 80, Frame: 42786, Epsilon: 0.926188341046656, Avg Reward (last 10): -46.23, Loss: 0.4368, Avg Steps (last 10): 785.50, Finished: 1\n",
            "Episode: 90, Frame: 48265, Epsilon: 0.9171843919402799, Avg Reward (last 10): -31.10, Loss: 0.4626, Avg Steps (last 10): 547.90, Finished: 1\n",
            "Episode: 100, Frame: 56406, Epsilon: 0.9039867294023785, Avg Reward (last 10): -47.76, Loss: 0.1458, Avg Steps (last 10): 814.10, Finished: 2\n",
            "Episode: 110, Frame: 61774, Epsilon: 0.8954012969411004, Avg Reward (last 10): -31.11, Loss: 1.0948, Avg Steps (last 10): 536.80, Finished: 2\n",
            "Episode: 120, Frame: 67317, Epsilon: 0.8866321752147369, Avg Reward (last 10): -31.04, Loss: 0.6739, Avg Steps (last 10): 554.30, Finished: 2\n",
            "Episode: 130, Frame: 72078, Epsilon: 0.8791774120954737, Avg Reward (last 10): -27.17, Loss: 0.3805, Avg Steps (last 10): 476.10, Finished: 3\n",
            "Episode: 140, Frame: 79196, Epsilon: 0.8681636246035287, Avg Reward (last 10): -40.60, Loss: 0.4211, Avg Steps (last 10): 711.80, Finished: 3\n",
            "Episode: 150, Frame: 85473, Epsilon: 0.858580378358899, Avg Reward (last 10): -36.54, Loss: 0.5465, Avg Steps (last 10): 627.70, Finished: 3\n",
            "Episode: 160, Frame: 89707, Epsilon: 0.8521838408776613, Avg Reward (last 10): -24.28, Loss: 0.2142, Avg Steps (last 10): 423.40, Finished: 4\n",
            "Episode: 170, Frame: 95068, Epsilon: 0.8441620076336657, Avg Reward (last 10): -30.90, Loss: 0.7831, Avg Steps (last 10): 536.10, Finished: 4\n",
            "Episode: 180, Frame: 101250, Epsilon: 0.8350178343382998, Avg Reward (last 10): -35.51, Loss: 1.3157, Avg Steps (last 10): 618.20, Finished: 4\n",
            "Episode: 190, Frame: 108259, Epsilon: 0.8247862351607554, Avg Reward (last 10): -40.05, Loss: 0.2813, Avg Steps (last 10): 700.90, Finished: 4\n",
            "Episode: 200, Frame: 122654, Epsilon: 0.804217152128968, Avg Reward (last 10): -85.97, Loss: 0.2746, Avg Steps (last 10): 1439.50, Finished: 4\n",
            "Episode: 210, Frame: 131669, Epsilon: 0.7916338958112971, Avg Reward (last 10): -53.30, Loss: 0.6247, Avg Steps (last 10): 901.50, Finished: 4\n",
            "Episode: 220, Frame: 142607, Epsilon: 0.7766680064386172, Avg Reward (last 10): -65.42, Loss: 1.7274, Avg Steps (last 10): 1093.80, Finished: 4\n",
            "Episode: 230, Frame: 148559, Epsilon: 0.7686607045072151, Avg Reward (last 10): -34.31, Loss: 0.9783, Avg Steps (last 10): 595.20, Finished: 4\n",
            "Episode: 240, Frame: 156981, Epsilon: 0.7574921095689428, Avg Reward (last 10): -48.86, Loss: 0.7991, Avg Steps (last 10): 842.20, Finished: 4\n",
            "Episode: 250, Frame: 162245, Epsilon: 0.7506063429157792, Avg Reward (last 10): -31.42, Loss: 0.2331, Avg Steps (last 10): 526.40, Finished: 4\n",
            "Episode: 260, Frame: 169750, Epsilon: 0.7409136672191006, Avg Reward (last 10): -43.31, Loss: 0.0027, Avg Steps (last 10): 750.50, Finished: 4\n",
            "Episode: 270, Frame: 176525, Epsilon: 0.7322878588562015, Avg Reward (last 10): -40.76, Loss: 0.6194, Avg Steps (last 10): 677.50, Finished: 4\n",
            "Episode: 280, Frame: 183839, Epsilon: 0.7231060713752422, Avg Reward (last 10): -42.56, Loss: 0.4180, Avg Steps (last 10): 731.40, Finished: 4\n",
            "Episode: 290, Frame: 190298, Epsilon: 0.7151085543228366, Avg Reward (last 10): -37.06, Loss: 0.6756, Avg Steps (last 10): 645.90, Finished: 4\n",
            "Episode: 300, Frame: 195036, Epsilon: 0.7093073153422811, Avg Reward (last 10): -28.21, Loss: 0.3615, Avg Steps (last 10): 473.80, Finished: 5\n",
            "Episode: 310, Frame: 204245, Epsilon: 0.6981878070905103, Avg Reward (last 10): -53.39, Loss: 0.2509, Avg Steps (last 10): 920.90, Finished: 5\n",
            "Episode: 320, Frame: 213657, Epsilon: 0.6870328397508544, Avg Reward (last 10): -55.80, Loss: 0.1008, Avg Steps (last 10): 941.20, Finished: 5\n",
            "Episode: 330, Frame: 221039, Epsilon: 0.6784295526452433, Avg Reward (last 10): -42.51, Loss: 0.1711, Avg Steps (last 10): 738.20, Finished: 5\n",
            "Episode: 340, Frame: 230625, Epsilon: 0.6674455305414627, Avg Reward (last 10): -55.02, Loss: 0.1804, Avg Steps (last 10): 958.60, Finished: 5\n",
            "Episode: 350, Frame: 241633, Epsilon: 0.6550891676779045, Avg Reward (last 10): -62.70, Loss: 0.7958, Avg Steps (last 10): 1100.80, Finished: 5\n",
            "Episode: 360, Frame: 252161, Epsilon: 0.6435234018545163, Avg Reward (last 10): -60.69, Loss: 1.2705, Avg Steps (last 10): 1052.80, Finished: 5\n",
            "Episode: 370, Frame: 261349, Epsilon: 0.6336268240647378, Avg Reward (last 10): -51.79, Loss: 1.4948, Avg Steps (last 10): 918.80, Finished: 5\n",
            "Episode: 380, Frame: 270313, Epsilon: 0.6241452095140373, Avg Reward (last 10): -51.13, Loss: 0.1176, Avg Steps (last 10): 896.40, Finished: 5\n",
            "Episode: 390, Frame: 279258, Epsilon: 0.6148516306465978, Avg Reward (last 10): -49.97, Loss: 0.5715, Avg Steps (last 10): 894.50, Finished: 5\n",
            "Episode: 400, Frame: 290537, Epsilon: 0.6033676226669223, Avg Reward (last 10): -64.19, Loss: 1.0773, Avg Steps (last 10): 1127.90, Finished: 5\n",
            "Episode: 410, Frame: 304876, Epsilon: 0.5891370731204838, Avg Reward (last 10): -82.53, Loss: 0.8445, Avg Steps (last 10): 1433.90, Finished: 5\n",
            "Episode: 420, Frame: 317564, Epsilon: 0.576880894824499, Avg Reward (last 10): -73.34, Loss: 1.4759, Avg Steps (last 10): 1268.80, Finished: 5\n",
            "Episode: 430, Frame: 325168, Epsilon: 0.5696833589606478, Avg Reward (last 10): -43.61, Loss: 1.4935, Avg Steps (last 10): 760.40, Finished: 5\n",
            "Episode: 440, Frame: 333559, Epsilon: 0.5618669041512933, Avg Reward (last 10): -47.01, Loss: 0.1815, Avg Steps (last 10): 839.10, Finished: 5\n",
            "Episode: 450, Frame: 344249, Epsilon: 0.5520970021455773, Avg Reward (last 10): -60.52, Loss: 1.2140, Avg Steps (last 10): 1069.00, Finished: 5\n",
            "Episode: 460, Frame: 355701, Epsilon: 0.5418598557333648, Avg Reward (last 10): -65.54, Loss: 2.0146, Avg Steps (last 10): 1145.20, Finished: 5\n",
            "Episode: 470, Frame: 367013, Epsilon: 0.5319754523321129, Avg Reward (last 10): -64.44, Loss: 2.6958, Avg Steps (last 10): 1131.20, Finished: 5\n"
          ]
        },
        {
          "output_type": "error",
          "ename": "KeyboardInterrupt",
          "evalue": "",
          "traceback": [
            "\u001b[0;31m---------------------------------------------------------------------------\u001b[0m",
            "\u001b[0;31mKeyboardInterrupt\u001b[0m                         Traceback (most recent call last)",
            "\u001b[0;32m<ipython-input-31-7c0813662c17>\u001b[0m in \u001b[0;36m<cell line: 0>\u001b[0;34m()\u001b[0m\n\u001b[1;32m     42\u001b[0m \u001b[0moptimizer\u001b[0m \u001b[0;34m=\u001b[0m \u001b[0moptim\u001b[0m\u001b[0;34m.\u001b[0m\u001b[0mAdam\u001b[0m\u001b[0;34m(\u001b[0m\u001b[0mq_network\u001b[0m\u001b[0;34m.\u001b[0m\u001b[0mparameters\u001b[0m\u001b[0;34m(\u001b[0m\u001b[0;34m)\u001b[0m\u001b[0;34m,\u001b[0m \u001b[0mlr\u001b[0m\u001b[0;34m=\u001b[0m\u001b[0mLEARNING_RATE\u001b[0m\u001b[0;34m)\u001b[0m\u001b[0;34m\u001b[0m\u001b[0;34m\u001b[0m\u001b[0m\n\u001b[1;32m     43\u001b[0m \u001b[0;34m\u001b[0m\u001b[0m\n\u001b[0;32m---> 44\u001b[0;31m \u001b[0mepisode_rewards\u001b[0m\u001b[0;34m,\u001b[0m \u001b[0mepisode_steps\u001b[0m\u001b[0;34m,\u001b[0m \u001b[0mepisode_finished\u001b[0m \u001b[0;34m=\u001b[0m \u001b[0mtrain\u001b[0m\u001b[0;34m(\u001b[0m\u001b[0menv\u001b[0m\u001b[0;34m,\u001b[0m \u001b[0mq_network\u001b[0m\u001b[0;34m,\u001b[0m \u001b[0mtarget_network\u001b[0m\u001b[0;34m,\u001b[0m \u001b[0moptimizer\u001b[0m\u001b[0;34m)\u001b[0m\u001b[0;34m\u001b[0m\u001b[0;34m\u001b[0m\u001b[0m\n\u001b[0m\u001b[1;32m     45\u001b[0m \u001b[0;34m\u001b[0m\u001b[0m\n\u001b[1;32m     46\u001b[0m \u001b[0mplot_result\u001b[0m\u001b[0;34m(\u001b[0m\u001b[0mLOG_EVERY\u001b[0m\u001b[0;34m,\u001b[0m \u001b[0;36m2\u001b[0m\u001b[0;34m,\u001b[0m \u001b[0mepisode_rewards\u001b[0m\u001b[0;34m,\u001b[0m \u001b[0mepisode_steps\u001b[0m\u001b[0;34m,\u001b[0m \u001b[0mepisode_finished\u001b[0m\u001b[0;34m)\u001b[0m\u001b[0;34m\u001b[0m\u001b[0;34m\u001b[0m\u001b[0m\n",
            "\u001b[0;32m<ipython-input-29-1717d6ba621a>\u001b[0m in \u001b[0;36mtrain\u001b[0;34m(env, q_network, target_network, optimizer, seed)\u001b[0m\n\u001b[1;32m     24\u001b[0m       \u001b[0mframe_idx\u001b[0m \u001b[0;34m+=\u001b[0m \u001b[0;36m1\u001b[0m\u001b[0;34m\u001b[0m\u001b[0;34m\u001b[0m\u001b[0m\n\u001b[1;32m     25\u001b[0m       \u001b[0;31m# Prepare the current state tensor.\u001b[0m\u001b[0;34m\u001b[0m\u001b[0;34m\u001b[0m\u001b[0m\n\u001b[0;32m---> 26\u001b[0;31m       \u001b[0mstate_tensor\u001b[0m \u001b[0;34m=\u001b[0m \u001b[0mtorch\u001b[0m\u001b[0;34m.\u001b[0m\u001b[0mfrom_numpy\u001b[0m\u001b[0;34m(\u001b[0m\u001b[0mstate\u001b[0m\u001b[0;34m)\u001b[0m\u001b[0;34m.\u001b[0m\u001b[0mto\u001b[0m\u001b[0;34m(\u001b[0m\u001b[0mdevice\u001b[0m\u001b[0;34m)\u001b[0m\u001b[0;34m\u001b[0m\u001b[0;34m\u001b[0m\u001b[0m\n\u001b[0m\u001b[1;32m     27\u001b[0m       \u001b[0mstate_tensor\u001b[0m \u001b[0;34m=\u001b[0m \u001b[0mstate_tensor\u001b[0m\u001b[0;34m.\u001b[0m\u001b[0munsqueeze\u001b[0m\u001b[0;34m(\u001b[0m\u001b[0;36m0\u001b[0m\u001b[0;34m)\u001b[0m\u001b[0;34m\u001b[0m\u001b[0;34m\u001b[0m\u001b[0m\n\u001b[1;32m     28\u001b[0m \u001b[0;34m\u001b[0m\u001b[0m\n",
            "\u001b[0;31mKeyboardInterrupt\u001b[0m: "
          ]
        }
      ]
    },
    {
      "cell_type": "code",
      "source": [
        "from google.colab import drive\n",
        "drive.mount('/content/drive')"
      ],
      "metadata": {
        "id": "rWBhT5WaaKzW"
      },
      "execution_count": null,
      "outputs": []
    },
    {
      "cell_type": "code",
      "source": [
        "NUM_EPISODES = 50\n",
        "\n",
        "# Create the environment\n",
        "env = gymnasium.make(ENV_NAME_4, render_mode=render_mode, highlight=highlight)\n",
        "\n",
        "# Wrap to get a partial (RGB) observation and then extract the image\n",
        "env = RGBImgPartialObsWrapper(env)\n",
        "env = ImgObsWrapper(env)\n",
        "env = FrameStackObservation(env, stack_size=3)\n",
        "\n",
        "train(env, q_network, target_network, optimizer)"
      ],
      "metadata": {
        "id": "U3xunZLCyBVf"
      },
      "execution_count": null,
      "outputs": []
    },
    {
      "cell_type": "code",
      "source": [
        "NUM_EPISODES = 20\n",
        "\n",
        "# Create the environment\n",
        "env = gymnasium.make(ENV_NAME_6, render_mode=render_mode, highlight=highlight)\n",
        "\n",
        "# Wrap to get a partial (RGB) observation and then extract the image\n",
        "env = RGBImgPartialObsWrapper(env)\n",
        "env = ImgObsWrapper(env)\n",
        "env = FrameStackObservation(env, stack_size=3)\n",
        "\n",
        "train(env, q_network, target_network, optimizer)"
      ],
      "metadata": {
        "id": "7pTIm-8WHTJp"
      },
      "execution_count": null,
      "outputs": []
    }
  ],
  "metadata": {
    "colab": {
      "provenance": [],
      "gpuType": "T4",
      "include_colab_link": true
    },
    "kernelspec": {
      "display_name": "Python 3",
      "name": "python3"
    },
    "language_info": {
      "codemirror_mode": {
        "name": "ipython",
        "version": 3
      },
      "file_extension": ".py",
      "mimetype": "text/x-python",
      "name": "python",
      "nbconvert_exporter": "python",
      "pygments_lexer": "ipython3",
      "version": "3.13.1"
    },
    "accelerator": "GPU"
  },
  "nbformat": 4,
  "nbformat_minor": 0
}