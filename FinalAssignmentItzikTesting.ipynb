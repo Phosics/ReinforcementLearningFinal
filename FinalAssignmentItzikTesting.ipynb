{
  "cells": [
    {
      "cell_type": "markdown",
      "metadata": {
        "id": "view-in-github",
        "colab_type": "text"
      },
      "source": [
        "<a href=\"https://colab.research.google.com/github/Phosics/ReinforcementLearningFinal/blob/main/FinalAssignmentItzikTesting.ipynb\" target=\"_parent\"><img src=\"https://colab.research.google.com/assets/colab-badge.svg\" alt=\"Open In Colab\"/></a>"
      ]
    },
    {
      "cell_type": "markdown",
      "metadata": {
        "id": "SLapsBtwOO6m"
      },
      "source": [
        "# Mid Semester Project - DEEP Reinforcements Learning\n",
        "Dear students,<br> this is the template notebook. Please copy it by clicking on the \"File\" tab and then on \"Save a copy into drive\".\n",
        "\n",
        "---\n",
        "<br>\n",
        "\n",
        "### Name and ID:\n",
        "Student 1:\n",
        "<br>\n",
        "Student 2:\n",
        "<br><br>\n",
        "<img src=\"https://raw.githubusercontent.com/Farama-Foundation/Minigrid/master/minigrid-text.png\">\n",
        "\n",
        "### https://minigrid.farama.org/"
      ]
    },
    {
      "cell_type": "markdown",
      "metadata": {
        "id": "4-OzvtfyOYL8"
      },
      "source": [
        "# Pre-Requisit"
      ]
    },
    {
      "cell_type": "markdown",
      "metadata": {
        "id": "fUNptoCrObZs"
      },
      "source": [
        "## Installs"
      ]
    },
    {
      "cell_type": "code",
      "execution_count": 2,
      "metadata": {
        "id": "-YTEVlS-OAQ-"
      },
      "outputs": [],
      "source": [
        "%%capture\n",
        "!sudo apt-get update\n",
        "!sudo apt-get install -y xvfb ffmpeg freeglut3-dev\n",
        "!pip install 'imageio==2.4.0'\n",
        "!apt-get install python-opengl -y\n",
        "!apt install xvfb -y\n",
        "!pip install pyvirtualdisplay\n",
        "!pip install piglet\n",
        "!pip install gymnasium\n",
        "!apt-get install python-opengl -y\n",
        "!apt install xvfb -y\n",
        "!pip install -U --no-cache-dir gdown --pre\n",
        "!pip install minigrid\n",
        "!wget -q https://www.dropbox.com/scl/fi/jhkb2y3jw8wgin9e26ooc/MiniGrid-MultiRoom-N6-v0_vid.mp4?rlkey=qtkrmmbk9aiote5z7w4bx6ixi&st=zbr4gk21&dl=1 -O content/MiniGrid-MultiRoom-N6-v0_vid.mp4\n"
      ]
    },
    {
      "cell_type": "markdown",
      "metadata": {
        "id": "SEFhAxcrOhB1"
      },
      "source": [
        "## Imports"
      ]
    },
    {
      "cell_type": "code",
      "source": [
        "from pyvirtualdisplay import Display\n",
        "from IPython.display import HTML\n",
        "from IPython import display as ipythondisplay\n",
        "import pyvirtualdisplay\n",
        "import IPython\n",
        "import base64\n",
        "import gymnasium\n",
        "import minigrid\n",
        "from minigrid.wrappers import RGBImgObsWrapper, RGBImgPartialObsWrapper, ImgObsWrapper, FullyObsWrapper, RGBImgPartialObsWrapper\n",
        "from gymnasium.wrappers import FrameStackObservation\n",
        "import matplotlib.pyplot as plt\n",
        "import imageio\n",
        "import numpy as np\n",
        "import cv2\n",
        "import torch\n",
        "import torch.nn as nn\n",
        "import torch.optim as optim\n",
        "import random\n",
        "from collections import deque"
      ],
      "metadata": {
        "id": "peOGhIA-iLk7"
      },
      "execution_count": 3,
      "outputs": []
    },
    {
      "cell_type": "code",
      "source": [
        "# Constants for the environemnt configuration do no change the values\n",
        "highlight = False\n",
        "render_mode = \"rgb_array\""
      ],
      "metadata": {
        "id": "diKi1gEQtM3M"
      },
      "execution_count": 4,
      "outputs": []
    },
    {
      "cell_type": "markdown",
      "metadata": {
        "id": "LnksgjjqOq02"
      },
      "source": [
        "## Display utils\n",
        "The cell below contains the video display configuration. No need to make changes here."
      ]
    },
    {
      "cell_type": "code",
      "execution_count": 5,
      "metadata": {
        "id": "ceUl4Q9JOzpO"
      },
      "outputs": [],
      "source": [
        "def embed_mp4(filename):\n",
        "  \"\"\"Embeds an mp4 file in the notebook.\"\"\"\n",
        "  video = open(filename,'rb').read()\n",
        "  b64 = base64.b64encode(video)\n",
        "  tag = '''\n",
        "  <video width=\"640\" height=\"480\" controls>\n",
        "    <source src=\"data:video/mp4;base64,{0}\" type=\"video/mp4\">\n",
        "  Your browser does not support the video tag.\n",
        "  </video>'''.format(b64.decode())\n",
        "\n",
        "  return IPython.display.HTML(tag)\n",
        "display = pyvirtualdisplay.Display(visible=0, size=(1400, 900)).start()"
      ]
    },
    {
      "cell_type": "markdown",
      "source": [
        "# Introduction\n",
        "\n",
        "For this project, you will work with environments from the [MiniGrid](https://minigrid.farama.org) framework. MiniGrid is designed to test and benchmark reinforcement learning algorithms, offering a diverse range of tasks with varying levels of complexity.\n",
        "\n",
        "MiniGrid environments are built around the concept of a partially observable, grid-based world where an agent operates to achieve predefined objectives.\n",
        "\n",
        "## **MultiRoom Environment**\n",
        "\n",
        "You will work with the **MultiRoom Environment** see docomentation [here](https://minigrid.farama.org/environments/minigrid/MultiRoomEnv/). MultiRoomEnv introduces a level of complexity beyond simple navigation tasks by requiring the agent to navigate through multiple connected rooms to reach a goal. This environment is an excellent testbed for reinforcement learning algorithms that require exploration, memory, and planning.\n",
        "\n"
      ],
      "metadata": {
        "id": "76Bi4SEyip5J"
      }
    },
    {
      "cell_type": "markdown",
      "source": [
        "## Understanding the `done` and `truncated` Mechanisms in MultiRoomEnv\n",
        "\n",
        "As you experienced in the MidTerm assignment, the **GYM** API returns multiple outputs from the **`step`** method. In the MultiRoomEnv environment, two key mechanisms, **`done`** and **`truncated`**, are used to signify the end of an episode. These mechanisms are essential for managing the flow of training and providing valuable feedback about the agent's performance.\n",
        "\n",
        "\n",
        "### `done`\n",
        "- The `done` flag is set to `True` when the agent successfully reaches the goal.\n",
        "- It indicates the successful termination of the episode, meaning the agent has completed the task.\n",
        "- Example scenario: The agent navigates through all the rooms and reaches the green goal square in the final room.\n",
        "\n",
        "### `truncated`\n",
        "- The `truncated` flag is used to terminate an episode when a predefined condition is met, such as exceeding the maximum number of steps allowed.\n",
        "- It does not necessarily indicate success or failure, but rather ensures that episodes do not run indefinitely.\n",
        "- Example scenario: The agent fails to reach the goal within the allowed number of steps, and the episode ends prematurely.\n",
        "\n",
        "**Pay Attention!**\n",
        "\n",
        "Each time the environment is reset, the configuration of the rooms is randomized. This variability should be carefully considered during training, as resetting the environment every time the `max_step` limit is reached can make it challenging for the agent to learn effectively.\n",
        "\n",
        "Additionally, note that the `max_step` parameter is defined as the number of rooms multiplied by 20.\n"
      ],
      "metadata": {
        "id": "Tjh-Gz0MqHDg"
      }
    },
    {
      "cell_type": "markdown",
      "source": [
        "## Random Action Rendering"
      ],
      "metadata": {
        "id": "Sw5k_FWrr0Zd"
      }
    },
    {
      "cell_type": "code",
      "source": [
        "env = gymnasium.make(\"MiniGrid-MultiRoom-N6-v0\", render_mode=render_mode, highlight=highlight)\n",
        "video_filename = '/content/vid.mp4'\n",
        "truncated = False\n",
        "# Evaluation\n",
        "with imageio.get_writer(video_filename, fps=16) as video:\n",
        "  obs, _ = env.reset()\n",
        "  done = False\n",
        "  total_reward = 0\n",
        "  step = 0\n",
        "  while not truncated:\n",
        "      action = env.action_space.sample()\n",
        "      obs, reward, done, truncated  , _ = env.step(action)\n",
        "      next_obs = obs  # Get agent's position directly from the environment\n",
        "      video.append_data(env.render())\n",
        "      step += 1\n",
        "      if truncated:\n",
        "        print(\"done\",\"reward=\", total_reward,\"num_of_steps=\",step)\n",
        "        break\n",
        "embed_mp4(video_filename)"
      ],
      "metadata": {
        "colab": {
          "base_uri": "https://localhost:8080/",
          "height": 518
        },
        "id": "vLBT8jG2r5z4",
        "outputId": "be8bf1ef-f03a-4cb3-d904-0f81bad73bf8"
      },
      "execution_count": 6,
      "outputs": [
        {
          "output_type": "stream",
          "name": "stdout",
          "text": [
            "done reward= 0 num_of_steps= 120\n"
          ]
        },
        {
          "output_type": "execute_result",
          "data": {
            "text/plain": [
              "<IPython.core.display.HTML object>"
            ],
            "text/html": [
              "\n",
              "  <video width=\"640\" height=\"480\" controls>\n",
              "    <source src=\"data:video/mp4;base64,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\" type=\"video/mp4\">\n",
              "  Your browser does not support the video tag.\n",
              "  </video>"
            ]
          },
          "metadata": {},
          "execution_count": 6
        }
      ]
    },
    {
      "cell_type": "markdown",
      "source": [
        "## Wrappers for Observations: ImgObsWrapper and RGBImgPartialObsWrapper\n",
        "\n",
        "For this project, you will use two wrappers provided by MiniGrid: **ImgObsWrapper** and **RGBImgPartialObsWrapper**. These wrappers modify the agent's observations.\n",
        "\n",
        "### ImgObsWrapper\n",
        "- The **ImgObsWrapper** converts the observation from its default dictionary format into a single image array.\n",
        "- By default, observations in MiniGrid are returned as a dictionary containing both image data and other optional keys (e.g., mission strings). This wrapper extracts only the image component for simplicity.\n",
        "\n",
        "### RGBImgPartialObsWrapper\n",
        "- This wrapper provides a **partial view of the environment**, but instead of limiting it to a fixed field of view, it shows the **entire visible content of the current room** from the agent's position to the walls in the direction the agent is facing.\n",
        "- The observation dynamically updates as the agent moves or turns, allowing it to see the layout of the room but not beyond its walls or through closed doors.\n",
        "- This introduces the challenge of **partial observability across multiple rooms**, as the agent must explore and navigate to new rooms to gather more information about the environment.\n",
        "\n",
        "\n"
      ],
      "metadata": {
        "id": "WhdA4okKt8fu"
      }
    },
    {
      "cell_type": "markdown",
      "source": [
        "\n",
        "### Wrapper Usage\n",
        "To apply a wrapper, you can modify your environment setup as follows:"
      ],
      "metadata": {
        "id": "zKEmSOdGvCf9"
      }
    },
    {
      "cell_type": "code",
      "source": [
        "fig, axs = plt.subplots(1, 2, figsize=(15, 5))\n",
        "env = gymnasium.make(\"MiniGrid-MultiRoom-N6-v0\", render_mode=render_mode, highlight=highlight)\n",
        "env = RGBImgPartialObsWrapper(env)\n",
        "env = ImgObsWrapper(env)\n",
        "obs, _ = env.reset()\n",
        "axs[1].imshow(obs)\n",
        "axs[1].title.set_text(f'RGBImgPartialObsWrapper, shape: {obs.shape}')\n",
        "axs[0].imshow(env.render())\n",
        "axs[0].title.set_text(f'Full state')\n",
        "plt.show()"
      ],
      "metadata": {
        "colab": {
          "base_uri": "https://localhost:8080/",
          "height": 468
        },
        "id": "kZCKkKFiu-IV",
        "outputId": "aaa5c0ba-9d7f-4150-9a2c-f88647232798"
      },
      "execution_count": 7,
      "outputs": [
        {
          "output_type": "display_data",
          "data": {
            "text/plain": [
              "<Figure size 1500x500 with 2 Axes>"
            ],
            "image/png": "[encoded data removed]"
          },
          "metadata": {}
        }
      ]
    },
    {
      "cell_type": "markdown",
      "source": [
        "## Initializing the smaller environments"
      ],
      "metadata": {
        "id": "5ydi5m69RBSs"
      }
    },
    {
      "cell_type": "code",
      "source": [
        "env = gymnasium.make(\"MiniGrid-MultiRoom-N2-S4-v0\", render_mode=render_mode, highlight=highlight)\n",
        "fig, axs = plt.subplots(1, 2, figsize=(15, 5))\n",
        "env = RGBImgPartialObsWrapper(env)\n",
        "env = ImgObsWrapper(env)\n",
        "obs, _ = env.reset()\n",
        "axs[0].imshow(env.render())\n",
        "axs[0].title.set_text(f'MiniGrid-MultiRoom-N2-S4-v0')\n",
        "\n",
        "\n",
        "\n",
        "env = gymnasium.make(\"MiniGrid-MultiRoom-N4-S5-v0\", render_mode=render_mode, highlight=highlight)\n",
        "env = RGBImgPartialObsWrapper(env)\n",
        "env = ImgObsWrapper(env)\n",
        "obs, _ = env.reset()\n",
        "axs[1].imshow(env.render())\n",
        "axs[1].title.set_text(f'MiniGrid-MultiRoom-N4-S5-v0')\n",
        "plt.show()"
      ],
      "metadata": {
        "colab": {
          "base_uri": "https://localhost:8080/",
          "height": 468
        },
        "id": "QFEJ9keiRLUB",
        "outputId": "71fa1ed3-91bd-4b2d-d53f-9cb598a08ea7"
      },
      "execution_count": 8,
      "outputs": [
        {
          "output_type": "display_data",
          "data": {
            "text/plain": [
              "<Figure size 1500x500 with 2 Axes>"
            ],
            "image/png": "[encoded data removed]"
          },
          "metadata": {}
        }
      ]
    },
    {
      "cell_type": "markdown",
      "source": [
        "### Partial Observation Example"
      ],
      "metadata": {
        "id": "AiHHFwv2ZBd7"
      }
    },
    {
      "cell_type": "code",
      "source": [
        "env = gymnasium.make(\"MiniGrid-MultiRoom-N6-v0\", render_mode=render_mode, highlight=highlight)\n",
        "env = RGBImgPartialObsWrapper(env)\n",
        "env = ImgObsWrapper(env)\n",
        "video_filename = '/content/vid_partial.mp4'\n",
        "truncated = False\n",
        "# Evaluation\n",
        "with imageio.get_writer(video_filename, fps=10) as video:\n",
        "  obs, _ = env.reset()\n",
        "  done = False\n",
        "  total_reward = 0\n",
        "  step = 0\n",
        "  while not truncated:\n",
        "      action = env.action_space.sample()\n",
        "      obs, reward, done, truncated  , _ = env.step(action)\n",
        "      next_obs = obs  # Get agent's position directly from the environment\n",
        "      video.append_data(obs)\n",
        "      step += 1\n",
        "      if truncated:\n",
        "        print(\"done\",\"reward=\", total_reward,\"num_of_steps=\",step)\n",
        "        break\n",
        "embed_mp4(video_filename)"
      ],
      "metadata": {
        "colab": {
          "base_uri": "https://localhost:8080/",
          "height": 556
        },
        "id": "7gwWN2ANYmAR",
        "outputId": "e9616afb-6a47-4306-9c07-0fcc143de231"
      },
      "execution_count": 9,
      "outputs": [
        {
          "output_type": "stream",
          "name": "stderr",
          "text": [
            "WARNING:root:IMAGEIO FFMPEG_WRITER WARNING: input image is not divisible by macro_block_size=16, resizing from (56, 56) to (64, 64) to ensure video compatibility with most codecs and players. To prevent resizing, make your input image divisible by the macro_block_size or set the macro_block_size to None (risking incompatibility). You may also see a FFMPEG warning concerning speedloss due to data not being aligned.\n"
          ]
        },
        {
          "output_type": "stream",
          "name": "stdout",
          "text": [
            "done reward= 0 num_of_steps= 120\n"
          ]
        },
        {
          "output_type": "execute_result",
          "data": {
            "text/plain": [
              "<IPython.core.display.HTML object>"
            ],
            "text/html": [
              "\n",
              "  <video width=\"640\" height=\"480\" controls>\n",
              "    <source src=\"data:video/mp4;base64,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\" type=\"video/mp4\">\n",
              "  Your browser does not support the video tag.\n",
              "  </video>"
            ]
          },
          "metadata": {},
          "execution_count": 9
        }
      ]
    },
    {
      "cell_type": "markdown",
      "source": [
        "## Exmple from our solution"
      ],
      "metadata": {
        "id": "FvMK87FGd7Wm"
      }
    },
    {
      "cell_type": "code",
      "source": [
        "# Step 1: Correct download path\n",
        "# Call the function\n",
        "embed_mp4('MiniGrid-MultiRoom-N6-v0_vid.mp4?rlkey=qtkrmmbk9aiote5z7w4bx6ixi')\n"
      ],
      "metadata": {
        "colab": {
          "base_uri": "https://localhost:8080/",
          "height": 501
        },
        "id": "wmaiTB4SZzLp",
        "outputId": "24a4700b-f73d-4d62-b698-a7ee1b366223"
      },
      "execution_count": 10,
      "outputs": [
        {
          "output_type": "execute_result",
          "data": {
            "text/plain": [
              "<IPython.core.display.HTML object>"
            ],
            "text/html": [
              "\n",
              "  <video width=\"640\" height=\"480\" controls>\n",
              "    <source src=\"data:video/mp4;base64,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\" type=\"video/mp4\">\n",
              "  Your browser does not support the video tag.\n",
              "  </video>"
            ]
          },
          "metadata": {},
          "execution_count": 10
        }
      ]
    },
    {
      "cell_type": "code",
      "source": [
        "# Set to use GPU\n",
        "device = torch.device(\"cuda\" if torch.cuda.is_available() else \"cpu\")"
      ],
      "metadata": {
        "id": "P_yzi-IamaTl"
      },
      "execution_count": 11,
      "outputs": []
    },
    {
      "cell_type": "code",
      "source": [
        "##############################################\n",
        "# Reset Environment\n",
        "##############################################\n",
        "def env_reset(env, seed=None):\n",
        "  if seed:\n",
        "    torch.manual_seed(seed)\n",
        "    np.random.seed(seed)\n",
        "    random.seed(seed)\n",
        "\n",
        "    return env.reset(seed=seed)\n",
        "  else:\n",
        "    return env.reset()\n",
        "\n",
        "##############################################\n",
        "# Preprocess\n",
        "##############################################\n",
        "def preprocess_state(state):\n",
        "    \"\"\"\n",
        "    Preprocess the state (image) from a gym environment.\n",
        "    If the state is a single frame with shape (H, W, C), it returns a float tensor\n",
        "    with shape (C, H, W) normalized to [0,1].\n",
        "    If the state is a stack of frames with shape (num_stack, H, W, C),\n",
        "    it processes each frame individually, resulting in a tensor with shape (num_stack, C, H, W).\n",
        "    \"\"\"\n",
        "    state = np.array(state).astype(np.float32) / 255.0\n",
        "\n",
        "    if state.ndim == 3:  # Single frame: (H, W, C)\n",
        "        return np.transpose(state, (2, 0, 1))\n",
        "    elif state.ndim == 4:  # Stacked frames: (num_stack, H, W, C)\n",
        "        # Process each frame and stack along a new axis (resulting in shape: (num_stack, C, H, W))\n",
        "        return np.stack([np.transpose(frame, (2, 0, 1)) for frame in state], axis=0)\n",
        "    else:\n",
        "        raise ValueError(f\"Unexpected state shape: {state.shape}\")\n",
        "\n",
        "##############################################\n",
        "# Epsilon Greedy Exploration Schedule\n",
        "##############################################\n",
        "def epsilon_by_frame(frame_idx):\n",
        "  \"\"\"\n",
        "  Returns the epsilon value for the epsilon-greedy exploration strategy,\n",
        "  decaying exponentially from EPSILON_START to EPSILON_FINAL.\n",
        "  \"\"\"\n",
        "  return EPSILON_FINAL + (EPSILON_START - EPSILON_FINAL) * np.exp(-1. * frame_idx / EPSILON_DECAY)\n",
        "\n",
        "##############################################\n",
        "# Select Action\n",
        "##############################################\n",
        "def select_action(env, frame_idx, q_network, state_tensor):\n",
        "  # Epsilon-greedy action selection.\n",
        "  epsilon = epsilon_by_frame(frame_idx)\n",
        "\n",
        "  if random.random() < epsilon:\n",
        "    return env.action_space.sample()\n",
        "  else:\n",
        "    with torch.no_grad():\n",
        "      q_vals = q_network.forward(state_tensor)\n",
        "      return q_vals.argmax(1).item()\n",
        "\n",
        "##############################################\n",
        "# Custom Reward\n",
        "##############################################\n",
        "DOOR_OPEN_REWARD = 0.4\n",
        "DOOR_CLOSE_PENALTY = -0.5     # Negative reward for closing an open door\n",
        "STEP_PENALTY = -0.01\n",
        "INVALID_TOGGLE_PENALTY = -0.2\n",
        "DOOR_VIEW_REWARD = 0.05      # Reward for seeing a door in the field-of-view\n",
        "\n",
        "# Constant for door type in the observation encoding.\n",
        "# (Assumes that the door is encoded as the integer 3 in the observation's first channel.)\n",
        "DOOR_TYPE = 3\n",
        "\n",
        "def custom_reward(env, action, reward, done, truncated):\n",
        "  env = env.unwrapped\n",
        "  total_reward = STEP_PENALTY\n",
        "\n",
        "  # Check for goal achievement.\n",
        "  if done:\n",
        "    return reward\n",
        "\n",
        "  # --- Action-specific logic ---\n",
        "  if action == env.actions.toggle:\n",
        "    # Compute the coordinates of the cell in front of the agent.\n",
        "    dx, dy = 0, 0\n",
        "    if env.agent_dir == 0:\n",
        "      dx = 1\n",
        "    elif env.agent_dir == 1:\n",
        "      dy = 1\n",
        "    elif env.agent_dir == 2:\n",
        "      dx = -1\n",
        "    elif env.agent_dir == 3:\n",
        "      dy = -1\n",
        "\n",
        "    front_x = env.agent_pos[0] + dx\n",
        "    front_y = env.agent_pos[1] + dy\n",
        "    front_cell = env.grid.get(front_x, front_y)\n",
        "\n",
        "    # Check if the front cell is a door.\n",
        "    if front_cell is not None and getattr(front_cell, \"type\", None) == \"door\":\n",
        "      if front_cell.is_open:\n",
        "        total_reward += DOOR_OPEN_REWARD\n",
        "      else:\n",
        "        total_reward += DOOR_CLOSE_PENALTY\n",
        "    else:\n",
        "      total_reward += INVALID_TOGGLE_PENALTY\n",
        "  else:\n",
        "    # For non-toggle actions, check the entire field-of-view.\n",
        "    # Generate the agent's observation. The 'image' key holds the egocentric view.\n",
        "    obs = env.gen_obs()['image']\n",
        "    door_seen = False\n",
        "    # Iterate over each cell in the agent's view.\n",
        "    for row in obs:\n",
        "      for cell in row:\n",
        "        # Each cell is encoded as [object_type, color, state].\n",
        "        # We assume that a door is represented with object_type equal to DOOR_TYPE.\n",
        "        if cell[0] == DOOR_TYPE:\n",
        "          door_seen = True\n",
        "          break\n",
        "      if door_seen:\n",
        "        break\n",
        "\n",
        "    if door_seen:\n",
        "      total_reward += DOOR_VIEW_REWARD\n",
        "\n",
        "  return total_reward"
      ],
      "metadata": {
        "id": "mD1EJMx0xim9"
      },
      "execution_count": 12,
      "outputs": []
    },
    {
      "cell_type": "markdown",
      "source": [
        "# DQN"
      ],
      "metadata": {
        "id": "ePuMBR7noGyB"
      }
    },
    {
      "cell_type": "code",
      "source": [
        "from IPython.display import display\n",
        "\n",
        "##############################################\n",
        "# Define the Q-Network (using PyTorch)\n",
        "##############################################\n",
        "class DuelingDQN(nn.Module):\n",
        "  def __init__(self, input_shape, num_actions):\n",
        "    \"\"\"\n",
        "    A dueling convolutional neural network that maps image observations to Q-values.\n",
        "    \"\"\"\n",
        "    super(DuelingDQN, self).__init__()\n",
        "\n",
        "    # input_shape: (num_stack, C, H, W)\n",
        "    num_stacks, C, H, W = input_shape\n",
        "\n",
        "    # Define a convolutional backbone for processing a single frame.\n",
        "    self.conv = nn.Sequential(\n",
        "        nn.Conv2d(C, 32, kernel_size=3, stride=1),\n",
        "        nn.ReLU(),\n",
        "        nn.Conv2d(32, 64, kernel_size=3, stride=1),\n",
        "        nn.ReLU(),\n",
        "        nn.Flatten()\n",
        "    )\n",
        "\n",
        "    # Determine the size of the conv output for a single frame.\n",
        "    with torch.no_grad():\n",
        "        dummy_input = torch.zeros(1, C, H, W)\n",
        "        conv_out_size = self.conv(dummy_input).shape[1]\n",
        "\n",
        "    # A fully connected layer for further processing per frame.\n",
        "    self.fc = nn.Sequential(\n",
        "        nn.Linear(conv_out_size, 128),\n",
        "        nn.ReLU()\n",
        "    )\n",
        "\n",
        "    # Value Stream\n",
        "    self.value_stream = nn.Sequential(\n",
        "        nn.Linear(128, 128),\n",
        "        nn.ReLU(),\n",
        "        nn.Linear(128, 1)  # Outputs a single state-value estimate\n",
        "    )\n",
        "\n",
        "    # Advantage Stream\n",
        "    self.advantage_stream = nn.Sequential(\n",
        "        nn.Linear(128, 128),\n",
        "        nn.ReLU(),\n",
        "        nn.Linear(128, num_actions)  # Outputs advantage estimates for each action\n",
        "    )\n",
        "\n",
        "  def forward(self, x):\n",
        "    \"\"\"\n",
        "    x: input tensor of shape (batch_size, num_stack, C, H, W)\n",
        "    \"\"\"\n",
        "    batch_size, num_stack, C, H, W = x.shape\n",
        "\n",
        "    # Process each frame individually:\n",
        "    # Reshape to (batch_size * num_stack, C, H, W)\n",
        "    x = x.view(batch_size * num_stack, C, H, W).float() / 255.0\n",
        "\n",
        "    conv_out = self.conv(x)  # -> (batch_size * num_stack, conv_out_size)\n",
        "    fc_out = self.fc(conv_out)  # -> (batch_size * num_stack, 128)\n",
        "\n",
        "    # Reshape back to (batch_size, num_stack, 128)\n",
        "    fc_out = fc_out.view(batch_size, num_stack, -1)\n",
        "\n",
        "    # Aggregate features across the time (frame stack) dimension.\n",
        "    # Here we use mean aggregation, but you might also experiment with max or even an LSTM.\n",
        "    aggregated = fc_out.mean(dim=1)  # -> (batch_size, 128)\n",
        "\n",
        "    # Dueling streams:\n",
        "    value = self.value_stream(aggregated)  # -> (batch_size, 1)\n",
        "    advantage = self.advantage_stream(aggregated)  # -> (batch_size, num_actions)\n",
        "\n",
        "    # Combine streams to compute Q-values.\n",
        "    q_values = value + (advantage - advantage.mean(dim=1, keepdim=True))\n",
        "    return q_values\n",
        "\n",
        "##############################################\n",
        "# Experience Replay Buffer\n",
        "##############################################\n",
        "class ReplayBuffer:\n",
        "  def __init__(self, capacity):\n",
        "    self.capacity = capacity\n",
        "    self.buffer = deque(maxlen=capacity)\n",
        "\n",
        "  def push(self, state, action, reward, next_state, done):\n",
        "    \"\"\"\n",
        "    Save a transition.\n",
        "    \"\"\"\n",
        "    self.buffer.append((state, action, reward, next_state, done))\n",
        "\n",
        "  def sample(self, batch_size):\n",
        "    \"\"\"\n",
        "    Sample a batch of transitions.\n",
        "    \"\"\"\n",
        "    batch = random.sample(self.buffer, batch_size)\n",
        "    # Transpose the batch (list of tuples) into tuples of lists.\n",
        "    states, actions, rewards, next_states, dones = zip(*batch)\n",
        "\n",
        "    return np.array(states), np.array(actions), np.array(rewards), np.array(next_states), np.array(dones)\n",
        "\n",
        "  def __len__(self):\n",
        "    return len(self.buffer)\n",
        "\n",
        "##############################################\n",
        "# Plot Results\n",
        "##############################################\n",
        "def plot_result(log_every, rooms, episode_rewards, episode_steps, episode_finished):\n",
        "  # Plot rewards and score\n",
        "  fig, axs = plt.subplots(3, 1, figsize=(8, 6))\n",
        "\n",
        "  # Generate X-axis values (e.g., for every 100 episodes)\n",
        "  episodes = np.arange(log_every, log_every + len(episode_rewards) * log_every, log_every)\n",
        "\n",
        "  # Plot rewards\n",
        "  axs[0].plot(episodes, episode_rewards, label='Average Rewards')\n",
        "  axs[0].set_xlabel('Episodes')\n",
        "  axs[0].set_ylabel('Average Reward')\n",
        "  axs[0].set_title('Average Rewards Over Time')\n",
        "  axs[0].legend()\n",
        "\n",
        "  #Plot scores\n",
        "  axs[1].plot(episodes, episode_steps, label='Average Steps', color='orange')\n",
        "  axs[1].set_xlabel('Steps')\n",
        "  axs[1].set_ylabel('Average Steps')\n",
        "  axs[1].set_title('Steps Over Time')\n",
        "  axs[1].legend()\n",
        "\n",
        "  #Plot episode lengths\n",
        "  axs[2].plot(episodes, episode_finished, label='Amount of Episodes Finished', color='pink')\n",
        "  axs[2].set_xlabel('Episodes')\n",
        "  axs[2].set_ylabel('Amount of Episodes Finished')\n",
        "  axs[2].set_title('Amount of Episodes Finished Over Time')\n",
        "  axs[2].legend()\n",
        "\n",
        "  plt.tight_layout()\n",
        "  plt.show()"
      ],
      "metadata": {
        "id": "J08AyMRunuQ_"
      },
      "execution_count": 13,
      "outputs": []
    },
    {
      "cell_type": "code",
      "source": [
        "##############################################\n",
        "# Main Training Loop\n",
        "##############################################\n",
        "\n",
        "def train(env, q_network, target_network, optimizer, seed=None):\n",
        "  replay_buffer = ReplayBuffer(REPLAY_BUFFER_CAPACITY)\n",
        "\n",
        "  episode_rewards = []\n",
        "  episode_steps = []\n",
        "  episode_finished = []\n",
        "\n",
        "  frame_idx = 0\n",
        "  losses = []\n",
        "  finish_counter = 0\n",
        "  best_avg_reward = -100\n",
        "\n",
        "  for episode in range(1, NUM_EPISODES + 1):\n",
        "    state, _ = env_reset(env)\n",
        "    state = preprocess_state(state)\n",
        "    episode_reward = 0\n",
        "    done = False\n",
        "\n",
        "    while not done:\n",
        "      frame_idx += 1\n",
        "      # Prepare the current state tensor.\n",
        "      state_tensor = torch.from_numpy(state).to(device)\n",
        "      state_tensor = state_tensor.unsqueeze(0)\n",
        "\n",
        "      # Epsilon-greedy action selection.\n",
        "      action = select_action(env, frame_idx, q_network, state_tensor)\n",
        "\n",
        "      # Take the action in the environment.\n",
        "      next_state, reward, done, truncated, _ = env.step(action)\n",
        "      episode_reward += custom_reward(env, action, reward, done, truncated)\n",
        "      next_state_proc = preprocess_state(next_state)\n",
        "\n",
        "      # Save the transition in the replay buffer.\n",
        "      replay_buffer.push(state, action, reward, next_state_proc, done)\n",
        "      state = next_state_proc\n",
        "\n",
        "      # Update the Q-network once enough samples are available.\n",
        "      if len(replay_buffer) > BATCH_SIZE:\n",
        "        states, actions, rewards, next_states, dones = replay_buffer.sample(BATCH_SIZE)\n",
        "\n",
        "        # Convert the mini-batch to PyTorch tensors.\n",
        "        states = torch.tensor(states, dtype=torch.uint8).to(device)\n",
        "        actions = torch.tensor(actions, dtype=torch.long).to(device)\n",
        "        rewards = torch.tensor(rewards, dtype=torch.float32).to(device)\n",
        "        next_states = torch.tensor(next_states, dtype=torch.uint8).to(device)\n",
        "        dones = torch.tensor(dones, dtype=torch.float32).to(device)\n",
        "\n",
        "        # Compute Q-values for current states.\n",
        "        q_values = q_network.forward(states)\n",
        "        q_value = q_values.gather(1, actions.unsqueeze(1)).squeeze(1)\n",
        "\n",
        "        # Compute target Q-values using the target network.\n",
        "        with torch.no_grad():\n",
        "          next_q_values = target_network(next_states)\n",
        "          next_q_value = next_q_values.max(1)[0]\n",
        "          target = rewards + GAMMA * next_q_value * (1 - dones)\n",
        "\n",
        "        # Compute the loss (Mean Squared Error).\n",
        "        loss = nn.MSELoss()(q_value, target)\n",
        "        losses.append(loss.item())\n",
        "\n",
        "        optimizer.zero_grad()\n",
        "        loss.backward()\n",
        "        optimizer.step()\n",
        "\n",
        "        # Update the target network periodically.\n",
        "        if frame_idx % TARGET_UPDATE_FREQ == 0:\n",
        "          target_network.load_state_dict(q_network.state_dict())\n",
        "\n",
        "    if done and not truncated:\n",
        "      finish_counter += 1\n",
        "\n",
        "    episode_rewards.append(episode_reward)\n",
        "    episode_steps.append(env.unwrapped.step_count)\n",
        "    episode_finished.append(finish_counter)\n",
        "\n",
        "    if episode % LOG_EVERY == 0:\n",
        "      avg_reward = np.mean(episode_rewards[-10:])\n",
        "      avg_steps = np.mean(episode_steps[-10:])\n",
        "      avg_loss = np.mean(losses[-100:]) if losses else 0\n",
        "      epsilon_val = epsilon_by_frame(frame_idx)\n",
        "\n",
        "      if avg_reward > best_avg_reward:\n",
        "        best_avg_reward = avg_reward\n",
        "        print(\"Saving parameters...\")\n",
        "        torch.save(q_network.state_dict(), '/content/drive/MyDrive/RL/best_model.pth')\n",
        "\n",
        "      print(f\"Episode: {episode}, Frame: {frame_idx}, Epsilon: {epsilon_val}, Avg Reward (last 10): {avg_reward:.2f}, Loss: {avg_loss:.4f}, Avg Steps (last 10): {avg_steps:.2f}, Finished: {finish_counter}\")\n",
        "\n",
        "  env.close()\n",
        "\n",
        "  return episode_rewards, episode_steps, episode_finished"
      ],
      "metadata": {
        "id": "NXru0wObn7GF"
      },
      "execution_count": 14,
      "outputs": []
    },
    {
      "cell_type": "code",
      "source": [
        "##############################################\n",
        "# Hyperparameters\n",
        "##############################################\n",
        "\n",
        "# Environment settings\n",
        "ENV_NAME_2 = \"MiniGrid-MultiRoom-N2-S4-v0\"\n",
        "ENV_NAME_4 = \"MiniGrid-MultiRoom-N4-S5-v0\"\n",
        "ENV_NAME_6 = \"MiniGrid-MultiRoom-N6-v0\"\n",
        "REPLAY_BUFFER_CAPACITY = 10000\n",
        "BATCH_SIZE = 32\n",
        "GAMMA = 0.99\n",
        "LEARNING_RATE = 0.01\n",
        "NUM_EPISODES = 1000\n",
        "TARGET_UPDATE_FREQ = 1000  # steps\n",
        "EPSILON_START = 1.0\n",
        "EPSILON_FINAL = 0.1\n",
        "EPSILON_DECAY = 200000  # steps over which epsilon decays\n",
        "LOG_EVERY = 10\n",
        "\n",
        "# Create the environment\n",
        "env = gymnasium.make(ENV_NAME_2, render_mode=render_mode, highlight=highlight)\n",
        "\n",
        "# Wrap to get a partial (RGB) observation and then extract the image\n",
        "env = RGBImgPartialObsWrapper(env)\n",
        "env = ImgObsWrapper(env)\n",
        "env = FrameStackObservation(env, stack_size=3)\n",
        "\n",
        "# Reset the environment\n",
        "state, _ = env_reset(env)\n",
        "state = preprocess_state(state)\n",
        "\n",
        "# Get initial observation and derive input dimensions.\n",
        "input_shape = state.shape\n",
        "num_actions = env.action_space.n\n",
        "\n",
        "# Initialize the Q-network and target network.\n",
        "q_network = DuelingDQN(input_shape, num_actions).to(device)\n",
        "target_network = DuelingDQN(input_shape, num_actions).to(device)\n",
        "target_network.load_state_dict(q_network.state_dict())\n",
        "target_network.eval()  # Target network is only used for inference.\n",
        "\n",
        "optimizer = optim.Adam(q_network.parameters(), lr=LEARNING_RATE)\n",
        "\n",
        "episode_rewards, episode_steps, episode_finished = train(env, q_network, target_network, optimizer)\n",
        "\n",
        "plot_result(LOG_EVERY, 2, episode_rewards, episode_steps, episode_finished)"
      ],
      "metadata": {
        "id": "Dwd1xhv8nLi5",
        "colab": {
          "base_uri": "https://localhost:8080/",
          "height": 714
        },
        "outputId": "9a261d27-48cb-4940-a7d4-342021870ce1"
      },
      "execution_count": 15,
      "outputs": [
        {
          "output_type": "stream",
          "name": "stdout",
          "text": [
            "Episode: 10, Frame: 7618, Epsilon: 0.9663636705628508, Avg Reward (last 10): -44.95, Loss: 0.6505, Avg Steps (last 10): 761.80, Finished: 0\n",
            "Episode: 20, Frame: 12766, Epsilon: 0.9443480265420311, Avg Reward (last 10): -29.47, Loss: 0.6794, Avg Steps (last 10): 514.80, Finished: 1\n",
            "Episode: 30, Frame: 17558, Epsilon: 0.9243578860312406, Avg Reward (last 10): -27.00, Loss: 0.3058, Avg Steps (last 10): 479.20, Finished: 1\n",
            "Episode: 40, Frame: 23897, Epsilon: 0.898639586541097, Avg Reward (last 10): -37.65, Loss: 0.1978, Avg Steps (last 10): 633.90, Finished: 1\n",
            "Episode: 50, Frame: 28007, Epsilon: 0.8823950275537383, Avg Reward (last 10): -23.37, Loss: 0.3787, Avg Steps (last 10): 411.00, Finished: 1\n",
            "Episode: 60, Frame: 38121, Epsilon: 0.8438130774826018, Avg Reward (last 10): -60.53, Loss: 4.9346, Avg Steps (last 10): 1011.40, Finished: 1\n",
            "Episode: 70, Frame: 46306, Epsilon: 0.8139870060213338, Avg Reward (last 10): -47.13, Loss: 0.2106, Avg Steps (last 10): 818.50, Finished: 1\n",
            "Episode: 80, Frame: 57086, Epsilon: 0.7765218619334012, Avg Reward (last 10): -63.36, Loss: 0.0011, Avg Steps (last 10): 1078.00, Finished: 1\n",
            "Episode: 90, Frame: 64831, Epsilon: 0.7508243325518814, Avg Reward (last 10): -45.63, Loss: 0.3623, Avg Steps (last 10): 774.50, Finished: 1\n",
            "Episode: 100, Frame: 70512, Epsilon: 0.732597755825598, Avg Reward (last 10): -31.98, Loss: 0.2640, Avg Steps (last 10): 568.10, Finished: 1\n",
            "Episode: 110, Frame: 77801, Epsilon: 0.7099577932159834, Avg Reward (last 10): -43.94, Loss: 0.0077, Avg Steps (last 10): 728.90, Finished: 1\n",
            "Episode: 120, Frame: 92052, Epsilon: 0.668007579785169, Avg Reward (last 10): -85.37, Loss: 0.4539, Avg Steps (last 10): 1425.10, Finished: 1\n",
            "Episode: 130, Frame: 100353, Epsilon: 0.6449149695541609, Avg Reward (last 10): -49.84, Loss: 0.0482, Avg Steps (last 10): 830.10, Finished: 1\n",
            "Episode: 140, Frame: 106295, Epsilon: 0.628963675592706, Avg Reward (last 10): -35.13, Loss: 0.6868, Avg Steps (last 10): 594.20, Finished: 1\n",
            "Episode: 150, Frame: 116310, Epsilon: 0.6031280766949971, Avg Reward (last 10): -59.43, Loss: 0.6034, Avg Steps (last 10): 1001.50, Finished: 1\n",
            "Episode: 160, Frame: 125766, Epsilon: 0.5798937682798684, Avg Reward (last 10): -56.70, Loss: 0.6390, Avg Steps (last 10): 945.60, Finished: 1\n",
            "Episode: 170, Frame: 135815, Epsilon: 0.5563772468987073, Avg Reward (last 10): -60.17, Loss: 0.0650, Avg Steps (last 10): 1004.90, Finished: 1\n",
            "Episode: 180, Frame: 147970, Epsilon: 0.5294669391785463, Avg Reward (last 10): -74.37, Loss: 0.0476, Avg Steps (last 10): 1215.50, Finished: 1\n",
            "Episode: 190, Frame: 155402, Epsilon: 0.5138008267785508, Avg Reward (last 10): -44.06, Loss: 0.5064, Avg Steps (last 10): 743.20, Finished: 1\n",
            "Episode: 200, Frame: 167619, Epsilon: 0.48928034423621236, Avg Reward (last 10): -72.30, Loss: 0.7802, Avg Steps (last 10): 1221.70, Finished: 2\n",
            "Episode: 210, Frame: 179165, Epsilon: 0.46744357274921, Avg Reward (last 10): -67.28, Loss: 0.0035, Avg Steps (last 10): 1154.60, Finished: 2\n",
            "Episode: 220, Frame: 193694, Epsilon: 0.4416971311682303, Avg Reward (last 10): -82.90, Loss: 0.1593, Avg Steps (last 10): 1452.90, Finished: 2\n"
          ]
        },
        {
          "output_type": "error",
          "ename": "KeyboardInterrupt",
          "evalue": "",
          "traceback": [
            "\u001b[0;31m---------------------------------------------------------------------------\u001b[0m",
            "\u001b[0;31mKeyboardInterrupt\u001b[0m                         Traceback (most recent call last)",
            "\u001b[0;32m<ipython-input-15-661055606a73>\u001b[0m in \u001b[0;36m<cell line: 0>\u001b[0;34m()\u001b[0m\n\u001b[1;32m     42\u001b[0m \u001b[0moptimizer\u001b[0m \u001b[0;34m=\u001b[0m \u001b[0moptim\u001b[0m\u001b[0;34m.\u001b[0m\u001b[0mAdam\u001b[0m\u001b[0;34m(\u001b[0m\u001b[0mq_network\u001b[0m\u001b[0;34m.\u001b[0m\u001b[0mparameters\u001b[0m\u001b[0;34m(\u001b[0m\u001b[0;34m)\u001b[0m\u001b[0;34m,\u001b[0m \u001b[0mlr\u001b[0m\u001b[0;34m=\u001b[0m\u001b[0mLEARNING_RATE\u001b[0m\u001b[0;34m)\u001b[0m\u001b[0;34m\u001b[0m\u001b[0;34m\u001b[0m\u001b[0m\n\u001b[1;32m     43\u001b[0m \u001b[0;34m\u001b[0m\u001b[0m\n\u001b[0;32m---> 44\u001b[0;31m \u001b[0mepisode_rewards\u001b[0m\u001b[0;34m,\u001b[0m \u001b[0mepisode_steps\u001b[0m\u001b[0;34m,\u001b[0m \u001b[0mepisode_finished\u001b[0m \u001b[0;34m=\u001b[0m \u001b[0mtrain\u001b[0m\u001b[0;34m(\u001b[0m\u001b[0menv\u001b[0m\u001b[0;34m,\u001b[0m \u001b[0mq_network\u001b[0m\u001b[0;34m,\u001b[0m \u001b[0mtarget_network\u001b[0m\u001b[0;34m,\u001b[0m \u001b[0moptimizer\u001b[0m\u001b[0;34m)\u001b[0m\u001b[0;34m\u001b[0m\u001b[0;34m\u001b[0m\u001b[0m\n\u001b[0m\u001b[1;32m     45\u001b[0m \u001b[0;34m\u001b[0m\u001b[0m\n\u001b[1;32m     46\u001b[0m \u001b[0mplot_result\u001b[0m\u001b[0;34m(\u001b[0m\u001b[0mLOG_EVERY\u001b[0m\u001b[0;34m,\u001b[0m \u001b[0;36m2\u001b[0m\u001b[0;34m,\u001b[0m \u001b[0mepisode_rewards\u001b[0m\u001b[0;34m,\u001b[0m \u001b[0mepisode_steps\u001b[0m\u001b[0;34m,\u001b[0m \u001b[0mepisode_finished\u001b[0m\u001b[0;34m)\u001b[0m\u001b[0;34m\u001b[0m\u001b[0;34m\u001b[0m\u001b[0m\n",
            "\u001b[0;32m<ipython-input-14-38e9466c8839>\u001b[0m in \u001b[0;36mtrain\u001b[0;34m(env, q_network, target_network, optimizer, seed)\u001b[0m\n\u001b[1;32m     62\u001b[0m         \u001b[0;31m# Compute the loss (Mean Squared Error).\u001b[0m\u001b[0;34m\u001b[0m\u001b[0;34m\u001b[0m\u001b[0m\n\u001b[1;32m     63\u001b[0m         \u001b[0mloss\u001b[0m \u001b[0;34m=\u001b[0m \u001b[0mnn\u001b[0m\u001b[0;34m.\u001b[0m\u001b[0mMSELoss\u001b[0m\u001b[0;34m(\u001b[0m\u001b[0;34m)\u001b[0m\u001b[0;34m(\u001b[0m\u001b[0mq_value\u001b[0m\u001b[0;34m,\u001b[0m \u001b[0mtarget\u001b[0m\u001b[0;34m)\u001b[0m\u001b[0;34m\u001b[0m\u001b[0;34m\u001b[0m\u001b[0m\n\u001b[0;32m---> 64\u001b[0;31m         \u001b[0mlosses\u001b[0m\u001b[0;34m.\u001b[0m\u001b[0mappend\u001b[0m\u001b[0;34m(\u001b[0m\u001b[0mloss\u001b[0m\u001b[0;34m.\u001b[0m\u001b[0mitem\u001b[0m\u001b[0;34m(\u001b[0m\u001b[0;34m)\u001b[0m\u001b[0;34m)\u001b[0m\u001b[0;34m\u001b[0m\u001b[0;34m\u001b[0m\u001b[0m\n\u001b[0m\u001b[1;32m     65\u001b[0m \u001b[0;34m\u001b[0m\u001b[0m\n\u001b[1;32m     66\u001b[0m         \u001b[0moptimizer\u001b[0m\u001b[0;34m.\u001b[0m\u001b[0mzero_grad\u001b[0m\u001b[0;34m(\u001b[0m\u001b[0;34m)\u001b[0m\u001b[0;34m\u001b[0m\u001b[0;34m\u001b[0m\u001b[0m\n",
            "\u001b[0;31mKeyboardInterrupt\u001b[0m: "
          ]
        }
      ]
    },
    {
      "cell_type": "code",
      "source": [
        "from google.colab import drive\n",
        "drive.mount('/content/drive')"
      ],
      "metadata": {
        "id": "rWBhT5WaaKzW"
      },
      "execution_count": null,
      "outputs": []
    },
    {
      "cell_type": "code",
      "source": [
        "NUM_EPISODES = 50\n",
        "\n",
        "# Create the environment\n",
        "env = gymnasium.make(ENV_NAME_4, render_mode=render_mode, highlight=highlight)\n",
        "\n",
        "# Wrap to get a partial (RGB) observation and then extract the image\n",
        "env = RGBImgPartialObsWrapper(env)\n",
        "env = ImgObsWrapper(env)\n",
        "env = FrameStackObservation(env, stack_size=3)\n",
        "\n",
        "train(env, q_network, target_network, optimizer)"
      ],
      "metadata": {
        "id": "U3xunZLCyBVf"
      },
      "execution_count": null,
      "outputs": []
    },
    {
      "cell_type": "code",
      "source": [
        "NUM_EPISODES = 20\n",
        "\n",
        "# Create the environment\n",
        "env = gymnasium.make(ENV_NAME_6, render_mode=render_mode, highlight=highlight)\n",
        "\n",
        "# Wrap to get a partial (RGB) observation and then extract the image\n",
        "env = RGBImgPartialObsWrapper(env)\n",
        "env = ImgObsWrapper(env)\n",
        "env = FrameStackObservation(env, stack_size=3)\n",
        "\n",
        "train(env, q_network, target_network, optimizer)"
      ],
      "metadata": {
        "id": "7pTIm-8WHTJp"
      },
      "execution_count": null,
      "outputs": []
    }
  ],
  "metadata": {
    "colab": {
      "provenance": [],
      "gpuType": "T4",
      "include_colab_link": true
    },
    "kernelspec": {
      "display_name": "Python 3",
      "name": "python3"
    },
    "language_info": {
      "codemirror_mode": {
        "name": "ipython",
        "version": 3
      },
      "file_extension": ".py",
      "mimetype": "text/x-python",
      "name": "python",
      "nbconvert_exporter": "python",
      "pygments_lexer": "ipython3",
      "version": "3.13.1"
    },
    "accelerator": "GPU"
  },
  "nbformat": 4,
  "nbformat_minor": 0
}