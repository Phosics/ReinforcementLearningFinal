{
  "cells": [
    {
      "cell_type": "markdown",
      "metadata": {
        "id": "view-in-github",
        "colab_type": "text"
      },
      "source": [
        "<a href=\"https://colab.research.google.com/github/Phosics/ReinforcementLearningFinal/blob/main/FinalAssignmentItzikTesting.ipynb\" target=\"_parent\"><img src=\"https://colab.research.google.com/assets/colab-badge.svg\" alt=\"Open In Colab\"/></a>"
      ]
    },
    {
      "cell_type": "markdown",
      "metadata": {
        "id": "SLapsBtwOO6m"
      },
      "source": [
        "# Mid Semester Project - DEEP Reinforcements Learning\n",
        "Dear students,<br> this is the template notebook. Please copy it by clicking on the \"File\" tab and then on \"Save a copy into drive\".\n",
        "\n",
        "---\n",
        "<br>\n",
        "\n",
        "### Name and ID:\n",
        "Student 1:\n",
        "<br>\n",
        "Student 2:\n",
        "<br><br>\n",
        "<img src=\"https://raw.githubusercontent.com/Farama-Foundation/Minigrid/master/minigrid-text.png\">\n",
        "\n",
        "### https://minigrid.farama.org/"
      ]
    },
    {
      "cell_type": "markdown",
      "metadata": {
        "id": "4-OzvtfyOYL8"
      },
      "source": [
        "# Pre-Requisit"
      ]
    },
    {
      "cell_type": "markdown",
      "metadata": {
        "id": "fUNptoCrObZs"
      },
      "source": [
        "## Installs"
      ]
    },
    {
      "cell_type": "code",
      "execution_count": 1,
      "metadata": {
        "id": "-YTEVlS-OAQ-"
      },
      "outputs": [],
      "source": [
        "%%capture\n",
        "!sudo apt-get update\n",
        "!sudo apt-get install -y xvfb ffmpeg freeglut3-dev\n",
        "!pip install 'imageio==2.4.0'\n",
        "!apt-get install python-opengl -y\n",
        "!apt install xvfb -y\n",
        "!pip install pyvirtualdisplay\n",
        "!pip install piglet\n",
        "!pip install gymnasium\n",
        "!apt-get install python-opengl -y\n",
        "!apt install xvfb -y\n",
        "!pip install -U --no-cache-dir gdown --pre\n",
        "!pip install minigrid\n",
        "!wget -q https://www.dropbox.com/scl/fi/jhkb2y3jw8wgin9e26ooc/MiniGrid-MultiRoom-N6-v0_vid.mp4?rlkey=qtkrmmbk9aiote5z7w4bx6ixi&st=zbr4gk21&dl=1 -O content/MiniGrid-MultiRoom-N6-v0_vid.mp4\n"
      ]
    },
    {
      "cell_type": "markdown",
      "metadata": {
        "id": "SEFhAxcrOhB1"
      },
      "source": [
        "## Imports"
      ]
    },
    {
      "cell_type": "code",
      "source": [
        "from pyvirtualdisplay import Display\n",
        "from IPython.display import HTML\n",
        "from IPython import display as ipythondisplay\n",
        "import pyvirtualdisplay\n",
        "import IPython\n",
        "import base64\n",
        "import gymnasium\n",
        "import minigrid\n",
        "from minigrid.wrappers import RGBImgObsWrapper, RGBImgPartialObsWrapper, ImgObsWrapper, FullyObsWrapper, RGBImgPartialObsWrapper\n",
        "import matplotlib.pyplot as plt\n",
        "import imageio\n",
        "import numpy as np\n",
        "import cv2\n",
        "import torch\n",
        "import torch.nn as nn\n",
        "import torch.optim as optim\n",
        "import random\n",
        "from collections import deque"
      ],
      "metadata": {
        "id": "peOGhIA-iLk7"
      },
      "execution_count": 12,
      "outputs": []
    },
    {
      "cell_type": "code",
      "source": [
        "# Constants for the environemnt configuration do no change the values\n",
        "highlight = False\n",
        "render_mode = \"rgb_array\""
      ],
      "metadata": {
        "id": "diKi1gEQtM3M"
      },
      "execution_count": 3,
      "outputs": []
    },
    {
      "cell_type": "markdown",
      "metadata": {
        "id": "LnksgjjqOq02"
      },
      "source": [
        "## Display utils\n",
        "The cell below contains the video display configuration. No need to make changes here."
      ]
    },
    {
      "cell_type": "code",
      "execution_count": 4,
      "metadata": {
        "id": "ceUl4Q9JOzpO"
      },
      "outputs": [],
      "source": [
        "def embed_mp4(filename):\n",
        "  \"\"\"Embeds an mp4 file in the notebook.\"\"\"\n",
        "  video = open(filename,'rb').read()\n",
        "  b64 = base64.b64encode(video)\n",
        "  tag = '''\n",
        "  <video width=\"640\" height=\"480\" controls>\n",
        "    <source src=\"data:video/mp4;base64,{0}\" type=\"video/mp4\">\n",
        "  Your browser does not support the video tag.\n",
        "  </video>'''.format(b64.decode())\n",
        "\n",
        "  return IPython.display.HTML(tag)\n",
        "display = pyvirtualdisplay.Display(visible=0, size=(1400, 900)).start()"
      ]
    },
    {
      "cell_type": "markdown",
      "source": [
        "# Introduction\n",
        "\n",
        "For this project, you will work with environments from the [MiniGrid](https://minigrid.farama.org) framework. MiniGrid is designed to test and benchmark reinforcement learning algorithms, offering a diverse range of tasks with varying levels of complexity.\n",
        "\n",
        "MiniGrid environments are built around the concept of a partially observable, grid-based world where an agent operates to achieve predefined objectives.\n",
        "\n",
        "## **MultiRoom Environment**\n",
        "\n",
        "You will work with the **MultiRoom Environment** see docomentation [here](https://minigrid.farama.org/environments/minigrid/MultiRoomEnv/). MultiRoomEnv introduces a level of complexity beyond simple navigation tasks by requiring the agent to navigate through multiple connected rooms to reach a goal. This environment is an excellent testbed for reinforcement learning algorithms that require exploration, memory, and planning.\n",
        "\n"
      ],
      "metadata": {
        "id": "76Bi4SEyip5J"
      }
    },
    {
      "cell_type": "markdown",
      "source": [
        "## Understanding the `done` and `truncated` Mechanisms in MultiRoomEnv\n",
        "\n",
        "As you experienced in the MidTerm assignment, the **GYM** API returns multiple outputs from the **`step`** method. In the MultiRoomEnv environment, two key mechanisms, **`done`** and **`truncated`**, are used to signify the end of an episode. These mechanisms are essential for managing the flow of training and providing valuable feedback about the agent's performance.\n",
        "\n",
        "\n",
        "### `done`\n",
        "- The `done` flag is set to `True` when the agent successfully reaches the goal.\n",
        "- It indicates the successful termination of the episode, meaning the agent has completed the task.\n",
        "- Example scenario: The agent navigates through all the rooms and reaches the green goal square in the final room.\n",
        "\n",
        "### `truncated`\n",
        "- The `truncated` flag is used to terminate an episode when a predefined condition is met, such as exceeding the maximum number of steps allowed.\n",
        "- It does not necessarily indicate success or failure, but rather ensures that episodes do not run indefinitely.\n",
        "- Example scenario: The agent fails to reach the goal within the allowed number of steps, and the episode ends prematurely.\n",
        "\n",
        "**Pay Attention!**\n",
        "\n",
        "Each time the environment is reset, the configuration of the rooms is randomized. This variability should be carefully considered during training, as resetting the environment every time the `max_step` limit is reached can make it challenging for the agent to learn effectively.\n",
        "\n",
        "Additionally, note that the `max_step` parameter is defined as the number of rooms multiplied by 20.\n"
      ],
      "metadata": {
        "id": "Tjh-Gz0MqHDg"
      }
    },
    {
      "cell_type": "markdown",
      "source": [
        "## Random Action Rendering"
      ],
      "metadata": {
        "id": "Sw5k_FWrr0Zd"
      }
    },
    {
      "cell_type": "code",
      "source": [
        "env = gymnasium.make(\"MiniGrid-MultiRoom-N6-v0\", render_mode=render_mode, highlight=highlight)\n",
        "video_filename = '/content/vid.mp4'\n",
        "truncated = False\n",
        "# Evaluation\n",
        "with imageio.get_writer(video_filename, fps=16) as video:\n",
        "  obs, _ = env.reset()\n",
        "  done = False\n",
        "  total_reward = 0\n",
        "  step = 0\n",
        "  while not truncated:\n",
        "      action = env.action_space.sample()\n",
        "      obs, reward, done, truncated  , _ = env.step(action)\n",
        "      next_obs = obs  # Get agent's position directly from the environment\n",
        "      video.append_data(env.render())\n",
        "      step += 1\n",
        "      if truncated:\n",
        "        print(\"done\",\"reward=\", total_reward,\"num_of_steps=\",step)\n",
        "        break\n",
        "embed_mp4(video_filename)"
      ],
      "metadata": {
        "colab": {
          "base_uri": "https://localhost:8080/",
          "height": 519
        },
        "id": "vLBT8jG2r5z4",
        "outputId": "c404df6b-ee21-4f18-e161-e4425ae8142f"
      },
      "execution_count": 5,
      "outputs": [
        {
          "output_type": "stream",
          "name": "stdout",
          "text": [
            "done reward= 0 num_of_steps= 120\n"
          ]
        },
        {
          "output_type": "execute_result",
          "data": {
            "text/plain": [
              "<IPython.core.display.HTML object>"
            ],
            "text/html": [
              "\n",
              "  <video width=\"640\" height=\"480\" controls>\n",
              "    <source src=\"data:video/mp4;base64,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\" type=\"video/mp4\">\n",
              "  Your browser does not support the video tag.\n",
              "  </video>"
            ]
          },
          "metadata": {},
          "execution_count": 5
        }
      ]
    },
    {
      "cell_type": "markdown",
      "source": [
        "## Wrappers for Observations: ImgObsWrapper and RGBImgPartialObsWrapper\n",
        "\n",
        "For this project, you will use two wrappers provided by MiniGrid: **ImgObsWrapper** and **RGBImgPartialObsWrapper**. These wrappers modify the agent's observations.\n",
        "\n",
        "### ImgObsWrapper\n",
        "- The **ImgObsWrapper** converts the observation from its default dictionary format into a single image array.\n",
        "- By default, observations in MiniGrid are returned as a dictionary containing both image data and other optional keys (e.g., mission strings). This wrapper extracts only the image component for simplicity.\n",
        "\n",
        "### RGBImgPartialObsWrapper\n",
        "- This wrapper provides a **partial view of the environment**, but instead of limiting it to a fixed field of view, it shows the **entire visible content of the current room** from the agent's position to the walls in the direction the agent is facing.\n",
        "- The observation dynamically updates as the agent moves or turns, allowing it to see the layout of the room but not beyond its walls or through closed doors.\n",
        "- This introduces the challenge of **partial observability across multiple rooms**, as the agent must explore and navigate to new rooms to gather more information about the environment.\n",
        "\n",
        "\n"
      ],
      "metadata": {
        "id": "WhdA4okKt8fu"
      }
    },
    {
      "cell_type": "markdown",
      "source": [
        "\n",
        "### Wrapper Usage\n",
        "To apply a wrapper, you can modify your environment setup as follows:"
      ],
      "metadata": {
        "id": "zKEmSOdGvCf9"
      }
    },
    {
      "cell_type": "code",
      "source": [
        "fig, axs = plt.subplots(1, 2, figsize=(15, 5))\n",
        "env = gymnasium.make(\"MiniGrid-MultiRoom-N6-v0\", render_mode=render_mode, highlight=highlight)\n",
        "env = RGBImgPartialObsWrapper(env)\n",
        "env = ImgObsWrapper(env)\n",
        "obs, _ = env.reset()\n",
        "axs[1].imshow(obs)\n",
        "axs[1].title.set_text(f'RGBImgPartialObsWrapper, shape: {obs.shape}')\n",
        "axs[0].imshow(env.render())\n",
        "axs[0].title.set_text(f'Full state')\n",
        "plt.show()"
      ],
      "metadata": {
        "colab": {
          "base_uri": "https://localhost:8080/",
          "height": 468
        },
        "id": "kZCKkKFiu-IV",
        "outputId": "a87f6115-d6a7-4f05-cfa6-1c80f5c053ee"
      },
      "execution_count": 6,
      "outputs": [
        {
          "output_type": "display_data",
          "data": {
            "text/plain": [
              "<Figure size 1500x500 with 2 Axes>"
            ],
            "image/png": "[encoded data removed]"
          },
          "metadata": {}
        }
      ]
    },
    {
      "cell_type": "markdown",
      "source": [
        "## Initializing the smaller environments"
      ],
      "metadata": {
        "id": "5ydi5m69RBSs"
      }
    },
    {
      "cell_type": "code",
      "source": [
        "env = gymnasium.make(\"MiniGrid-MultiRoom-N2-S4-v0\", render_mode=render_mode, highlight=highlight)\n",
        "fig, axs = plt.subplots(1, 2, figsize=(15, 5))\n",
        "env = RGBImgPartialObsWrapper(env)\n",
        "env = ImgObsWrapper(env)\n",
        "obs, _ = env.reset()\n",
        "axs[0].imshow(env.render())\n",
        "axs[0].title.set_text(f'MiniGrid-MultiRoom-N2-S4-v0')\n",
        "\n",
        "\n",
        "\n",
        "env = gymnasium.make(\"MiniGrid-MultiRoom-N4-S5-v0\", render_mode=render_mode, highlight=highlight)\n",
        "env = RGBImgPartialObsWrapper(env)\n",
        "env = ImgObsWrapper(env)\n",
        "obs, _ = env.reset()\n",
        "axs[1].imshow(env.render())\n",
        "axs[1].title.set_text(f'MiniGrid-MultiRoom-N4-S5-v0')\n",
        "plt.show()"
      ],
      "metadata": {
        "colab": {
          "base_uri": "https://localhost:8080/",
          "height": 468
        },
        "id": "QFEJ9keiRLUB",
        "outputId": "cc3221dc-df75-4864-ed69-fd0508982833"
      },
      "execution_count": 7,
      "outputs": [
        {
          "output_type": "display_data",
          "data": {
            "text/plain": [
              "<Figure size 1500x500 with 2 Axes>"
            ],
            "image/png": "[encoded data removed]"
          },
          "metadata": {}
        }
      ]
    },
    {
      "cell_type": "markdown",
      "source": [
        "### Partial Observation Example"
      ],
      "metadata": {
        "id": "AiHHFwv2ZBd7"
      }
    },
    {
      "cell_type": "code",
      "source": [
        "env = gymnasium.make(\"MiniGrid-MultiRoom-N6-v0\", render_mode=render_mode, highlight=highlight)\n",
        "env = RGBImgPartialObsWrapper(env)\n",
        "env = ImgObsWrapper(env)\n",
        "video_filename = '/content/vid_partial.mp4'\n",
        "truncated = False\n",
        "# Evaluation\n",
        "with imageio.get_writer(video_filename, fps=10) as video:\n",
        "  obs, _ = env.reset()\n",
        "  done = False\n",
        "  total_reward = 0\n",
        "  step = 0\n",
        "  while not truncated:\n",
        "      action = env.action_space.sample()\n",
        "      obs, reward, done, truncated  , _ = env.step(action)\n",
        "      next_obs = obs  # Get agent's position directly from the environment\n",
        "      video.append_data(obs)\n",
        "      step += 1\n",
        "      if truncated:\n",
        "        print(\"done\",\"reward=\", total_reward,\"num_of_steps=\",step)\n",
        "        break\n",
        "embed_mp4(video_filename)"
      ],
      "metadata": {
        "colab": {
          "base_uri": "https://localhost:8080/",
          "height": 556
        },
        "id": "7gwWN2ANYmAR",
        "outputId": "d1b2305a-b3ef-4107-ad8a-ec1da806bf38"
      },
      "execution_count": 8,
      "outputs": [
        {
          "output_type": "stream",
          "name": "stderr",
          "text": [
            "WARNING:root:IMAGEIO FFMPEG_WRITER WARNING: input image is not divisible by macro_block_size=16, resizing from (56, 56) to (64, 64) to ensure video compatibility with most codecs and players. To prevent resizing, make your input image divisible by the macro_block_size or set the macro_block_size to None (risking incompatibility). You may also see a FFMPEG warning concerning speedloss due to data not being aligned.\n"
          ]
        },
        {
          "output_type": "stream",
          "name": "stdout",
          "text": [
            "done reward= 0 num_of_steps= 120\n"
          ]
        },
        {
          "output_type": "execute_result",
          "data": {
            "text/plain": [
              "<IPython.core.display.HTML object>"
            ],
            "text/html": [
              "\n",
              "  <video width=\"640\" height=\"480\" controls>\n",
              "    <source src=\"data:video/mp4;base64,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\" type=\"video/mp4\">\n",
              "  Your browser does not support the video tag.\n",
              "  </video>"
            ]
          },
          "metadata": {},
          "execution_count": 8
        }
      ]
    },
    {
      "cell_type": "markdown",
      "source": [
        "## Exmple from our solution"
      ],
      "metadata": {
        "id": "FvMK87FGd7Wm"
      }
    },
    {
      "cell_type": "code",
      "source": [
        "# Step 1: Correct download path\n",
        "# Call the function\n",
        "embed_mp4('MiniGrid-MultiRoom-N6-v0_vid.mp4?rlkey=qtkrmmbk9aiote5z7w4bx6ixi')\n"
      ],
      "metadata": {
        "colab": {
          "base_uri": "https://localhost:8080/",
          "height": 501
        },
        "id": "wmaiTB4SZzLp",
        "outputId": "6ee37cc4-dc68-401f-f1f5-185395c0a914"
      },
      "execution_count": 9,
      "outputs": [
        {
          "output_type": "execute_result",
          "data": {
            "text/plain": [
              "<IPython.core.display.HTML object>"
            ],
            "text/html": [
              "\n",
              "  <video width=\"640\" height=\"480\" controls>\n",
              "    <source src=\"data:video/mp4;base64,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\" type=\"video/mp4\">\n",
              "  Your browser does not support the video tag.\n",
              "  </video>"
            ]
          },
          "metadata": {},
          "execution_count": 9
        }
      ]
    },
    {
      "cell_type": "code",
      "source": [
        "# Set to use GPU\n",
        "device = torch.device(\"cuda\" if torch.cuda.is_available() else \"cpu\")"
      ],
      "metadata": {
        "id": "P_yzi-IamaTl"
      },
      "execution_count": 10,
      "outputs": []
    },
    {
      "cell_type": "markdown",
      "source": [
        "# DQN"
      ],
      "metadata": {
        "id": "ePuMBR7noGyB"
      }
    },
    {
      "cell_type": "code",
      "source": [
        "##############################################\n",
        "# Define the Q-Network (using PyTorch)\n",
        "##############################################\n",
        "\n",
        "class DQN(nn.Module):\n",
        "    def __init__(self, input_shape, num_actions):\n",
        "        \"\"\"\n",
        "        A convolutional neural network that maps image observations to Q-values.\n",
        "        \"\"\"\n",
        "        super(DQN, self).__init__()\n",
        "        # Input shape: (channels, height, width)\n",
        "        self.conv = nn.Sequential(\n",
        "            nn.Conv2d(input_shape[0], 32, kernel_size=3, stride=1),\n",
        "            nn.ReLU(),\n",
        "            nn.Conv2d(32, 64, kernel_size=3, stride=1),\n",
        "            nn.ReLU(),\n",
        "            nn.Flatten()\n",
        "        )\n",
        "        # Calculate the size of the output of conv layers for fully connected layers.\n",
        "        with torch.no_grad():\n",
        "            dummy_input = torch.zeros(1, *input_shape)\n",
        "            conv_out_size = self.conv(dummy_input).shape[1]\n",
        "\n",
        "        self.fc = nn.Sequential(\n",
        "            nn.Linear(conv_out_size, 128),\n",
        "            nn.ReLU(),\n",
        "            nn.Linear(128, num_actions)\n",
        "        )\n",
        "\n",
        "    def forward(self, x):\n",
        "        # Normalize pixel values from [0,255] to [0,1]\n",
        "        x = x.float() / 255.0\n",
        "        conv_out = self.conv(x)\n",
        "        q_values = self.fc(conv_out)\n",
        "        return q_values\n",
        "\n",
        "##############################################\n",
        "# Experience Replay Buffer\n",
        "##############################################\n",
        "\n",
        "class ReplayBuffer:\n",
        "    def __init__(self, capacity):\n",
        "        self.capacity = capacity\n",
        "        self.buffer = deque(maxlen=capacity)\n",
        "\n",
        "    def push(self, state, action, reward, next_state, done):\n",
        "        \"\"\"\n",
        "        Save a transition.\n",
        "        \"\"\"\n",
        "        self.buffer.append((state, action, reward, next_state, done))\n",
        "\n",
        "    def sample(self, batch_size):\n",
        "        \"\"\"\n",
        "        Sample a batch of transitions.\n",
        "        \"\"\"\n",
        "        batch = random.sample(self.buffer, batch_size)\n",
        "        # Transpose the batch (list of tuples) into tuples of lists.\n",
        "        states, actions, rewards, next_states, dones = map(np.array, zip(*batch))\n",
        "        return states, actions, rewards, next_states, dones\n",
        "\n",
        "    def __len__(self):\n",
        "        return len(self.buffer)"
      ],
      "metadata": {
        "id": "J08AyMRunuQ_"
      },
      "execution_count": 14,
      "outputs": []
    },
    {
      "cell_type": "code",
      "source": [
        "##############################################\n",
        "# Hyperparameters\n",
        "##############################################\n",
        "\n",
        "# Environment settings\n",
        "ENV_NAME = \"MiniGrid-MultiRoom-N2-v0\"\n",
        "REPLAY_BUFFER_CAPACITY = 10000\n",
        "BATCH_SIZE = 32\n",
        "GAMMA = 0.99\n",
        "LEARNING_RATE = 1e-4\n",
        "NUM_EPISODES = 1000\n",
        "TARGET_UPDATE_FREQ = 1000  # steps\n",
        "EPSILON_START = 1.0\n",
        "EPSILON_FINAL = 0.1\n",
        "EPSILON_DECAY = 10000  # steps over which epsilon decays\n",
        "SEED = 42"
      ],
      "metadata": {
        "id": "o_SxTOJEn5mc"
      },
      "execution_count": 13,
      "outputs": []
    },
    {
      "cell_type": "code",
      "source": [
        "##############################################\n",
        "# Reset Environment\n",
        "##############################################\n",
        "\n",
        "def env_reset(env):\n",
        "    state = env.reset()\n",
        "\n",
        "    # The observation is an image in shape (height, width, channels).\n",
        "    # PyTorch expects (channels, height, width).\n",
        "    return np.transpose(state, (2, 0, 1))\n",
        "\n",
        "##############################################\n",
        "# Epsilon Greedy Exploration Schedule\n",
        "##############################################\n",
        "\n",
        "def epsilon_by_frame(frame_idx):\n",
        "    \"\"\"\n",
        "    Returns the epsilon value for the epsilon-greedy exploration strategy,\n",
        "    decaying exponentially from EPSILON_START to EPSILON_FINAL.\n",
        "    \"\"\"\n",
        "    epsilon = EPSILON_FINAL + (EPSILON_START - EPSILON_FINAL) * np.exp(-1. * frame_idx / EPSILON_DECAY)\n",
        "    return epsilon\n",
        "\n",
        "##############################################\n",
        "# Select Action\n",
        "##############################################\n",
        "def select_action()\n",
        "# Epsilon-greedy action selection.\n",
        "epsilon = epsilon_by_frame(frame_idx)\n",
        "if random.random() < epsilon:\n",
        "    action = env.action_space.sample()\n",
        "else:\n",
        "    with torch.no_grad():\n",
        "        q_vals = q_network(state_tensor)\n",
        "        action = q_vals.argmax(1).item()"
      ],
      "metadata": {
        "id": "uc8DRE3rDLHH"
      },
      "execution_count": null,
      "outputs": []
    },
    {
      "cell_type": "code",
      "source": [
        "##############################################\n",
        "# Main Training Loop\n",
        "##############################################\n",
        "\n",
        "def train():\n",
        "    # Create the environment\n",
        "    env = gymnasium.make(ENV_NAME)\n",
        "\n",
        "    # Wrap to get a partial (RGB) observation and then extract the image\n",
        "    env = RGBImgPartialObsWrapper(env)\n",
        "    env = ImgObsWrapper(env)\n",
        "\n",
        "    # Set seeds for reproducibility.\n",
        "    if SEED:\n",
        "        env.seed(SEED)\n",
        "        torch.manual_seed(SEED)\n",
        "        np.random.seed(SEED)\n",
        "        random.seed(SEED)\n",
        "\n",
        "    # Get initial observation and derive input dimensions.\n",
        "    obs = env_reset(env)\n",
        "    input_shape = obs.shape\n",
        "    num_actions = env.action_space.n\n",
        "\n",
        "    # Initialize the Q-network and target network.\n",
        "    q_network = DQN(input_shape, num_actions).to(device)\n",
        "    target_network = DQN(input_shape, num_actions).to(device)\n",
        "    target_network.load_state_dict(q_network.state_dict())\n",
        "    target_network.eval()  # Target network is only used for inference.\n",
        "\n",
        "    optimizer = optim.Adam(q_network.parameters(), lr=LEARNING_RATE)\n",
        "    replay_buffer = ReplayBuffer(REPLAY_BUFFER_CAPACITY)\n",
        "\n",
        "    episode_rewards = []\n",
        "    frame_idx = 0\n",
        "    losses = []\n",
        "\n",
        "    for episode in range(1, NUM_EPISODES + 1):\n",
        "        state = env_reset(env)\n",
        "        episode_reward = 0\n",
        "        done = False\n",
        "\n",
        "        while not done:\n",
        "            frame_idx += 1\n",
        "            # Prepare the current state tensor.\n",
        "            state_tensor = torch.tensor(np.expand_dims(state, axis=0), dtype=torch.uint8).to(device)\n",
        "\n",
        "            # Epsilon-greedy action selection.\n",
        "            epsilon = epsilon_by_frame(frame_idx)\n",
        "            if random.random() < epsilon:\n",
        "                action = env.action_space.sample()\n",
        "            else:\n",
        "                with torch.no_grad():\n",
        "                    q_vals = q_network(state_tensor)\n",
        "                    action = q_vals.argmax(1).item()\n",
        "\n",
        "            # Take the action in the environment.\n",
        "            next_state, reward, done, _ = env.step(action)\n",
        "            episode_reward += reward\n",
        "            next_state_proc = np.transpose(next_state, (2, 0, 1))\n",
        "\n",
        "            # Save the transition in the replay buffer.\n",
        "            replay_buffer.push(state, action, reward, next_state_proc, done)\n",
        "            state = next_state_proc\n",
        "\n",
        "            # Update the Q-network once enough samples are available.\n",
        "            if len(replay_buffer) > BATCH_SIZE:\n",
        "                states, actions, rewards, next_states, dones = replay_buffer.sample(BATCH_SIZE)\n",
        "\n",
        "                # Convert the mini-batch to PyTorch tensors.\n",
        "                states = torch.tensor(states, dtype=torch.uint8).to(device)\n",
        "                actions = torch.tensor(actions, dtype=torch.long).to(device)\n",
        "                rewards = torch.tensor(rewards, dtype=torch.float32).to(device)\n",
        "                next_states = torch.tensor(next_states, dtype=torch.uint8).to(device)\n",
        "                dones = torch.tensor(dones, dtype=torch.float32).to(device)\n",
        "\n",
        "                # Compute Q-values for current states.\n",
        "                q_values = q_network(states)\n",
        "                q_value = q_values.gather(1, actions.unsqueeze(1)).squeeze(1)\n",
        "\n",
        "                # Compute target Q-values using the target network.\n",
        "                with torch.no_grad():\n",
        "                    next_q_values = target_network(next_states)\n",
        "                    next_q_value = next_q_values.max(1)[0]\n",
        "                    target = rewards + GAMMA * next_q_value * (1 - dones)\n",
        "\n",
        "                # Compute the loss (Mean Squared Error).\n",
        "                loss = nn.MSELoss()(q_value, target)\n",
        "                losses.append(loss.item())\n",
        "\n",
        "                optimizer.zero_grad()\n",
        "                loss.backward()\n",
        "                optimizer.step()\n",
        "\n",
        "                # Update the target network periodically.\n",
        "                if frame_idx % TARGET_UPDATE_FREQ == 0:\n",
        "                    target_network.load_state_dict(q_network.state_dict())\n",
        "\n",
        "        episode_rewards.append(episode_reward)\n",
        "        if episode % 10 == 0:\n",
        "            avg_reward = np.mean(episode_rewards[-10:])\n",
        "            avg_loss = np.mean(losses[-100:]) if losses else 0\n",
        "            print(f\"Episode: {episode}, Frame: {frame_idx}, Avg Reward (last 10): {avg_reward:.2f}, Loss: {avg_loss:.4f}, Epsilon: {epsilon:.3f}\")\n",
        "\n",
        "    env.close()"
      ],
      "metadata": {
        "id": "NXru0wObn7GF"
      },
      "execution_count": null,
      "outputs": []
    },
    {
      "cell_type": "markdown",
      "source": [
        "# PPO"
      ],
      "metadata": {
        "id": "R-GqBbW31xxx"
      }
    },
    {
      "cell_type": "code",
      "source": [
        "##############################################\n",
        "# Define the Actor-Critic Network\n",
        "##############################################\n",
        "\n",
        "class ActorCritic(nn.Module):\n",
        "    def __init__(self, input_shape, num_actions):\n",
        "        \"\"\"\n",
        "        A convolutional actor-critic network for processing image observations.\n",
        "        \"\"\"\n",
        "        super(ActorCritic, self).__init__()\n",
        "        # Input shape is expected to be (channels, height, width)\n",
        "        self.conv = nn.Sequential(\n",
        "            nn.Conv2d(input_shape[0], 32, kernel_size=3, stride=1),\n",
        "            nn.ReLU(),\n",
        "            nn.Conv2d(32, 64, kernel_size=3, stride=1),\n",
        "            nn.ReLU(),\n",
        "            nn.Flatten()\n",
        "        )\n",
        "        # Compute the size of the flattened conv output to build the fully connected layers.\n",
        "        with torch.no_grad():\n",
        "            dummy_input = torch.zeros(1, *input_shape)\n",
        "            conv_out_size = self.conv(dummy_input).shape[1]\n",
        "\n",
        "        self.fc_actor = nn.Sequential(\n",
        "            nn.Linear(conv_out_size, 128),\n",
        "            nn.ReLU(),\n",
        "            nn.Linear(128, num_actions)\n",
        "        )\n",
        "        self.fc_critic = nn.Sequential(\n",
        "            nn.Linear(conv_out_size, 128),\n",
        "            nn.ReLU(),\n",
        "            nn.Linear(128, 1)\n",
        "        )\n",
        "\n",
        "    def forward(self, x):\n",
        "        # Normalize pixel values to [0,1]\n",
        "        x = x.float() / 255.0\n",
        "        x = self.conv(x)\n",
        "        logits = self.fc_actor(x)\n",
        "        value = self.fc_critic(x)\n",
        "        return logits, value\n",
        "\n",
        "    def act(self, obs):\n",
        "        \"\"\"\n",
        "        Given an observation, select an action and return action details.\n",
        "        \"\"\"\n",
        "        logits, value = self.forward(obs)\n",
        "        # Create a categorical distribution over actions\n",
        "        probs = torch.softmax(logits, dim=-1)\n",
        "        dist = torch.distributions.Categorical(probs)\n",
        "        action = dist.sample()\n",
        "        return action.item(), dist.log_prob(action), value\n",
        "\n",
        "    def evaluate_actions(self, obs, actions):\n",
        "        \"\"\"\n",
        "        Evaluate given actions (for PPO loss computation).\n",
        "        \"\"\"\n",
        "        logits, value = self.forward(obs)\n",
        "        probs = torch.softmax(logits, dim=-1)\n",
        "        dist = torch.distributions.Categorical(probs)\n",
        "        action_log_probs = dist.log_prob(actions)\n",
        "        dist_entropy = dist.entropy()\n",
        "        return action_log_probs, torch.squeeze(value), dist_entropy\n",
        "\n",
        "##############################################\n",
        "# Helper: Compute GAE\n",
        "##############################################\n",
        "\n",
        "def compute_gae(rewards, values, dones, gamma, lam):\n",
        "    \"\"\"\n",
        "    Compute Generalized Advantage Estimation (GAE)\n",
        "    \"\"\"\n",
        "    advantages = []\n",
        "    gae = 0\n",
        "    # Append a dummy value for the next state.\n",
        "    values = values + [0]\n",
        "    for step in reversed(range(len(rewards))):\n",
        "        mask = 1.0 - dones[step]\n",
        "        delta = rewards[step] + gamma * values[step + 1] * mask - values[step]\n",
        "        gae = delta + gamma * lam * mask * gae\n",
        "        advantages.insert(0, gae)\n",
        "    returns = [adv + val for adv, val in zip(advantages, values[:-1])]\n",
        "    return advantages, returns"
      ],
      "metadata": {
        "id": "ndiJpETOoPYi"
      },
      "execution_count": null,
      "outputs": []
    },
    {
      "cell_type": "code",
      "source": [
        "##############################################\n",
        "# PPO Hyperparameters\n",
        "##############################################\n",
        "\n",
        "ppo_epochs = 4           # Number of PPO epochs per update\n",
        "mini_batch_size = 64     # Size of mini-batches for optimization\n",
        "clip_epsilon = 0.2       # PPO clipping epsilon\n",
        "gamma = 0.99             # Discount factor\n",
        "gae_lambda = 0.95        # GAE lambda\n",
        "learning_rate = 2.5e-4   # Learning rate for optimizer\n",
        "num_steps = 128          # Number of steps to collect per update\n",
        "total_updates = 10000    # Total number of updates"
      ],
      "metadata": {
        "id": "BQxDC29qoQwF"
      },
      "execution_count": null,
      "outputs": []
    },
    {
      "cell_type": "code",
      "source": [
        "##############################################\n",
        "# Main Training Loop\n",
        "##############################################\n",
        "\n",
        "def train():\n",
        "    # Create the MiniGrid MultiRoom environment.\n",
        "    # (Change the env name as needed. For example: \"MiniGrid-MultiRoom-N2-v0\")\n",
        "    env = gym.make(\"MiniGrid-MultiRoom-N2-v0\")\n",
        "\n",
        "    # Choose one of the wrappers:\n",
        "    # Use the ImgObsWrapper for fully observable image observations:\n",
        "    env = ImgObsWrapper(env)\n",
        "    # Or, to use partial RGB image observations, uncomment the next line:\n",
        "    # env = RGBImgPartialObsWrapper(env)\n",
        "\n",
        "    # Seed for reproducibility\n",
        "    env.seed(42)\n",
        "    torch.manual_seed(42)\n",
        "    np.random.seed(42)\n",
        "\n",
        "    # Get observation and action space information.\n",
        "    obs = env.reset()\n",
        "    # The observation from the wrappers is an image: shape (height, width, channels)\n",
        "    # PyTorch expects (channels, height, width)\n",
        "    obs = np.transpose(obs, (2, 0, 1))\n",
        "    input_shape = obs.shape  # e.g. (3, 84, 84) depending on the wrapper/env.\n",
        "    num_actions = env.action_space.n\n",
        "\n",
        "    # Initialize our actor-critic network and optimizer.\n",
        "    model = ActorCritic(input_shape, num_actions).to(device)\n",
        "    optimizer = optim.Adam(model.parameters(), lr=learning_rate)\n",
        "\n",
        "    # Tracking rewards for display.\n",
        "    episode_rewards = deque(maxlen=10)\n",
        "    total_episode_reward = 0\n",
        "    episode = 0\n",
        "\n",
        "    # Start main training loop.\n",
        "    obs = env.reset()\n",
        "    obs = np.transpose(obs, (2, 0, 1))\n",
        "    obs = torch.tensor(obs, dtype=torch.uint8).unsqueeze(0).to(device)\n",
        "\n",
        "    for update in range(total_updates):\n",
        "        observations = []\n",
        "        actions = []\n",
        "        log_probs = []\n",
        "        rewards = []\n",
        "        dones = []\n",
        "        values = []\n",
        "\n",
        "        # Collect trajectories for num_steps time steps.\n",
        "        for step in range(num_steps):\n",
        "            action, log_prob, value = model.act(obs)\n",
        "            observations.append(obs)\n",
        "            actions.append(action)\n",
        "            log_probs.append(log_prob)\n",
        "            values.append(value.item())\n",
        "\n",
        "            # Step the environment\n",
        "            next_obs, reward, done, info = env.step(action)\n",
        "            total_episode_reward += reward\n",
        "\n",
        "            rewards.append(reward)\n",
        "            dones.append(done)\n",
        "\n",
        "            if done:\n",
        "                episode_rewards.append(total_episode_reward)\n",
        "                total_episode_reward = 0\n",
        "                episode += 1\n",
        "                next_obs = env.reset()\n",
        "\n",
        "            next_obs = np.transpose(next_obs, (2, 0, 1))\n",
        "            obs = torch.tensor(next_obs, dtype=torch.uint8).unsqueeze(0).to(device)\n",
        "\n",
        "        # Compute advantages and returns.\n",
        "        advantages, returns = compute_gae(rewards, values, dones, gamma, gae_lambda)\n",
        "        advantages = torch.tensor(advantages, dtype=torch.float32).to(device)\n",
        "        returns = torch.tensor(returns, dtype=torch.float32).to(device)\n",
        "        actions = torch.tensor(actions).to(device)\n",
        "        old_log_probs = torch.stack(log_probs).detach().to(device)\n",
        "\n",
        "        # Flatten collected observations (they are stored as [T, 1, C, H, W]).\n",
        "        observations = torch.cat(observations, dim=0).float()  # Shape: (num_steps, C, H, W)\n",
        "\n",
        "        # PPO update: iterate multiple times over the batch.\n",
        "        batch_size = num_steps\n",
        "        indices = np.arange(batch_size)\n",
        "        for epoch in range(ppo_epochs):\n",
        "            np.random.shuffle(indices)\n",
        "            for start in range(0, batch_size, mini_batch_size):\n",
        "                end = start + mini_batch_size\n",
        "                mb_idx = indices[start:end]\n",
        "\n",
        "                mb_obs = observations[mb_idx]\n",
        "                mb_actions = actions[mb_idx]\n",
        "                mb_old_log_probs = old_log_probs[mb_idx]\n",
        "                mb_returns = returns[mb_idx]\n",
        "                mb_advantages = advantages[mb_idx]\n",
        "\n",
        "                # Normalize advantages (optional but often helps training).\n",
        "                mb_advantages = (mb_advantages - mb_advantages.mean()) / (mb_advantages.std() + 1e-8)\n",
        "\n",
        "                # Evaluate current policy on the mini-batch.\n",
        "                new_log_probs, values_est, entropy = model.evaluate_actions(mb_obs, mb_actions)\n",
        "                ratio = torch.exp(new_log_probs - mb_old_log_probs)\n",
        "\n",
        "                # Compute surrogate PPO loss.\n",
        "                surr1 = ratio * mb_advantages\n",
        "                surr2 = torch.clamp(ratio, 1.0 - clip_epsilon, 1.0 + clip_epsilon) * mb_advantages\n",
        "                policy_loss = -torch.min(surr1, surr2).mean()\n",
        "\n",
        "                # Value loss (using Mean Squared Error).\n",
        "                value_loss = nn.MSELoss()(values_est, mb_returns)\n",
        "\n",
        "                # Total loss with an entropy bonus.\n",
        "                loss = policy_loss + 0.5 * value_loss - 0.01 * entropy.mean()\n",
        "\n",
        "                optimizer.zero_grad()\n",
        "                loss.backward()\n",
        "                optimizer.step()\n",
        "\n",
        "        # Display progress every 100 updates.\n",
        "        if update % 100 == 0:\n",
        "            avg_reward = np.mean(episode_rewards) if episode_rewards else 0\n",
        "            print(f\"Update {update}, Episode {episode}, Avg Reward (last 10): {avg_reward:.2f}\")\n",
        "\n",
        "    env.close()"
      ],
      "metadata": {
        "id": "gchBh3xhoVe5"
      },
      "execution_count": null,
      "outputs": []
    }
  ],
  "metadata": {
    "colab": {
      "provenance": [],
      "gpuType": "T4",
      "include_colab_link": true
    },
    "kernelspec": {
      "display_name": "Python 3",
      "name": "python3"
    },
    "language_info": {
      "codemirror_mode": {
        "name": "ipython",
        "version": 3
      },
      "file_extension": ".py",
      "mimetype": "text/x-python",
      "name": "python",
      "nbconvert_exporter": "python",
      "pygments_lexer": "ipython3",
      "version": "3.13.1"
    },
    "accelerator": "GPU"
  },
  "nbformat": 4,
  "nbformat_minor": 0
}