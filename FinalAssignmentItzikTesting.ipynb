{
  "cells": [
    {
      "cell_type": "markdown",
      "metadata": {
        "id": "view-in-github",
        "colab_type": "text"
      },
      "source": [
        "<a href=\"https://colab.research.google.com/github/Phosics/ReinforcementLearningFinal/blob/main/FinalAssignmentItzikTesting.ipynb\" target=\"_parent\"><img src=\"https://colab.research.google.com/assets/colab-badge.svg\" alt=\"Open In Colab\"/></a>"
      ]
    },
    {
      "cell_type": "markdown",
      "metadata": {
        "id": "SLapsBtwOO6m"
      },
      "source": [
        "# Mid Semester Project - DEEP Reinforcements Learning\n",
        "Dear students,<br> this is the template notebook. Please copy it by clicking on the \"File\" tab and then on \"Save a copy into drive\".\n",
        "\n",
        "---\n",
        "<br>\n",
        "\n",
        "### Name and ID:\n",
        "Student 1:\n",
        "<br>\n",
        "Student 2:\n",
        "<br><br>\n",
        "<img src=\"https://raw.githubusercontent.com/Farama-Foundation/Minigrid/master/minigrid-text.png\">\n",
        "\n",
        "### https://minigrid.farama.org/"
      ]
    },
    {
      "cell_type": "markdown",
      "metadata": {
        "id": "4-OzvtfyOYL8"
      },
      "source": [
        "# Pre-Requisit"
      ]
    },
    {
      "cell_type": "markdown",
      "metadata": {
        "id": "fUNptoCrObZs"
      },
      "source": [
        "## Installs"
      ]
    },
    {
      "cell_type": "code",
      "execution_count": 1,
      "metadata": {
        "id": "-YTEVlS-OAQ-"
      },
      "outputs": [],
      "source": [
        "%%capture\n",
        "!sudo apt-get update\n",
        "!sudo apt-get install -y xvfb ffmpeg freeglut3-dev\n",
        "!pip install 'imageio==2.4.0'\n",
        "!apt-get install python-opengl -y\n",
        "!apt install xvfb -y\n",
        "!pip install pyvirtualdisplay\n",
        "!pip install piglet\n",
        "!pip install gymnasium\n",
        "!apt-get install python-opengl -y\n",
        "!apt install xvfb -y\n",
        "!pip install -U --no-cache-dir gdown --pre\n",
        "!pip install minigrid\n",
        "!wget -q https://www.dropbox.com/scl/fi/jhkb2y3jw8wgin9e26ooc/MiniGrid-MultiRoom-N6-v0_vid.mp4?rlkey=qtkrmmbk9aiote5z7w4bx6ixi&st=zbr4gk21&dl=1 -O content/MiniGrid-MultiRoom-N6-v0_vid.mp4\n"
      ]
    },
    {
      "cell_type": "markdown",
      "metadata": {
        "id": "SEFhAxcrOhB1"
      },
      "source": [
        "## Imports"
      ]
    },
    {
      "cell_type": "code",
      "source": [
        "from pyvirtualdisplay import Display\n",
        "from IPython.display import HTML\n",
        "from IPython import display as ipythondisplay\n",
        "import pyvirtualdisplay\n",
        "import IPython\n",
        "import base64\n",
        "import gymnasium\n",
        "import minigrid\n",
        "from minigrid.wrappers import RGBImgObsWrapper, RGBImgPartialObsWrapper, ImgObsWrapper, FullyObsWrapper, RGBImgPartialObsWrapper\n",
        "from gymnasium.wrappers import FrameStackObservation\n",
        "import matplotlib.pyplot as plt\n",
        "import imageio\n",
        "import numpy as np\n",
        "import cv2\n",
        "import torch\n",
        "import torch.nn as nn\n",
        "import torch.optim as optim\n",
        "import random\n",
        "from collections import deque"
      ],
      "metadata": {
        "id": "peOGhIA-iLk7"
      },
      "execution_count": 2,
      "outputs": []
    },
    {
      "cell_type": "code",
      "source": [
        "# Constants for the environemnt configuration do no change the values\n",
        "highlight = False\n",
        "render_mode = \"rgb_array\""
      ],
      "metadata": {
        "id": "diKi1gEQtM3M"
      },
      "execution_count": 3,
      "outputs": []
    },
    {
      "cell_type": "markdown",
      "metadata": {
        "id": "LnksgjjqOq02"
      },
      "source": [
        "## Display utils\n",
        "The cell below contains the video display configuration. No need to make changes here."
      ]
    },
    {
      "cell_type": "code",
      "execution_count": 4,
      "metadata": {
        "id": "ceUl4Q9JOzpO"
      },
      "outputs": [],
      "source": [
        "def embed_mp4(filename):\n",
        "  \"\"\"Embeds an mp4 file in the notebook.\"\"\"\n",
        "  video = open(filename,'rb').read()\n",
        "  b64 = base64.b64encode(video)\n",
        "  tag = '''\n",
        "  <video width=\"640\" height=\"480\" controls>\n",
        "    <source src=\"data:video/mp4;base64,{0}\" type=\"video/mp4\">\n",
        "  Your browser does not support the video tag.\n",
        "  </video>'''.format(b64.decode())\n",
        "\n",
        "  return IPython.display.HTML(tag)\n",
        "display = pyvirtualdisplay.Display(visible=0, size=(1400, 900)).start()"
      ]
    },
    {
      "cell_type": "markdown",
      "source": [
        "# Introduction\n",
        "\n",
        "For this project, you will work with environments from the [MiniGrid](https://minigrid.farama.org) framework. MiniGrid is designed to test and benchmark reinforcement learning algorithms, offering a diverse range of tasks with varying levels of complexity.\n",
        "\n",
        "MiniGrid environments are built around the concept of a partially observable, grid-based world where an agent operates to achieve predefined objectives.\n",
        "\n",
        "## **MultiRoom Environment**\n",
        "\n",
        "You will work with the **MultiRoom Environment** see docomentation [here](https://minigrid.farama.org/environments/minigrid/MultiRoomEnv/). MultiRoomEnv introduces a level of complexity beyond simple navigation tasks by requiring the agent to navigate through multiple connected rooms to reach a goal. This environment is an excellent testbed for reinforcement learning algorithms that require exploration, memory, and planning.\n",
        "\n"
      ],
      "metadata": {
        "id": "76Bi4SEyip5J"
      }
    },
    {
      "cell_type": "markdown",
      "source": [
        "## Understanding the `done` and `truncated` Mechanisms in MultiRoomEnv\n",
        "\n",
        "As you experienced in the MidTerm assignment, the **GYM** API returns multiple outputs from the **`step`** method. In the MultiRoomEnv environment, two key mechanisms, **`done`** and **`truncated`**, are used to signify the end of an episode. These mechanisms are essential for managing the flow of training and providing valuable feedback about the agent's performance.\n",
        "\n",
        "\n",
        "### `done`\n",
        "- The `done` flag is set to `True` when the agent successfully reaches the goal.\n",
        "- It indicates the successful termination of the episode, meaning the agent has completed the task.\n",
        "- Example scenario: The agent navigates through all the rooms and reaches the green goal square in the final room.\n",
        "\n",
        "### `truncated`\n",
        "- The `truncated` flag is used to terminate an episode when a predefined condition is met, such as exceeding the maximum number of steps allowed.\n",
        "- It does not necessarily indicate success or failure, but rather ensures that episodes do not run indefinitely.\n",
        "- Example scenario: The agent fails to reach the goal within the allowed number of steps, and the episode ends prematurely.\n",
        "\n",
        "**Pay Attention!**\n",
        "\n",
        "Each time the environment is reset, the configuration of the rooms is randomized. This variability should be carefully considered during training, as resetting the environment every time the `max_step` limit is reached can make it challenging for the agent to learn effectively.\n",
        "\n",
        "Additionally, note that the `max_step` parameter is defined as the number of rooms multiplied by 20.\n"
      ],
      "metadata": {
        "id": "Tjh-Gz0MqHDg"
      }
    },
    {
      "cell_type": "markdown",
      "source": [
        "## Random Action Rendering"
      ],
      "metadata": {
        "id": "Sw5k_FWrr0Zd"
      }
    },
    {
      "cell_type": "code",
      "source": [
        "env = gymnasium.make(\"MiniGrid-MultiRoom-N6-v0\", render_mode=render_mode, highlight=highlight)\n",
        "video_filename = '/content/vid.mp4'\n",
        "truncated = False\n",
        "# Evaluation\n",
        "with imageio.get_writer(video_filename, fps=16) as video:\n",
        "  obs, _ = env.reset()\n",
        "  done = False\n",
        "  total_reward = 0\n",
        "  step = 0\n",
        "  while not truncated:\n",
        "      action = env.action_space.sample()\n",
        "      obs, reward, done, truncated  , _ = env.step(action)\n",
        "      next_obs = obs  # Get agent's position directly from the environment\n",
        "      video.append_data(env.render())\n",
        "      step += 1\n",
        "      if truncated:\n",
        "        print(\"done\",\"reward=\", total_reward,\"num_of_steps=\",step)\n",
        "        break\n",
        "embed_mp4(video_filename)"
      ],
      "metadata": {
        "colab": {
          "base_uri": "https://localhost:8080/",
          "height": 519
        },
        "id": "vLBT8jG2r5z4",
        "outputId": "0f691fbb-204b-46c1-fb79-0f283f450bd7"
      },
      "execution_count": 5,
      "outputs": [
        {
          "output_type": "stream",
          "name": "stdout",
          "text": [
            "done reward= 0 num_of_steps= 120\n"
          ]
        },
        {
          "output_type": "execute_result",
          "data": {
            "text/plain": [
              "<IPython.core.display.HTML object>"
            ],
            "text/html": [
              "\n",
              "  <video width=\"640\" height=\"480\" controls>\n",
              "    <source src=\"data:video/mp4;base64,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\" type=\"video/mp4\">\n",
              "  Your browser does not support the video tag.\n",
              "  </video>"
            ]
          },
          "metadata": {},
          "execution_count": 5
        }
      ]
    },
    {
      "cell_type": "markdown",
      "source": [
        "## Wrappers for Observations: ImgObsWrapper and RGBImgPartialObsWrapper\n",
        "\n",
        "For this project, you will use two wrappers provided by MiniGrid: **ImgObsWrapper** and **RGBImgPartialObsWrapper**. These wrappers modify the agent's observations.\n",
        "\n",
        "### ImgObsWrapper\n",
        "- The **ImgObsWrapper** converts the observation from its default dictionary format into a single image array.\n",
        "- By default, observations in MiniGrid are returned as a dictionary containing both image data and other optional keys (e.g., mission strings). This wrapper extracts only the image component for simplicity.\n",
        "\n",
        "### RGBImgPartialObsWrapper\n",
        "- This wrapper provides a **partial view of the environment**, but instead of limiting it to a fixed field of view, it shows the **entire visible content of the current room** from the agent's position to the walls in the direction the agent is facing.\n",
        "- The observation dynamically updates as the agent moves or turns, allowing it to see the layout of the room but not beyond its walls or through closed doors.\n",
        "- This introduces the challenge of **partial observability across multiple rooms**, as the agent must explore and navigate to new rooms to gather more information about the environment.\n",
        "\n",
        "\n"
      ],
      "metadata": {
        "id": "WhdA4okKt8fu"
      }
    },
    {
      "cell_type": "markdown",
      "source": [
        "\n",
        "### Wrapper Usage\n",
        "To apply a wrapper, you can modify your environment setup as follows:"
      ],
      "metadata": {
        "id": "zKEmSOdGvCf9"
      }
    },
    {
      "cell_type": "code",
      "source": [
        "fig, axs = plt.subplots(1, 2, figsize=(15, 5))\n",
        "env = gymnasium.make(\"MiniGrid-MultiRoom-N6-v0\", render_mode=render_mode, highlight=highlight)\n",
        "env = RGBImgPartialObsWrapper(env)\n",
        "env = ImgObsWrapper(env)\n",
        "obs, _ = env.reset()\n",
        "axs[1].imshow(obs)\n",
        "axs[1].title.set_text(f'RGBImgPartialObsWrapper, shape: {obs.shape}')\n",
        "axs[0].imshow(env.render())\n",
        "axs[0].title.set_text(f'Full state')\n",
        "plt.show()"
      ],
      "metadata": {
        "colab": {
          "base_uri": "https://localhost:8080/",
          "height": 468
        },
        "id": "kZCKkKFiu-IV",
        "outputId": "ba06a437-09e1-4786-89a5-8401ff0a12ca"
      },
      "execution_count": 6,
      "outputs": [
        {
          "output_type": "display_data",
          "data": {
            "text/plain": [
              "<Figure size 1500x500 with 2 Axes>"
            ],
            "image/png": "[encoded data removed]"
          },
          "metadata": {}
        }
      ]
    },
    {
      "cell_type": "markdown",
      "source": [
        "## Initializing the smaller environments"
      ],
      "metadata": {
        "id": "5ydi5m69RBSs"
      }
    },
    {
      "cell_type": "code",
      "source": [
        "env = gymnasium.make(\"MiniGrid-MultiRoom-N2-S4-v0\", render_mode=render_mode, highlight=highlight)\n",
        "fig, axs = plt.subplots(1, 2, figsize=(15, 5))\n",
        "env = RGBImgPartialObsWrapper(env)\n",
        "env = ImgObsWrapper(env)\n",
        "obs, _ = env.reset()\n",
        "axs[0].imshow(env.render())\n",
        "axs[0].title.set_text(f'MiniGrid-MultiRoom-N2-S4-v0')\n",
        "\n",
        "\n",
        "\n",
        "env = gymnasium.make(\"MiniGrid-MultiRoom-N4-S5-v0\", render_mode=render_mode, highlight=highlight)\n",
        "env = RGBImgPartialObsWrapper(env)\n",
        "env = ImgObsWrapper(env)\n",
        "obs, _ = env.reset()\n",
        "axs[1].imshow(env.render())\n",
        "axs[1].title.set_text(f'MiniGrid-MultiRoom-N4-S5-v0')\n",
        "plt.show()"
      ],
      "metadata": {
        "colab": {
          "base_uri": "https://localhost:8080/",
          "height": 468
        },
        "id": "QFEJ9keiRLUB",
        "outputId": "780b0b1e-d3df-4a97-8b23-3dff2bf1bcb4"
      },
      "execution_count": 7,
      "outputs": [
        {
          "output_type": "display_data",
          "data": {
            "text/plain": [
              "<Figure size 1500x500 with 2 Axes>"
            ],
            "image/png": "[encoded data removed]"
          },
          "metadata": {}
        }
      ]
    },
    {
      "cell_type": "markdown",
      "source": [
        "### Partial Observation Example"
      ],
      "metadata": {
        "id": "AiHHFwv2ZBd7"
      }
    },
    {
      "cell_type": "code",
      "source": [
        "env = gymnasium.make(\"MiniGrid-MultiRoom-N6-v0\", render_mode=render_mode, highlight=highlight)\n",
        "env = RGBImgPartialObsWrapper(env)\n",
        "env = ImgObsWrapper(env)\n",
        "video_filename = '/content/vid_partial.mp4'\n",
        "truncated = False\n",
        "# Evaluation\n",
        "with imageio.get_writer(video_filename, fps=10) as video:\n",
        "  obs, _ = env.reset()\n",
        "  done = False\n",
        "  total_reward = 0\n",
        "  step = 0\n",
        "  while not truncated:\n",
        "      action = env.action_space.sample()\n",
        "      obs, reward, done, truncated  , _ = env.step(action)\n",
        "      next_obs = obs  # Get agent's position directly from the environment\n",
        "      video.append_data(obs)\n",
        "      step += 1\n",
        "      if truncated:\n",
        "        print(\"done\",\"reward=\", total_reward,\"num_of_steps=\",step)\n",
        "        break\n",
        "embed_mp4(video_filename)"
      ],
      "metadata": {
        "colab": {
          "base_uri": "https://localhost:8080/",
          "height": 556
        },
        "id": "7gwWN2ANYmAR",
        "outputId": "3fe0704a-b06f-4a44-a195-f21830ec7ab0"
      },
      "execution_count": 8,
      "outputs": [
        {
          "output_type": "stream",
          "name": "stderr",
          "text": [
            "WARNING:root:IMAGEIO FFMPEG_WRITER WARNING: input image is not divisible by macro_block_size=16, resizing from (56, 56) to (64, 64) to ensure video compatibility with most codecs and players. To prevent resizing, make your input image divisible by the macro_block_size or set the macro_block_size to None (risking incompatibility). You may also see a FFMPEG warning concerning speedloss due to data not being aligned.\n"
          ]
        },
        {
          "output_type": "stream",
          "name": "stdout",
          "text": [
            "done reward= 0 num_of_steps= 120\n"
          ]
        },
        {
          "output_type": "execute_result",
          "data": {
            "text/plain": [
              "<IPython.core.display.HTML object>"
            ],
            "text/html": [
              "\n",
              "  <video width=\"640\" height=\"480\" controls>\n",
              "    <source src=\"data:video/mp4;base64,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\" type=\"video/mp4\">\n",
              "  Your browser does not support the video tag.\n",
              "  </video>"
            ]
          },
          "metadata": {},
          "execution_count": 8
        }
      ]
    },
    {
      "cell_type": "markdown",
      "source": [
        "## Exmple from our solution"
      ],
      "metadata": {
        "id": "FvMK87FGd7Wm"
      }
    },
    {
      "cell_type": "code",
      "source": [
        "# Step 1: Correct download path\n",
        "# Call the function\n",
        "embed_mp4('MiniGrid-MultiRoom-N6-v0_vid.mp4?rlkey=qtkrmmbk9aiote5z7w4bx6ixi')\n"
      ],
      "metadata": {
        "colab": {
          "base_uri": "https://localhost:8080/",
          "height": 501
        },
        "id": "wmaiTB4SZzLp",
        "outputId": "d6f440a6-6999-4250-ea25-827a9598da53"
      },
      "execution_count": 9,
      "outputs": [
        {
          "output_type": "execute_result",
          "data": {
            "text/plain": [
              "<IPython.core.display.HTML object>"
            ],
            "text/html": [
              "\n",
              "  <video width=\"640\" height=\"480\" controls>\n",
              "    <source src=\"data:video/mp4;base64,AAAAIGZ0eXBpc29tAAACAGlzb21pc28yYXZjMW1wNDEAAAAYYmVhbQEAAAABAAAAAAAAAAUAAAAAAAAIZnJlZQAABa1tb292AAAAbG12aGQAAAAAAAAAAAAAAAAAAAPoAAAXDAABAAABAAAAAAAAAAAAAAAAAQAAAAAAAAAAAAAAAAAAAAEAAAAAAAAAAAAAAAAAAEAAAAAAAAAAAAAAAAAAAAAAAAAAAAAAAAAAAAAAAAACAAAE13RyYWsAAABcdGtoZAAAAAMAAAAAAAAAAAAAAAEAAAAAAAAXDAAAAAAAAAAAAAAAAAAAAAAAAQAAAAAAAAAAAAAAAAAAAAEAAAAAAAAAAAAAAAAAAEAAAAADIAAAAyAAAAAAACRmcmVlAAAAAAAAAAAAAAAAAAAAAAAAAAAAAAAAAAAAAAAABE9tZGlhAAAAIG1kaGQAAAAAAAAAAAAAAAAAACgAAADsAFXEAAAAAAAtaGRscgAAAAAAAAAAdmlkZQAAAAAAAAAAAAAAAFZpZGVvSGFuZGxlcgAAAAP6bWluZgAAABR2bWhkAAAAAQAAAAAAAAAAAAAAJGRpbmYAAAAcZHJlZgAAAAAAAAABAAAADHVybCAAAAABAAADunN0YmwAAACuc3RzZAAAAAAAAAABAAAAnmF2YzEAAAAAAAAAAQAAAAAAAAAAAAAAAAAAAAADIAMgAEgAAABIAAAAAAAAAAEVTGF2YzYwLjMxLjEwMiBsaWJ4MjY0AAAAAAAAAAAAAAAY//8AAAA0YXZjQwFkAB//4QAYZ2QAH6zZQMgZaEAAAAMAQAAABQPGDGWAAQAFaOvnLIv9+PgAAAAAFGJ0cnQAAAAAAABzdAAAc3QAAAAYc3R0cwAAAAAAAAABAAAAOwAABAAAAAAUc3RzcwAAAAAAAAABAAAAAQAAAahjdHRzAAAAAAAAADMAAAABAAAIAAAAAAEAABQAAAAAAQAACAAAAAABAAAAAAAAAAEAAAQAAAAAAQAADAAAAAABAAAEAAAAAAEAAAgAAAAAAQAAFAAAAAABAAAIAAAAAAEAAAAAAAAAAQAABAAAAAABAAAUAAAAAAEAAAgAAAAAAQAAAAAAAAABAAAEAAAAAAEAABQAAAAAAQAACAAAAAABAAAAAAAAAAEAAAQAAAAAAQAADAAAAAABAAAEAAAAAAEAABAAAAAAAgAABAAAAAABAAAMAAAAAAEAAAQAAAAABgAACAAAAAABAAAUAAAAAAEAAAgAAAAAAQAAAAAAAAABAAAEAAAAAAEAABAAAAAAAgAABAAAAAABAAAMAAAAAAEAAAQAAAAAAQAACAAAAAABAAAMAAAAAAEAAAQAAAAAAQAADAAAAAABAAAEAAAAAAEAABQAAAAAAQAACAAAAAABAAAAAAAAAAEAAAQAAAAAAgAACAAAAAABAAAUAAAAAAEAAAgAAAAAAQAAAAAAAAABAAAEAAAAAAEAAAwAAAAAAQAABAAAAAAcc3RzYwAAAAAAAAABAAAAAQAAADsAAAABAAABAHN0c3oAAAAAAAAAAAAAADsAACK9AAADkAAAAFYAAAA5AAAAUwAAAL4AAABBAAABngAAAWsAAAC4AAAASQAAAEsAAALyAAAA7wAAAD4AAADFAAABZAAAAL8AAAB6AAAAgwAAAOAAAAA+AAACBwAAAKEAAABkAAAArAAAAFYAAAMzAAAAqwAAAHMAAABZAAAASgAAAEwAAAIYAAAAngAAAEIAAAA2AAABTwAAAKQAAACXAAABnwAAAOUAAABMAAABkQAAADoAAAFGAAAArgAAAeQAAABqAAAAOwAAAJYAAABZAAABPwAAAbQAAADdAAAAmgAAAEcAAAEsAAAAlwAAABRzdGNvAAAAAAAAAAEAAAX1AAAAYnVkdGEAAABabWV0YQAAAAAAAAAhaGRscgAAAAAAAAAAbWRpcmFwcGwAAAAAAAAAAAAAAAAtaWxzdAAAACWpdG9vAAAAHWRhdGEAAAABAAAAAExhdmY2MC4xNi4xMDAAAFUubWRhdAAAAq8GBf//q9xF6b3m2Ui3lizYINkj7u94MjY0IC0gY29yZSAxNjQgcjMxMDggMzFlMTlmOSAtIEguMjY0L01QRUctNCBBVkMgY29kZWMgLSBDb3B5bGVmdCAyMDAzLTIwMjMgLSBodHRwOi8vd3d3LnZpZGVvbGFuLm9yZy94MjY0Lmh0bWwgLSBvcHRpb25zOiBjYWJhYz0xIHJlZj0zIGRlYmxvY2s9MTowOjAgYW5hbHlzZT0weDM6MHgxMTMgbWU9aGV4IHN1Ym1lPTcgcHN5PTEgcHN5X3JkPTEuMDA6MC4wMCBtaXhlZF9yZWY9MSBtZV9yYW5nZT0xNiBjaHJvbWFfbWU9MSB0cmVsbGlzPTEgOHg4ZGN0PTEgY3FtPTAgZGVhZHpvbmU9MjEsMTEgZmFzdF9wc2tpcD0xIGNocm9tYV9xcF9vZmZzZXQ9LTIgdGhyZWFkcz0yNSBsb29rYWhlYWRfdGhyZWFkcz00IHNsaWNlZF90aHJlYWRzPTAgbnI9MCBkZWNpbWF0ZT0xIGludGVybGFjZWQ9MCBibHVyYXlfY29tcGF0PTAgY29uc3RyYWluZWRfaW50cmE9MCBiZnJhbWVzPTMgYl9weXJhbWlkPTIgYl9hZGFwdD0xIGJfYmlhcz0wIGRpcmVjdD0xIHdlaWdodGI9MSBvcGVuX2dvcD0wIHdlaWdodHA9MiBrZXlpbnQ9MjUwIGtleWludF9taW49MTAgc2NlbmVjdXQ9NDAgaW50cmFfcmVmcmVzaD0wIHJjX2xvb2thaGVhZD00MCByYz1jcmYgbWJ0cmVlPTEgY3JmPTI1LjAgcWNvbXA9MC42MCBxcG1pbj0wIHFwbWF4PTY5IHFwc3RlcD00IGlwX3JhdGlvPTEuNDAgYXE9MToxLjAwAIAAACAGZYiEAF9wI4bm1dmBWwk14OLYCJ8rMGqf3QtmjOG6HcWHVZc9JAm4VTp+0OlQ+BDl5AfVh0O+ZjM5bU6mNIu4qB1izo/yxM4F4xmIYR5WEb7bJPZj9Y5kCp6hWDcvyB4Q3stdEqB1j4YwjNBG53tMsAwTsTEJlwStjyvVgG5f1YgWEkJkQJlwUXZyZaUsG5f1YgWGjDCZcEq2fqIsG5f1YgV4Z6Y/WP7r19uAhrWOmEHbugYEy4JpvGggiwbl/ViBW6rwmXBPJ6nflu9plgF5aoAmXBNjTtfLd7TLAM4ryrJhQOsf3c5zqezGYiY8nMo2wmXAdVmNJod0TV7HHWVu8AmZsHxwmWNXgQNp7usM/JcwFIz2cxFW6ergCVieAaSaoHWJDhi0NSaX9kUl3HbJMfrDj2Ih6DUYUDQHr4QCZcCJoNBjc72mWAXiz4zdkoHWHk3H5JbvaZYBd0C/lhMuBI7BvqwDcv6sQWFzhMuC/wQ02nMNgLBniu8fDH6w751OXO9plgGfvO4zH6xFA4EO5mMwoGf5L8j3gC4brEshxJx+owm5C+ZsROwWCnwz3akUB2cEw9d+7h3bn/gZeCuhpMBmIAzkZ5y/NXtanHYM08Y/x2TzqYhf1jsGaeMf5MFwNGaXOOwZp4yAHYgfRjMcVk7Qyoo6eRsGzZOjH0m2YzETHiyALFofax2DNPGP8IeEY1bVjsGaeMf4Hb6JSZKHauvhefARflpDih2rr4Xnv0rXiOC/bHAM+ZPdzegjc47BmnjH9ZXJjk847BmnjH9ZcpbjkUO1dfC89ehO66grJGOSW72mWAXF7ro7UJ1yS3e0ywC5bZBJTHHYM08Y/rx+q/Hpecud7TLALjzIOOz08+K9BQCTMKo2FOrf5S8qYEqGB6nUwj7oNZy+hJAjblyFYwx8mpgpseB/W+OCPqUasJgSzHEZRfDkDWcvoTs3+A/JjuibBYgKuKIQq47V18Lz2C9wY2NxNun3xShQDXbwzzDaUTQSitcyAS7LLZzjNhIU2/y2VBX807Y6K1Fx2rr4XoEBeGIwh1uUXw5A1nL6HIowsuipjuibBYgNIRGrQIyW72mWAXade8fxfbHAM+ZO3aMe4F9scAz5k7OxVWP0W1dfC89q+m5gF9scAz5k7W3yt3otq6+F57QGKj4X2xwDPmTkhUQ0f9scAz5k5VahDXRbV18Lz14O9lsim53tMsAuXvsWMvtjgGfMnUXwOUGPFx2rr4Xnsg+0qiDEt3tMsAubkndTotq6+F57BirSFkxqbnSE/bgnm4sIcEbf3tACqx27ZXkJcecSIwXXDxKKxhj5NTAjHC6PyctjuibBYgM2YvbBsS3e0ywC569Qsi47V18Lz2JMuexcdq6+F57H1abRcdq6+F57JJiWKJ7qmCT8xWQX40IzjyZfDNwdidj1i45iMA3meOcnQ11tNO5bMipcdfdGfKhRcZXtIHai2dpc6EOrA1LAk67EfdBrOX0PFS+5AR90Gs5fQ9LYZ6J4cgazl9D3jf0kY+yz5NTBemhUBBH0A6zl9OuK0owR9AOs5fTsSsk8FSS3BNTBcxUyShUktwTUwVi6qLgj6AdZy+mgm9pkpsc9GImPDVysiPItq6+F57AQN/EvtjgGfMnXPYt/YwU+2OAZ8ydV8uo1PtjgGfMnQo8AMvtjgGfMnQHgNlUmxBDlahp31vaO5VmoyMQCkIoQPrshLjziRIvnjF1CPss+TUwVX9xJomLPtmrCYE8HK55vDkDWcvoXRlp0KxcTrOX014LE6CpMNHtnkL1y38FYuJ1nL6bw4agpSCRs2XIfzOHrq6G1geYp1pxwwIWCSJAdZ2foa7Imnc9uZ5iz6kicvobOWo8j1ecMmO6JsFiA9LvTTEXHauvhee4kFaDgItq6+F57jQq72j9rPCIXn+QMMTakDZjMRMeIc7waXlNzvaZYBeQqQ5qVJbvaZYBeRwwt0DHzvaZYBnG2y4z990Gs5fQqJu/FyY7omwWICylheUftjgGfMnLapbEXHauvheez7jtvtTwPm11uqlBQTdNsfCBT5yR+2OAZ8ydXe8OCym53tMsAubRNSIuOvujPmUyTXJfZA2YzETHh6JLBXa217vHWUe6Cf9Pa6lPAiO+TKEaOtTAUp0hR8g7Kgd8SYQ6o/azwiF57YNSXU4S2iP2xwDPmTzgk+gQXHX3RnzKeJMRUgVi4nWcvp57x5/hIK1CbBYgPtwVwUItq6+F57nZPn1H7Y4BnzJ4Z3V0i+2OAZ8yeI2ou8TEt3tMsAvFybwjTEt3tMsAuWV86IuO1dfC89ePn2UXHauvheevvvFLwpud7TLALqsGgbbQBGHUasPDGENKvqnFukqN8t+I6ZOtntSjPFqDZK62wCWH9Ai+4mCJIB47vXCUzCgdDCPXihL7gI3UM3km6maqUFNvD4CSh7dupltxnEFudWJJALu2lG2KauwHkPADESTL+Y2bXD+csg+Ic7qjWwnP5ho9s8hHo7XsYw5yDACxAUtb6Bo/bHAM+ZOToiwrQDFh2xh6CJXSpisXj7mGz1UA8Rtr49QsHadYYHoiz9an9t9uMdguXgLKLjP92DwzHciTiHU/ak5rPd23z83sRbV18Lz2RAW2UlYi2rr4Xns2WMEwkKS3e0ywC6vFkEHI5YNy/qxAZm7K2nT6hVVhhNuOEhodgL6hu6eePb4a4tlBtAL+JSbD9cdN03ixEibT6axtQvVDOhIi2S++ULINOuyVKvOf+8/vD3popeNrsxkeBaCLbovVZtF5PsMlK2NSdgHa3XrI5HjbwZ9iNkUaPFPGNvKX2IdT9pN+KMKWEI83T9KU5VMfOeJJRMzpLY2dzWJwNeuctRU8hEfSttMuMMfJqYEVmFh4FOn+vgAAY6xTsc+3T34HTFzydm5D01xsj1gfd09UdGpvtLS1DEQ+WBIVkLO7rgr5jmdoZUUdPIWDZK6h2doTILOX02S+dbdf76lGrCYEuVWkUoLjDHyamBL1SoQ5g1O0Rps5Pz48B9mCowKkFkP8h+ZiiP+0NKQsNtyZB+IUsoE8/6Q7fVXTEud7TLANGZz4KDqQQFNtmMxEx5UoAPrB7rT4T6WLhslPVv8tgvL2gYvLtvdZWgXgXM+ZYz1bgxXgFhxa4OzLyYVJE5z3waOdSRXa/VePsF6eVwwJeZO3YuOphogXacTatXZs6VCw5ySviXRJznkfiyVVGbdXPZboBnXlGgh9R/VHI1kHulRc9WTdl+ayslUqR40b/sq/8tsPkhN5E/rxa8LhijxZrvx+6B7JgsUR8PpQxiQrRkc9KRgPQTc5YFi/Gy4uJ1nL6Y0VsALNcHe01oI1XNWw7TtaGlfZyz2DeWsQvedR51vdkJtFuehh6UQiO7EkEmAwSLizLxDGuMxcdNv4jidR8MU0wvvqUasJgSK7ajsBNG2zGYiY8Nt4uh4IcdgzTxj+xYHaGfTjsGaeMf2Ibvk1pFfgpx2DNPGP8iTDw06Zx2DNPGP8ieAkJrLHYM08Y/sMwSMM8h2rr4Xn8fdjM9gaXLjDHyamCvv1tNcevukP2ajS7jkSsoTF+iEn93R0QHh0XgtoJvK52QTeeHgbHYyjYMKXRi4nZfSsvW29EnCIjlRHDT6JwwnX7yNpToxoPiQEsn1EN5U0uuICiOR9+yg6e78U2cRNn///5zKiBF6El7iIBbdodoDp///+O5RqpB4OoXkNWlUGOP+uNgyjatIP7471N+v436B0qfv9w+ikun5/NX9g8jPipMxw+ihehkJWJodw0RI9ijC4dYFOMgepCi/YRUmF3Tod0GXQS1JbMaI/p2PoXgytkf6nBqLfWkXZEdcNNSmfZwWPJpUzDNZ8oeD/53fW2AaoKGFHcAAzwbPmlG0ficIsQ87QBb97GGzGYiY8SfWbvveAAEBPQPG2LOHr+/9Iuftpggr+HaiRrisspUcD/MTmomTakI7W0BQDAnepr7kiALXi00XQNtSih7jvGlx5kT/5MGGE28gYPlnEfMEa1N+e0VceIATV/IA9Rt8wpr5UzsVvq5phtwsw9z/qxxJ8qYKhLDHJ+xUAK/GNNrKicOaVHupe3FU2Luq7A6+XeL8HT1eAOHKuQOrh7eMxrplR8yx5MhZ+j4RcFB9pYVozpFbJWsZkrMGKduTI7S34dZy+oQ8IdDO8mCh4t3UFEhQ9W0aCQoMVdo/KBAAwRMPguUZe8NG8bq9C9mw+eAHK8totCg0YM7iPMBXhvoca4+9nxY7BqFYYpM3/6mhlu6Wr8gLbodZY6n0CmOXG50GZ1oz9+Xf4BOxVAj7cfSjfjZ5480Lb2gWDDi4YD2IwFRfB8TO47JOX0VRG6nlW+jnIMALECPFquBFpdscAz5k+DGPKqAYAADWoa4u0UfMDe/Jt0QH0Q5E9jA8EDKE+4oO1drUmhCEL47V18Lz5GoTNYuNfHauvhefBuTSUGnviwbl/ViAvxee0Gwcbne0ywC6OuuNW2dj53tMsAzR/lk+yTHOQYAWIDGZDmuWIWDcv6sQGPdaycu7HzvaZAsmWg7MHXcLzjc72k17w5LjZjUksz3G53tMsAulntcVE24CGtY6YNRQkTrUIlFCwbl/ViAykGuS1eLBuX9WIC/LANJZuf7wmzOoWIV2q3O6xpiLQhyER6HIMEuUnfecqMqij4mCP/Sn3P0Ly6mkkwhcjUONLQ5camqvB5CFuOS2o5GcGgykGU8/oVAFMxUj545ZJn6k5jLMraHqYugMqsEsDy4Y5pQAH3NQ5ySB29mVL9URJz52XXJy+igUhW5OvDkDWcvombcHj+W+6DWcvoleUAjijUBBQMvxN4kIwAgimpB5JwtZhVKVZq7ioUms68Gc8vO0VRxhj5NTA4XQSAberw3M+TUwaemRfX2iz7ZqwmBLfjffIDw5A1nL6F8d1GwEdHOQYAWIDGIFriiRbV18Lz2Y47zW8RbV18Lz2dbqB9D4sG5f1YgMsdYMoF+W72mWAXWRETS8RbV18Lz2gTw7CxFtXXwvPaWEQ4RItq6+F57MO4z8S7Y4BnzJ2pj2hncbfCZZk6tbmydlE9ak95jfAr0tTjSOpnXa8+0L3MUxpv06OwGXlnFPv1DWk0+Nm0n0oXPnl5SDJ2gM8ofyfrD6/xxhlCJvOExWBbwaXhZjZTLYw/TGBcwLrQw3dbr5XcypsaTZp8oQiVIi1FTeKHa1fulPqUasJgQ8bEpxLfZZ8mpgqNKh/qzqAABcRdaVY5IjMCF9bA+nNCtyHF1JkJBfEE1Sy7yGO3SnMV/PfMf0lXos8p+TUwYhk+KZVB5H9WaawC6ekB0qeItq6+F57MugBGvEW1dfC89npD9FPEW1dfC89m3/IEy+O1dfC89nW5c1+Itq6+F57RCoyKb47V18Lz2mS5f2JdscAz5k7QGZzel2xwDPmTtp+c/r47V18Lz2o2kTHiLauvhee1bK9OAu1M5/X0GTuPYl6C0+6uC7tyZ09m4j//54Z8NUjLX8QqeHsvrEAacKEWePMA3qBr+lUSRWLMbMuN0f2A5WPX5ydu3dI5YVIiHHOn0Tv5KnSZIP01NaolZOJRKzV/ExaL1gpKXcZ9xZMQPd10uCqYhsSAGNjVzunvqAzyuA5y/UhdZIT/ftV2fLH4FEnh1ngf+A1Zc3XaaY5zEQq1yVgGJCe5Cyf+9iv047NVDfonD8op0o1qsxNdPgAALsoGE9ZMNbTV1qbsZMYIw+WyZZf0Q7RzylNhCJ8nfsOm/ViGMtcFmBJcX3o/8OLgkfsQJNVMEMMdm8TMbzCGVkSI2NOHAz9CE3iL7zLLqSPJhLBZYqw5C+ertBWh+sQxvaDF+jKng/UII++0AnBx9XbGf62I+ByJvTjoo1JwjIrstkm3FA2n0sllj7mzMTOA/UwVhUOAJM8iWj+rQa7GpjfktwTUwXcTGB1+LPtmrCYFJG67UjeG5nyamC8BxHsRizyn5NTBeZ/BBZiz7ZqwmBTMuEujeHIGs5fQ8jSSby32WfJqYLxFKs+Ys8p+TUwXm6UsWz+S3BNTBaiKz7zTyGhEbCTvz48B9mfNMVp9fD3wirks9UvO1743LkCQLEKa32R0OSwjSTqfS0Nf1j7YJG2kTlpVm1xc2wcBH+X7iwFns78hRdnBuZ7HuwjEjdorcN4ypZvh48XQYfVJOflfB0G3szQZdqNrWkWgbCogQIzBiYzyJGMveMY0QI7QLTWxQDACxAUPdZauItq6+F564U6xwegAAGPp/8VELGZiBHTNBD9K1u/LuG9P0JFtXXwvPeSI+7Tq+O1dfC89nVs7uZNCwbl/ViA1Crtc4kLBuX9WIDP+ss10u1nhELz+d/aLxgP8DP3ZR7DAX8t90Gs5fQwzZTsz6OcgwAsQGiOAwHfFg3L+rEBUcVY64gOUQDfLyQh6d4oU1y4I/pZtQLalKRa+9ofpP03OsSs7L6D0RzyVfhsYQW6+oFPEJqnAGo1qCTZ6rKRz4sxgy9X0GAQari6k44Fmu+1bI5YmYwZer6DBnBcneuL+KivfRxcouahLWHzxMN0s5fREzEddffdBrOX0RXBSJ6AAAD1X6O65DuigAsOe+keAq9qOLidZy40mNGtLtG8NzPk1MGZfQhbmLPtmrCYGBNbTZd4cgazl9FKqXWQoztmMxEx4mOCg0kuwlhxDeglfFAPsu86N+eiv5D8zFEf+Q+6Jy5vRXZyWsDSpIlo/UkwsEP++6DWcvoqd0ojqOMMfJqYGHyqOIORZ1+fV6tOBAQNN842pjbPngSAX4VKlaWYiCoFs+9TmWWdiX9h3+OutoEzw5fQKnkEK919iKk44Fmu/NbGKI4LNRrUEmz3N26WGp5qNagk2e36RVhjy6jWoJNntqRA4Tr/5OfMELNT9aLMOZoXK+mPEw3Szl9D4QSrCrw3M+TUwYA5/pN6Bw+ui4AOqyXvMsnbP0GqE4JiXsU21fgX45Gwpyz16BdTQx3s1khhRVObxZ9SROX0VVLbl0mgBKB2zGYiY8RUo+xpGXbHAM+ZPT/wX+A/bHAM+ZPW5C79Uu2OAZ8yetJHKqWaIfiLauvhefKRlelqr47V18Lz5P+A8KqFPXNoQM9BPRd/6z/8gLwzIQlP/4+XK7DryRa4b4Lnk7/1LzHreHpiIaYCGLt6psNJCf/6D7br8OKvakL6w06Uk8/HU9LHQvlnr9B9f6OetW8BNeqJLB2Lt0fj6q7jAbvpGYgdsguo/CM0gAX5lOudCHECfHRd/hYfRGcl6kYq3ZN6oj4zJifT06oB7tVBPkg8cUk8Lak9400oAl/tkhrQmjw/SYN0PpvfW9In+vk4t+jZWMohnApxQ+9FyypXy8A9K2gABcNA9ppb2Pn/dHsnjOaoEOMz2lZDeK0DRgstSCwrbX92fOvGz5oJsw+RdGUQgu7Kmj76Bw5+necFF4k55D0gqOEGBojm6Rol44NHQjif+jINASUIh5P2tcBiKFMZ55jAGzItLm+QFF4NYBQ4DxLWOojIClWDFhrfWgNMgi6LRo2KYU7Hyhunhtoq+YwKW7aQxWpxuh9PZTz6djSEEyf66NkfsNH/xVSdRQyrpSTpE7olSnDMlYwzYwqqKAuoR8mpgcW594ouG/lyt/Ou5Ge61L6CeDelb8jBlN+zsQNjY6M/23F7P2FVOQf+akvfC53sweoaUV5H7hr4GOXq6Oa8dHL4hIbxj33pxAra7FiQYGxfbhse7ZHWVPT8uYs7Wo+2LZizR17vwdW0m54JXAQ1rHTC2ws0mQ2j6h2D0TzKbFDgCChI9tEPz43U6iFazFUuyxbK/+Q/MxRH/iLCXSX8GSROEKWUCef93ZXxKNUlu9plgGlFH2PL+Oxc5DuibBYgwks4QxEbmiSPZjMQwjyTWZiHmLqfakt3tJr3h+oVMIheTp+1nhELz29w75bhIkeWDcv6sQGw1CmP1dscAz5k7gDxd+MAAZryMHn/MuQgIUD20f85Z61yNGvDkvWjXCl1jURibG7VuzOltMv9XJoPmHMsd2xR3sgTgSr1Rtg6ETEkjcvshuArrEOuaD93NYitkAX8TqTcLd2B1tvDQuezeFaHkXeASpUCzoegJrvprguA82sa5MEos+Lz7tnZIcb+caAujML8gklf3EGaaSnjo7527HUJHvzDR7Z5NtKKg1A85rtb6VoV5BuvfmGj2zyGYp3fB777oNZy+hdq3fccuQ7omwWIDI/REUk/bHAM+ZOmdLgXtOWDcv6sQF862t+SLaRUW1dfC8+VYplM1qrtjgGfMoM5bwaRKi2rr4XnvJRPrkqLauvhegBFPYNvCPjfdBrOX07zTsPq94ZZ9s1YTAstWijezDnIMALEB9/21ST9scAz5k8ry87GrtjgGfMnmmrCCq7Y4BnzJ59bfx94N94nS8wmHjr0Htde3jUV7NP7VehuDwgOePjKK6+AABBQWx4pJNOv+HimRAzhCotq6+F58VAGQwQT9rPCIXoBBw2FNtSvA++6DWcvo4rMH3MXUTQTmf8sdzbpWLWx7hyRMEtzDgMJ4XuEP/iNS/4O+2gWe5XZH4HpJ1LF+DWo69bhYsGR+uA19ud8CE5KGXD5oaV5fFZF/X+HQG/Ot1LOK/9EIYDwxzVySRGuRydi2/ykW+Sn7cXdfg6JfjdAdItWIGXCBmiaGLULljrXxDV9th7vWRWsNzrJGntLsEVj+R2HRKoTbepBiBpaeD8MNZZU1jki+OYKfxKYXSm0GfGqaldnWkzPDMwUkdpP9o34IcWoyUfePZg8mt4wX1HVk6AjVq/IV2V4zuOyTl9DKWYIAo+HIGs5fQ0kSvUgfDkDWcvoZb5yXwfDkDWcvoX+QsfiPc5R8OQNZy+jg4KQ2DFvug1nL6OAX0GrA+HIGs5fROM3py4IOcgwAsQI4mOsSRSwbl/ViBGQAZFLrgIa1jpheKZ650+HIGs5fRDGwS1Fvug1nL6Ij9R6HeHIGs5fRGIzLILfZZ8mpgxQNshlkYk9O/GQeE+nM5w9B30PWUfAGqlMEGj6EwvcvQwCvpao6dVZcGX+vs8UP/CnFF6CE16KTcMryrg0GtscYPZ//SM2OveI2XsIHFLebc6RCc6yfVhVmaB4SqoAHhjo7n7fLjdXaW+HWciTLMl17veNODgIcoRpuulgu6oqEjQZZ2VVQE1oDcy1lnUggnnGY8Ko0UOiUcsAgmE9cpAAAAwPSb05fbXoaaUup0iaVA1r6rBoKPCTJ++xra1ZER/uskoTPO85Jx+W41zJOUWXrM5lsnCFjD73gGCE93SLtjuTNug1nL6GZd0BcieLeLeI933Qazl9Ngl5bYPHsqfzDR7Z5NVLlt5tePU/JbgmpgrQDCoU4+pRqwmBLipPOWn3Qazl9C73ULZ1w2YzETHh0k81P/7Y4BnzJ1RPVR9+1nhELz2neW/7svFv2s8Ihefvk7Oj+uGzGYiY8Nqb8/z4AAAMAGTA8WF05y4PrHaHqmIcGSBSHPftZ4RC8+A8lpdYZ7qvHauvhee4bpsyS6xlu9plgF4qwt8CXGW72mWAXjNRNvr2wENax0wub6kYa4Ffhe+6DWcvofU9Ze6990Gs5fQ8v7c7IxUwuSpEOExQD7NRfLFU907yH5mKI/45Nqmfv1vladLKBPP+4xJm8nBud7TLANPsWvyYLvFj6R3RNgsQZmmasnieCg7D70TYCwc7Okmw4lodQ8ZbvaTXvDyYN2vCo/4y3e0ywC6OpqdVcb53tMsAubyL2rFhwg3O9plgFxjzU8pwbne0ywC4+JofRQICGtY6YNCvWNWfI2JLd7TLALjoAZpV47V18Lz1xHtDJRJbvaZYBci7Z5myW1dfC89dZo5mNOd+gAb28SLYPU9OTfKc9Vr8iReCjSo8q+YqpbuBegjZLauvhee/C82Bxrx2rr4Xnt2MydlXjtXXwvPa+YTPFeO1dfC89sSd2BSINzvaZYBdqgD6eIXG5GUZO2OAZ8yg2NBoSJWJLd7TLALs80g6V47V18Lz2nusTIvHauvhef34PcSjOFWn3Qazl9OT/hcesa1PzDR7Z5DTzs4q/SO6JsFiAsM0cpXjtXXwvPYJ+i75O2OAZ8yc7m5uK8dq6+F5664rizftjgGfMnLCknkyW1dfC89eOcaJv2xwDPmTltScKZLauvheevySh6ZLauvheewDKfyvHauvheexVfO2M7AAEcmdfJer9n0C4aJPvPmaUm/bHAM+ZOlDjS+8yWvujPmU7B+fr46HIGs5fRATCnCXvug1nL6IGSIw46HIGs5fRBh6h98+HdE2CxAekQ7u5UMG5f1YgOgA7FpRvne0ywDPEXCPRP85BgBYgOo5wyV47V18Lz5XiAG/3k7Y4BnzJ4M5ZAb9scAz5k7Jrwjr4y3e0ywC7GoDRHg3O9plgFy72lW3bAQ1rHTCv7VErafdBrOX0KxY4HHQ5A1nL6Fi+SuXvug1nL6FkrINtPug1nL6FxboZHQ5A1nL6F6pcpHQ5A1nL6GDFd1RYwx8mpgSzFfFRYwx8mpg5MtUXlbV4bTj6lGrCYFvAqTiLFxOs5fUHEsXwpW9boAAjj3549f0SfhFwNtiGfbNWEwch4BvSXa+QHsxz0YiY8UTIRpfSdrPCIXoB6bfckdDcz5NTBq87I+RDPtmrCYGdHO0COhyBrOX0XiCXJR0OQNZy+i9r0Dyx8O6JsFiBQf868XjtXXwvPiQPrh5O2OAZ8ypfS2z/TiXvfdBrOX0WIzjl732WfJqYNQoq84hn2zVhMDNecZc0+6DWcvonI3+XupHdE2CxAhHuKek7Y4BnzJ7atXpMlr7oz5lQ5bhiXvss+TUwZNSrqU/ktwTUwZWCsqU/ktwTUwZfGopEM8p+TUwZgmpJEM8p+TUwZqtGEpyhBzgBYgSD0kzk7WeEQvQCawaiU/zkGAFiBKvV20jGKZErGo9B8AAAGlEAAAOMQZokbEX/5EAAAAh2xbMCksA20dEfbdp7ztqG2dq6KqQQbTImu9ImnmAMIlbq+bxlrbMd6YYf7DUzUFKWB6AOrLkSgjo6T+FEi4iP6FKZYcMkQhrrFtoA8NB6Z5Sr+V3b2S3le6hl1Aa2JmB50UjFhlS8mRmtXqtBlIQyfBWmmaJWUFU5t3mbU9Z5Gej4rzCbeWlRddMsfT+etBDV4WoFkgKi4KuGnrGl29mM4MpiHBSMB019httWzlP6X3I4bwAKA4lvi1yG2j+XJ4CgC/ACjEwcMGXZi1lJ7ZqiBcheNFsOmhFVhA/rQ2dFTA/dfqdxfIqwhoXVkKUnQ8ZoBnbW4CdLC7bBGcThlbJv6dGc7GGpXMASHLn0sA35KCmnTgNJy8AQn0ehnmFg0jOzJsQJIS4SsV1U1y8Xq4xplpv4eLrn1HqAiLuHB1OQM+hjZPPzyyKwPYLhwVFOJ7r3kMV57AS/OvPrsq9oSlxadm7nkZy87WLPtQfMRUUmc2rDWoPi/GsnNXu3F3SCP+OE26YeXUKgrgAGrLzzbxTymM3Elhn2c48JFngmHdz51QjF+r/5RQ0BKU9/uVtKqfCOkMQlumBWdbJqCR4VYy+Q73nVvUyCkknNdY24J9R1VoiJNn6+wbF38mlhX6OuAMqsEu4GhrIWfxAouJafHBUWvoC6tgjFfRF5BBVvCX1khechsLZfiJWDY0gOjidqj+dxZbLJNSDMeFV28MnpQvxGxtVHDMKFSR8yolSf8eqoLMGuzhG2t1bU8pOvrVLXD/mk/QOqdjNBAYhkVSI+/f9AAWz+6KBXKxL8so7o4gtq4oyI1WhtUFUl2i2zBh/9M5RAKppMFbE1lVM26FiGz4jTIPkQRV1vZ9AtDbtbQjmkKZSZRGiva6yY/lQR2178rqCmVwf91ANB5Nm4k/QjDsQHu/+MW3IFG1lDXZVaxhgsIhu9AMBlxq24YACePObm8scCjHWLjbnju6U0XAOQFhlV3nu9lqCvWqxk495gcIyCPoGTjCgbcrXvCITuJeZqbUHt8BoaIQOAZNyhnKF7m5MalWyBpkWqXRC8YzlXnQlxrXtTclCgXvLsoPYbg6EuePh/09i0Is3qS8tScFsgfhGaYCItSClkWvd5gi/7ruOYPiA1ubrxtIWdgjQ5q0v2Ooq4C0RWyMR4BI+Au7zefsHnkg6PsLd++AACPVsrEAAAHHAAAABSQZ5CeIj/AAAIoLECAABttUis2+MxFHBX4q6aipR7JrZuwBIZpIhFhoBBlY3k1twfd/J18oHu7DD/KYwGRTcB8rSYdA4HAdLTj9FAAAADAACJgQAAADUBnmF0Rn8AACKM7GQZGjiYwVOrx3PHa5ZkjwcffaILGL352iGe7+1kQ58qQAAAAwAAAwAsoAAAAE8BnmNqRn8AACIyrtERgAAAgIZG52HehfCdZgPJFFAQKlaaWg9HvYunADq/Mpt4xbxn81quZReyw76VzR70HY4QSKaG273o4oAAAAMAAAbNAAAAukGaZkmoQWiZTBTxf+RAAAAIafdCayegGjfNFb5Hrqt1Z9PScSvEFVWgaqER5J0Yw2Q/3oMaxjtO4vRmPxyDxD6ZrdER8i8VFovDMaGsAWI55g0TZVmrZU8YpDN5j/k6nuJ886UajMMfa4YZlURx4ZMRZeKjapzHQEdodcTaUREzb6Tjk5EpWKkbJ9xbta/nTQcoTgGcU8yimjjtIRc1xC+v/b5NgNH/FmeFKauuDBZ820AAAAMAAAMD/QAAAD0BnoVqRn8AAAog9YH89DSlOrtcjeRQDuTITODm2yf8bCzB+PkYRHtQQxIpfN9hloUTwqjAoAAAAwAAAwInAAABmkGah0nhClJlMCL/5EAAAHPI0j4AMFf//z+Uq0p+qjTRef1NItvh0XeZltLOegBnDx4GmdkggAAAAwArK6HmOGGim1S/sfy0tbamvE9iqR2g5v0osp6hY5XdpXDmA15AoN6ZI5mCLpWbNpPEC0gg7ugMeQfWakQn/CU0GtsInNkNbD71uNfe7rrKVUC7f/mhi8eRpmj5a814z3NQWvaNz1mHmbgBrNIgZmIEetLOyiXtxjhh6LQDw9hUuQeQw2w2LH/FJeem8XE+l5wfIQx2cF2xQ/X3FGUZ7JBAhB+afm+CqZFn7ZiqqoBws6H/thFBKP1c1psYqR6XjZQih6zMpB09yvJ5JsH3PpfB1+Ed85nEHM6R2bGJAz2ho31QOvOCVj2KA6q+/MWeatYZA+4PFl6ITr0JbyS5IFxAekBgFcX3wprkB5g90CJeUF5ybE9pWLCyNNC6Y1l6dxcoze1DECuZjQpkI/cZavsp+DmFc0zPt/k1bIZX4BRy0bcCG4kYGDGat31UmriKDygfEWTmeX3nAAADAAADAAHHAAABZ0Gaq0nhDomUwIv/5EAAAHPTLmQX/HhXQACaCPRJD5StcdOH2c7Z32nuIrJmPU6VzQbhBkFuHxYsPGGyKPz3AAp7vbnuMLYD6YGiUx98YkFuLn+Grb+zD/Jp8lM2Th6X/bt9JoQhdPPT011sR9zmusbcE+o6q0FZhQm8qU/SwshMhFpKNq5Xy/V4v/nSmwRZtSMvqLL6NHZtRvG8wALOQQuauoVnh60ez02ZG6tkGsI4HmqW5/cBOYgcyPnVXptU4fpLFxv8OQUmyaSYulb0U7SOvT9iOjZMps1jDlVBhAlcUyydIYKA8lMWQpNfJLv9aSJeAn/+umcl4EEarQnXeaXcvQpcxegiX+xCfjc8hXzi4XoLmEPp1V7+2UqoTau9KrQxu55QT1cEYWvDJN76Io3D9FuXa+DGSZUbrN5YJGUdRkRq5BN2FMatBxitnqWDWI/QAtAwo3+UkMymBaHGYAAAAwAAAwEHAAAAtEGeyUURPEcAAHYIX1kEoB3oCaj77UXWnbSkQ24RIvFr/7tx1zRWt1v/mNPhY33B/BYS/8eXtGVx6PtTILbTSHFihsrhzLI9MqG9HkXXnD6r9HmQgLQ5ADDFy0ZgPaykda45nFL6cpW7NXk9idy3h48lHKiNJrQP2NHy1yrrosJ1h45DNwdbsPvKjFKH4nEH2fQubkIj4D0aYa6ezDNa2x8uF2wo1puQIP0lfSAAAAMAAAMD5gAAAEUBnuh0Rn8AAF8cYP+tAIez0nLoWLi5YngPzHI8sp5ju/LoJuL95eILNM10pLepLhRqCSl2t0KCrolVSWAAAAMAAAMACkkAAABHAZ7qakZ/AACIgAWOPgS9Sc81QAyCUJLApnEurdykpCtsY2X8NNi7tfax1IlUdZ+FYaGdX8y+zHp+iNoNVGAAAAMAAAMAwoAAAALuQZrvSahBaJlMCL/kQGx70+0afjXMqVORzOXmdSaLgDAQiVNuVksK7jQDrJJOD3v5YALiy18ticg7xBqOgkV3244VARN81T1T4L2dJmghvIml4ImU1ygSCfoUZNDS/x0OujT4E9D8nmUsjxoJreoTd/gAOCHdiwc6cR6NC3lJopB4EbAsTC1obTFGAEbSPrdjP84TMBVPFlAHcc0RSD/DO4WLF6zuqGUM1DYtfcC6JQzh5XrQ8HoGU0WXXo6//4W+kvhAaZrnpiufzRmvw1uLIGzG5FL4Q1LtDdl9ljiZEPu08E/tEGBCCWb/uY4LIjyaFBet5IluJ27+hzlcNtlSNi/nsJ9MvQLOqGSzjauRtw+hfKw7NcERxyMH53PL0ajmgjawV6gA8S+Y2YKOjiH6Tc80b98SOizcWTcbJQ8Zg+HnWkRpkvCROkfn2bIQKKghhLW6BL5sym94wd9oXZ09w9RPEnuNurtQRQfgTS3cswv5aALtqBY5F5XA8MqmBlSHDt2Vl2E0np37+o+dMC8TyQiPWnV5gL6Byzn2HpAd+D2tbU9fznhwKZDNetENSepXDO5m9G99cllSij6HFb0Dy9RbZylodg/4UaUyUZrHZPDXxfC554EydvwCRnaMf614hAOySaZZivKcojkg1PEZZPJSmCK4bi5ggpQZLcF5PCYiGCc4z7dLauJSsAcdfVNhvy+C4JFVQQneJKZaPHNIR2ZJxzgbqOSsyXzq3qPvWfkpqQpr/zU+c7c7uACuremgoaNXt4XuGZ6cageDR/DM3aanR2Tzy20ZMDi1Gm1TkN94zk5AOPZjDW2UMqkZT0Op1X/RoO3cVoA9tD0LKTLcjDmSYKRAA4kW20RqaIEUd7As/Fqhq349yRqVAdQK2qOT8X8nAK8t+v2imD/QerBM1BOu7Af3DImOpNkcWOg6//qUdH7aWOR3gh+JCVR4ggQrOw9hbC82klZ2E8wY++hwmvJ9nwRsAAADAAADAMWAAAAA60GfDUURLEcDLP7lLMQMXlBk20TcnDlEftapzC6w9gkagqGP/y0Tef6g9aNsWlpwXmFCX03CY1dFSat+C2av/+PuE1SvllapK2/PlC8UN5VlVxESIAufLDAIJfE7wz737fi0aSOisPJ/zsGvP1cHng6lNbTULPNcwdt2PvPFFv1YgctffVYu8s4KjSYLSXqa72XU0kAE6p4N2CyBcFntKVnBTAZ94gUUneUJP87LEpnjENz1EJ4BA/56S7MXNK/sCXhbFXO10svpwRh7l7OLNAduPLEzSQfDkaZCmyrTUcI54bEYiIAAAAMABvUAAAA6AZ8sdEZ/A8SXF6walfnJieJLFiXqsQfh6tq40rVDGFp8bNn6Qh7oPeMiB3GjR+t9GgAAAwAAAwCLgQAAAMEBny5qRn8AAGqAACAFrbYMQWqcyfLCh8sQY/xliIvuW40N5jhZ1mt/fWcr1LfzYaX7j2Qz0BWPhxCo2eY8TbhJo+nF9+knO0rAEGUSyaNjFZEX/+lj0MPnDvezccOx2aeZ4DCr/3fdSa1O2o3KVjtjW2qrHNtGCO+e+Sc9+OMI7PZbAgLSAQe1F0fCGfn+LTcV7/iLAGVcCgthe0IM3631wj1zveLMacTxFBirx5i2Pm4AFf0vHHZwkoAAAAMAAGBBAAABYEGbM0moQWyZTAi/5EAAAAMADD13Bqa/hZAt4F48s3OiP4KoGJwsfHYjmgFb7gpuO/sSUfQIOySF251RSzbrLbkUYECZF0vRjyYK1qDUOq62jgkAg3qrPWZ//ZU1AQgK+OWI2h1G3vlsbuaiE+rW9j4qySa8cDTKfU4hIcYy9cX/wzCak0C4AAANRfwGNl1YcUy+S/Kt9jgzVacmY30z+YPevisu0DlpETX0T3ywh3o+kgkGmNi7derRmbN1yCwNt6Rr0QDHccACdkSNHQs4k6GWLBhUkDTnuW9mlPxzrAJQtK3kQuvjM2fL//TjzJBVNrJZFRq4DGzT2qTh08QbkUvhDUu0N2X2WOJhf1enyfmwMw/GEp0bQ5jgsiPJoUF63kiW4nbv6HOVpcPrOLcgXc/8kUTXXyWcbVyNuH0L5WHZsOqLFd1UVgXWjheKHNgr1AB4l8xswYgcAAADAAADA0IAAAC7QZ9RRRUsRwAAAwA55DJAAAAYBQVhmH0CWoKUS5+kPYArBz1iPS7Vf+8WDLf3blC7tgtl091/+8jEmymsIUACn6/ef81rQ5kpuZefKbq0PtJh3VPe7cYM85CaK7FaoaCpF+npfQ86yLHP6kPBsyOOV0MVHBAwcYfgvhSWOfJchBnQzLECgexWys7cRkliVil5smRUlb7r1K1RXVJg98Xg6OIuoFiCXhlhHXJdCyOCOE4wWgAAAwAAAwAEzAAAAHYBn3B0Rn8AAAMAQlJZh+hRQADXrCAZDfKZXwcpyPSqz/zJbYTh/6D3a5FwihsXONtwLarKcJQ2Sc6dtFBcCdbschaySTc1G+9lqTZ3I/BqhkX14sFIIBW/cJJkrqodBP7H79A/J1c42FNS1mJQAAADAAADAAYFAAAAfwGfcmpGfwAAAwBDBle8pgdtAmNEmMAIB9VOPro2GqynI9KrP/MlthOH/oPdrkXCKGxc423AtqspwlDZJzp20UFwJ1rDwFrJJNzUb72Uk+wTQUGRCp9eLBSCAVv3CSZK6qHblKamUsH8M138nmFjmCud71HXA4sAAAMAAAMAB/gAAADcQZt1SahBbJlMFExf5EAAAAMAAMPoee83UABzE9jji3VVArHBP7LpsixAhco7knj3Trcbtflg1oWrvXg2r29sYmdbYfGVaE4el/27fSaEIXTz09NdbEfc5rrG3BPqOqtBWYUBUc2ZLCyGiEW6HNXK+X2KnEx6U2CLNqRovNh5RqzU1s4vMaC5RXnnfkcQmcbOHL6G6R6tHk+ptJTWDHKNNSOZFMfWFrOvHvIf+O0MlZEoC4OdD3op1aU1Gb7+pnanPWoS+HsBF6QZNk9UlZpqKKAAF/NQAAADAAAeEAAAADoBn5RqRn8AAAMAQ18OCjGP1QhaWAmwltpS7M7qxOcBUnN8AY9JUSlpfzkkw8RqbPJ62UAAAAMAAAQ9AAACA0GbmEnhClJlMCL/5EAAAAMACeX2fVwqyhDp8UO+/Bx6MuBSRZI8wDJeWAJjvqVlYdelhU8c/V+ovRgTBbmktlr4lpRCRsDB0ESBi1oTD6aBb1EUh+f4809ruLIG5S48Paegq5x5MHyOT9cah84414E4RBssHLY0cykkNz4L+mWXOHU2QguQj3fR89CKNbnZ2kMHbx2OMg0JIyamnps9HExqwZYI90+vKusuP1v/s+dVUOuoXy7alCX8Mh5RlbVCqMqlGXsjAgX13fXazJhfwxpyQRNptnAeKhNxbU1vS5szTHbmRJi8VOizCMc90UZIWnRmz4S0sdvlFOUjNkGbTD9dgMORntVA0xUmQrwmbbiRjaWJLLXYmtsX8MfbKiSN1VGzpgjoZcNUZsfAAVtsJUWgznWGxPp8dkN4Cdli0EH+Io1nGplQdh1LTmOwAfMedhzIOFpGC/zDlipCOUXOLnONFNOjfGl6iAAg5+hJBnCU1/lJLpsY9Swge37zdlTqOjA40FrCHOsukSbN4OCqQ0NkhuhXgF4ZrBqed6b80PNsyRediwknOH57o6OmAyMnpaUWkz5QUaR15dv7dkAB0/OnuqIvXuyI3U2fqWIabXJ3PF9Yx9HbspD5jhJPROecOMJxXURnn2OpJACxla2///n331NoDmHP33kgAPhMAAADAFtAAAAAnUGftkU0TEcAAAMAOfSw0yQ0BGmd8t5GAAze2j0vuBQZ653BxbALh74/+Os3lvty1YI/NQc6tmP0FLVw2qxFKvzFaKf4NNzN9c3og35wMHHdVA7sXYF49f4x9HwAKnspVEe/wiNgT/WLp4GPJ07bZ3xCdklvmNuN1QY6YbgjyBw9lXgZk6fV0npAkmKYVc0Bb/src3O279jwAAADAzMAAABgAZ/XakZ/AAADAEMF6ksCkAR9jclAARj7uzQg4ymK//8qn+IIK40cutxo78klTlxnU7PU4bBY1rjmhFJLqhTD1M3/x+v3A+yggd1XYA9JXD3LcVYLw1ZVgNTAgAAAAwFBAAAAqEGb2kmoQWiZTBTxP4cAAAMAAAMAAAb7m1QOA1bKV4J8/Lnp0QBxlhobNUcmfEuCUiDzEAWmAGcxQfhFfM9nTyCVSEkC+V4T9qyxa1WPOpNJHnYxTeOO/pwpNWAAAjSvPOogElBGnPyl+D1B25YfcYGFCWblpn474LRY7CYSswUGCvGofN4Ee6QK6TBK32R3HGt0bqgZd9rkHae154Wjh2HDgAAAAwADqgAAAFIBn/lqRn8AAAMAQ17wgAV0AAJxgQfk6qAW9HmazkelVn/mS2wnD/0Hu1yLhFDYucbbgW1WU4Shsk507aKC4E64dySQm/UVP4lR3n3wAAADAA/xAAADL0Gb+0nhClJlMCJ/hwAAAwAAAwAAdTD9UCk9QL7//4+g/yYVh/PYkuk5O2MHYuHDBga9c007W/lg3LegJWlMF8+AMEQv+MTA49KlwwbSIwuj6bmrud5Raq3e9vzoHbHss53m7LPNwPv/2v7Y3xtJnohtmU8PP2oLsMBM2Xx1agMYazJ7mxbwx59dGROfVLmb+hnRgkMyTeJX20VlrtG4AAADABE55DMvSbC+hmgQcWpJHTTqXoKXGETASoRB8CTkZumaea3KvrIjkEjvaG0bLVLUbeqUgyx8OWBBFRMbQx7+oZjH0hSiIP3FMz8Ceg4opXhdbqepe8VPpS04zjEgBDOeGhhjlD5NZpzeqEPvv5ogitdbjO7AN605tbW9EgvV+8Lr0bLZ1fpdy2NQmxx0q0glYLNh9dcYYowToUY+srHTn+e2p0my9S8AH/mOyoRbYCAIKcETenbeWT44LaaT34tew3BetXoJTizp+Qm/gN85ygovGLbc40H9dF/nRgiGcN/pnKMlyImIHww5nQ+38u61Q6pNjIMYg38eAXJehL8RocP/gwAUg2yIPg08NcGbo+bnoi7Gb+c3SnSkauUTRYVxO2vr+9gmVSzAzPiszEu6hwtmpmhHnBbnHmc3lCcQfgJ7f9ySJBo670jbyfTulNtiSoGRIm5AI2y+gFYxJE8OQF7dBgDKn3dCzRaC7mhWKQcUe45zp61fCrFjroKC0rWwQZYxwBskAUjZLvddH1qnDyti2OC0yGLLqEpbrddzIWGBGNRmP1mzS+BOs8kWuFVBBt5bScBmhjZ3MrTRjiZQE/DYhOTVQkJVqP1NH4DiZj1N44r3uVUhhgRe4Zd417FI3G9qEsavL2kj9J19dTNWNN92A4VxoOdJWsxznosx5jyC8D6KuFXw/AQfU/ipJreJwPgh7N6REvf56kZ6rt+WY1o3mHtkhT0+tnt770NGN+i+Palvr8kaupaR4h7Qvvt+/uw7Fb6JKTHBRSHSPnlMsoX9Wrrzfx6KBmdFetJgBWMduFHw68H86HiFJgEHRUiiYH6oNKWd5AcVQwWX4gSmkDQLBUUG/HU+AAADABlwAAAAp0GaHEnhDomUwIn/hwAAAwAAAwAAdTjvQQqtwNPGB+l8QAAAKzHgrsJQw5tox81J2+2x/QRyfOY6M49u2pTJfs45ezS21eYfrm/vMz3v33+TFn7DL7Ydv4DKCILqyfZsjXjiZN19rf+EplRZCuyhmukuOMhnPvM3vbNXZTznndeMbd4fMkuH1Xv7uelmiB9LgRlSF8YLnnzxUZcei959RbrkAAADAHdBAAAAb0GaPUnhDyZTAif/hwAAAwAAAwAABvMyFmABluSMyEUiowHOiqpgbCvnuPDKcV9ULuooO7WB2c6O3oWmG5ij00Foi6FAW4biRwGJ/q+cPPg5ChxX2c4x8GFFTZTygxpz3xqRnGzxzeM32qA8siA7BQAAAFVBml5J4Q8mUwIn/4cAAAMAAAMAAAdCPCJFtABDAzMyD+c5jngEa0pQV2sY9TX7SebETYZcO+lx8HrROgqdOqzifj9EXK0laGDsULhXvYBWEU/vsEbAAAAARkGaf0nhDyZTAif/hwAAAwAAAwAAB5o8IkW0AEMDMzIP5zmOeARrSaAsr3OYjhnM8tLmiHVZaeW7ARd0E1XE+NtDpgDLwS8AAABIQZqASeEPJlMCJ/+HAAADAAADAEfJAiXulRJeRtPgZDrtUAmXZPTEqFlzMeyBg5z7sq5jvyq7oSjpA7610pedzLHgxQAAAwGBAAACFEGapEnhDyZTAn8AAAMAAAMAAAMAEcCbfIwGoBM3PZTve9A1IGQshcheQcUcY33M6UJI7Us/1i+LD3wJBf1Lt9eN9N1GlgtYCWO/sGY30dHTU1JCYiT0SxwkB71CVfmoAh090f4Ylo1RCnyiNDmTejbDunhi37CK+36e4AoD4ypvN/ilsTfrX/bRq/JlkL5+mFbs6q95EbfNnT7Q8gyUkO2Qv2x2Q+ZbFeUXff+Nz5oNZi8RYNeJg11bsSrVaSyMxT8Uh0eWKg5t19t0aKqvp6Y4sRWyUl/wig2sJyEMCLR2qJ2SeX7L8gtZdTZ9e3X0ZfaFx3u4owzZyL8o05WvGpQIG0mLae4upceA9bi1RrN4fQ6bC2e+6WpIDyYRviWdXliNv6k6vTKOkjj97s+DQF8X8QCj+hoMpzvXIC1MlsXT5SADmYreN0Ok2bKfRs9AvJogfhQxXPn/UXHCKkmmJPTbvv8N4HcQ1QiGQ7GMhTMcOnHxRV4m2qo9Kubbw9iPI381tlB2dsasWKTswAw366LH6wHQpLzLi8y7bcbNwC2hzCxuLemliUhTaOFim7qi+g9E3FNpAHJ2b84mTM8MW4LUVoh6ziKnwjH9IKd87DnNzc/xeFRzjPMdKUFYR7v9xIM32FMNRZU+T5X/qurpXj0qgV4nQzdZ59/lE0sXu+7kGDWPnwKS/OJKIJB9rqAAbQYAI2AAAACaQZ7CRRE8RwAAAwAAAwAChAAAeIdRkrBv8Gg2G8HbErX/VL0bfu3ojd4fNIztx6C3BI7b/EArCU+eMslp9P9150vBjCrY25yWW9VKVsz4hkQntVRARYUSQJqOSgKpEEO4m6zOJvp/aEO1e3APDCPTQwm5nkLLmeVI65svuYdJ14eUDDwLFyEMHg5r8U487wyJMVH1U1kdGyADFwAAAD4BnuF0Rn8AAAMAAAMAAviD8KSoFLOmrSZQn0xFBXnOgmPXYH0zHvf2ANyJisu8+ABIWk8aWYBXW63rAABUwAAAADIBnuNqRn8AAAMAAAMAAARkAAADAHrQeLCL7VnlzvuRi7d8kkoW4LPFlt1LfHw7GQABnwAAAUtBmudJqEFomUwJ/wAAAwAAAwAAAwAAAwIN0fIEIx5/hFaNc9itekdqTCtX7KT/l1mVmNmnLG/FAFM5xNSMvmCsIOxOm9CgSIC94KS5CS/zfJaYlObsQ/T7W71ApnCGsagJ6NUArZlLueuDat0DwMieIyzVxtB1xq5skMRybbVIUnoNxtRjyWp8EXABtxe3kESQhX0cJgL2QsEFRDSlzXwPl8RtKsCQj5br/EL7LgSTIigdJjjSxej7of9gAEDjxRGmAfq8WNNl6GQDFUva+sEAicAADD9SxTl1uqXUR/9kfSnk3DFbJRhDectZIN8Kc/p2i5C3ZrixXIV9QIeZBAO2K4wsUJswqrEvDIfMzmRxTXl/BYu8+lMdpa6NHKD4cRC5BBeLN79qehTtuz1UGm6NDHITFIL0axRAFgebRHILLSUFJNEt6FlAAAwJAAAAoEGfBUURLEcAAAMAAAMAAAMASkAAAAa9mO+IiSDYbwdsStf9UvRt+7eiN3h80jO3HoLcEjtv8QBUqwTcRlktlt0dLc/g0dd7r4o3/VQPDAeITBxlM6OGz61JoRpvuwmgWJ7oxK3HX1L0gG+Vy0iYDrbN5xw5HFjEuBTReEtP8H9QHOfKbjihPKOAdld6DEAT6odm1VzwpGueIYIi4EAAAP8AAACTAZ8makZ/AAADAAADAAADAFQbA5H6cXhVhJAABENtxIEDCosvg4DVilVn/2Ccjj9i9AIAsi0SYbFzjbcC2qynCUNknOnbRQXAnW/VUcskk3NRvyJTomQh5lha8ivrxYKQQC9AUYzpGZQXksxFKC+Q2zivEg66N23Jvvb7rdvVf551/9n3AD7cNRQASHkS1i0zgAG9AAABm0GbKUmoQWyZTBRM/wAAAwAAAwAAAwAAAwAyeKj4FI4ACPD//j9c/x51VZ5TY18exYYUKmcIIcdAEX8QB16rznBwSdututCjBlkvAaGxMS2kf4E9l/gDLQN7svSkDxcxszR9WlCqhVCDsoFycSEbjyzadcx1mxv6IglVXdvvXjDhXWY9ziUpJc/yb7CoFlKooN+M0XurI71k2lzOTwgUNIB90ZP3mA/APeXXJIPD0pxgJsLpq3kStEmU+svly79bxKAAGkTY8ndXtk31lpYiBu/tleoJvjnCiq3deNCEbUTX7D55SEEL/WkXB5eD2yz7n0nGOFCrZFrJ/+mctUy16/eQbI36vnqQgGB+qXmSiXDptdlG1+1o4abaKEA/Yjn0QjUY/78TKDqQrCqsNORXGZthHcntDnvuuHLFVSkZDM45kV3lwzfcC/ZX6/vW42zpqusp3bKOXw42/m3/yZWlYb+qsW71GNOomMEIfTjRCxI9QDcAWP0G3GU8kH5Z/TkTbUvyfoge0ghSoZI71NJo3X80Ujo3FDVXvwADugAAAOEBn0hqRn8AAAMAAAMAAAMAWMi6ACnKABB6f/8+g+jsK9hTPBBjSj+ueph0+sos1ydBeCzPF0rSrhUZ4AAAYQZK6MazrMdWE2YUFsUs/exv68L5sHUIxLMZeD9xllgGAFfVzwFae37uWjF6yEyYbAjsVMbCjE4Apn677eHnaak9zawYq5Ju0dwH4JH/XR+xA0rgMaJzzAbuDJ1ARiZ9DY8REy3914tanp3SwvfwSx2AMvbM8r8gJDd+evKIzzhxxWY6+fCjP1GAxmh7B3b5oEuvCKK71FrnBxyqnQA1vBgAWcAAAABIQZtKSeEKUmUwJ/8AAAMAAAMAAAMAAAMAKRykIALOblJqNHqM9gREHZV1CgIY7q0+KHe06n40zPVYU/kyPdI/LdxIZNtArm7xAAABjUGbbEnhDomUwU0TLwAAAwAAAwAAAwBDRVuKoA1b///n8pVK0HQ5bHR67GHbBamju3ZVceDnmNwMjIypJfVnMZzgSW6ZmyY6DaB/MHE/2nqDdAmEQy/6KAxTL/BswTT+i2kPAKet02nQUD26rj+JdJwM+Qq70nSTrpo6+Q/dxcZZ7g+XRhMOjhOGmchsug0nThYApz7+kERejCn5Zj1w4ydACe3lthR+vSVDxbyzIhyTauQH2XtRGtbekXXpyhREkMnBD4xC94Bqf58R6V0ENgX69bfX/8gLd4JIlf0RIHJkmUkMx8SeyOWteB8ZbY9l4ZYOPdKQK+5oZ9LLfuC6J6SSw6FozAQoq+i7cC4onnF9lRxIeLcUBvUQCXrewDP9yXqcxQ6p6i54voguIcvX/D08tk98IHNIM+GC91j5B/k0u6rVM9HHwPxcPzI7kONAFbWt8MGHzIDaeRaddE5AUHEO8A4R3zdEABvPL4OYvVaBYQZ/mIzOsft0Ia1Emrdrg/ixzGt5HaLuqKIfIeAAAAA2AZ+LakZ/AAADAAADAAL4cRhhBj6DJ7Y1t33xihty3xAexsIi0WOxMmS4ghln3eVhD9pzYAyoAAABQkGbjknhDyZTBTy/AAADAAADAAADAENN4cYSAEPt0U/wa5ok0VV2KwggrT8WA+7dQY4O31VdFl87z31g3Q3Au/UPY886KQ9ky7rwPfOS/mzy5y3KqnMF3Yx8ZOI27k2iWs2rAVxUiPC9/2kvr8HWdUDEx3ON1taaHyRlW4+7ocNyO55suYntdwdvweKYP5bUZguxgVgaew1/j7pQtsaX80LIw1IacYHBdPShxWb8Fx0UvdMsvcGQBH64Mtqvcb6mbqXVQTQlmyPSE1rcweFOFjlf79q0Thvg6O07LA0CJKA6+NoCkDSRsLuUHwLc5jfZ4aCxjMDlydmEyD3qlCmOMSpQqYWz7MsRzF1mOzAeWwvH4ia3WpZmaDeclWruxOynv7NWAosjUSc63xH9c0IV2bbu8ouC0j4ucK42ako3z+IABQUAAACqAZ+takZ/AAADAAADAAL4cRhhBj6DJ7Y1t0soo03azlU4Nes5GaFU8DhTOeLYPpjwR+WqG3/Hq20CIzK+2xSYuP8MVZAy5CUgKOgYX1jxO0tMjr3V9ztTfI7udJ4us1h76UQRw65qukvpPLB70z3lH3wyZD9p339NzIh4WXzIiH9TSKLGknVeACJhAPzm5My5FoD1fUIQQgtHAudbUM8QcjG25xobAstgYsEAAAHgQZuySeEPJlMC/wAAAwAAAwAAAwABKxWTa4A1b///n8SVK0HE/jHOspGBW1WqPfY3O0M6rOoi1SGbXd1EFrGkWI/wHEvBdgtBRorKUoLwK56Tv8k348dLhPvFoLweLkv9gDWiVjw9iqLBWTBGCtElfPDYrX78RySWoq3gcSn/Dmi4alttMhOOImmXw/8BcQBFE3bZ1r6bd2IgIRhqy7Sbi8ikkpB2u6bprWeRMv5o7AE3XxqgHPX1Up1k1KSsHaZf//n5p9rfNH6GkEBj547WqUypPZ3eoCUknch/A6t+lQ6yoT6JB7P3X66o3zy3qdPmsJq4XJWNVm7vSAh9BiZ+reThbVbfjgo39+kR9cz7kVtxDErQSjnev+btayyqsBMnkGUlC3z7yn2Ta6XdWMXBin3VWavv7wLO4fF3oOp0KO4z5GSn3Tj0SvwR84WcfzrgofyTNmMYHIRVyn8bIXgu6CFxf3vBe10qRSe5ZbVbpyiw8v4mAImgXDBPafhKqOQy++UQRgx8XK56b9duHgheMoPTxt91MrMAbDaBD3swRPJgek9HYCpzQKPnLAFLLPt2a7ve2iTwZCME6gExfTPZlkiB/PdJLllOLM0V00WsmyppzLLDNTT3z3nl/fFrACdhAAAAZkGf0EURPEcAAAMAAAMAAAV0AADxDqMlkX2hYioxl7nay+1G/HuVGMdmARjGHcEQk4Xe6NjYKGXgmchqze2Tz0iDIPlCXnfYkHRDksTtmscTKqHv8bXdGTG/Fx4n1miThXyKsIeFXAAAADcBn+90Rn8AAAMAAAMAAAZpB9ZTu1IBWvuaQ53TRAZjm2gBFulow3Q/fJpZN72kmfB+O6EAAPaAAAAAkgGf8WpGfwAAAwAAAwAAAwBtAkTWWmCCkhaTGm/+U7bmZBqqtDX/B39luD/g5j71iOFyvAU1yIc1hw1VeyW3XWgDYwyxHfBIic8FsFyiSD63g1EI3xRch3boWeNrajdzWUoQhKn+fdFojQM7MCVeE3D8pGxfLDaSwxkCrnABnar85+AwCyEieOt5CXYHEqLSyQGzAAAAVUGb80moQWiZTA//AAADAAADAAADAAHwoqz1ABBrG464xkN2PXIkaHWzMPBfkuq0wxY75o3gq/SDZxRspTigUiqm1G8Mfr2mgOEHW48fDH9R/HWgDPgAAAE7QZoUSeEKUmUwPwAAAwAAAwAAAwACKDe6bIeoAfv1GqUCIKHDqgFU/jU61L2okZWwKhvHzMigxYoweBa+I6wb5f+gvto+uPSCyYWqSt8/3cCan3ruKtlv9iqXTvY7iVpWFo0o4yCAu/boddtOy/Oy0UdS9cQ8FGMCWVoz6rUAbNx/g/DY4/Z1O+2+DmrPVxWvShhsQXpjg33d3yS37MNtno9TJdEbmc6CFqMmOzuutUGe0FF79cuJIPcts5jyiTTIEQWra2MC6nXY53R1lyVCgPCl9g32km1RBfoPjiGBSsD4m/6eUh3hEH1/tuzlKYAb6R87bdxv+IQSEn/LCyoDz5com/VTnMEzW4HM+8eluQoKLmVID5o9Q9c5hnfQgGCdB0fkGnv6w1Kku3vAzYV7e0+iN/CyHDCj5D/AAAABsEGaOEnhDomUwJP/AAADAAADAAADAAAMfIZ0AAY7Ycc8GRB69DnGfjVx///7+UqRZRNuZK4COfisE2aF+PkIDP0AAAMASx7uUhWiN8Pt1mNstOIJ9m5RkX/+Ib3pcJT7p3Ycyy4OPj6x23JfRbmMQQCBQxoZ33PEAu+8mJk4X9Kh6DTFgexTOZS5ZGD+yHAg4l+SZEgUJTJhbJmk72c9sWl9rN52NwOLTqpov2Rq2PgttnzCpjsn+DLAQBKz/Pys4F8xtDlCkgVQ44wHf5LqKEifDJRf+Fd80dqHoWzUmlaUA2zrYIqZPKxcHstvuVimqfhe1P/3+xUp9ClQsJ4bIZPKn1+BwDAGUX1/RcBBU9V77//eNjnidi765ns6bRtvfZN9bft0TbIPAGojQQwNuZRP6JLFoZQ2c7J42YnfFXxUSmtMRA6CfHqNHX2KkYNcsHgXgvS0r6WOFhgNv9qAOKYfKnWyTLWzUVKEmS/wf2JE6Cln1GrWopfz0YtyIc6bDJyK1LMID8e2ltSpUKMdKRo9VwkCG6zA0cIa8Kh6BCxO/gr5cuIwwoV1WHnsdcAwIQAAANlBnlZFETxHAAADAAADAAADAAgglS50P8QAASAYBknq5kB16hOYp5gMzznh5I1CiAB8wnrV0abnMkvOQH/CZsIsAuHvj/46zf7uogLfVitiUo2ZSuFxPARDT/ZABUQbBn/NJ9X9ibqcv/tuQ0Sh8hPm4ZiwF0c1/YfbM2slALRQyW8zzybJAP/itEr7QGEr7z2i6aVF1caR1C4GSw0P2mXBiNQQ8TBGffMaLjYTqj3nMqTtjCJK3ofIUgWhLblyI9vzqihjmmKEaXqLQPHygDHO0Dv8Z2VpkPmAAAAAlgGedXRGfwAAAwAAAwAAAwAAvAACUVWVXu0CpNDYNuVYpVZ/5ktsJw/9B7tci4RQ2LnG24FtVlOEobJOdO2iguBOszCAtZJJuajfey1Js7kfg1QyL68WCkEArfuEkyV1UPMt+XmnjIcM1q6gbmY+B6dx1W/xWR46rcwRlwR62liA8H2gVdulAvaWegKAS7VD+xnQWoAJ2QAAAEMBnndqRn8AAAMAAAMAAAMACYgAkEAGdOo2sxfOwvu4CHuoF98qpTtUiECuUmVpYJoNFZKe7JHK2Wy6k4pcz6euwJFtAAABKEGaekmoQWiZTBTxnwAAAwAAAwAAAwAAXXJagBUFPwmcKSGSrL14BQj7ky50NgJZubruxatIXRfdPfjH/+/ZdzEKFQjV7w/9xoQRnuYFLx7zg0hmU2Gbn4X9GYUKK+AsU0m7nxmwuTzcmHcESLspQU82ILwcD99ZZ82HpZpboXW3G/7HWb62WLoh/gYu1yV6VlSEFGY1nx+YucGTg9AoryqMhn4q4nUfpL5/ezZDeM3L7CHbwT3VjnZQO/AuPy0tWNi0YBlsCTiBqIiigTUIrDYL3Jp34a5fYnJUDJdYbP6d6A5FFHqsBvDQy81X0A2dskbC4japRMvam7PlMoPDSXRWMFdOH5hE4cA03V5YtYxT+uYoCUGH2bmysmNjTNhsNxpcha2W3J5AAAAAkwGemWpGfwAAAwAAAwAAAwAJiACQPtpN9AmCFlp/1/9Z23MyDVVaGv+Dv7LcH/BzH3qMLpWzwFNce4B68lHCKlt11oA2MO+UQuvy3d2+erSPzpAN1eCQKLkO7dCzxtbUbso6vhwQ/K7tLmiNVZLwRp0mO6juecy5mvs89My2+I/n/xJ7JKtJoTCOzHrox4SWdPnXTQ==\" type=\"video/mp4\">\n",
              "  Your browser does not support the video tag.\n",
              "  </video>"
            ]
          },
          "metadata": {},
          "execution_count": 9
        }
      ]
    },
    {
      "cell_type": "code",
      "source": [
        "# Set to use GPU\n",
        "device = torch.device(\"cuda\" if torch.cuda.is_available() else \"cpu\")"
      ],
      "metadata": {
        "id": "P_yzi-IamaTl"
      },
      "execution_count": 10,
      "outputs": []
    },
    {
      "cell_type": "code",
      "source": [
        "##############################################\n",
        "# Reset Environment\n",
        "##############################################\n",
        "def env_reset(env, seed=None):\n",
        "  if seed:\n",
        "    torch.manual_seed(seed)\n",
        "    np.random.seed(seed)\n",
        "    random.seed(seed)\n",
        "\n",
        "    return env.reset(seed=seed)\n",
        "  else:\n",
        "    return env.reset()\n",
        "\n",
        "##############################################\n",
        "# Preprocess\n",
        "##############################################\n",
        "def preprocess_state(state):\n",
        "    \"\"\"\n",
        "    Preprocess the state (image) from a gym environment.\n",
        "    If the state is a single frame with shape (H, W, C), it returns a float tensor\n",
        "    with shape (C, H, W) normalized to [0,1].\n",
        "    If the state is a stack of frames with shape (num_stack, H, W, C),\n",
        "    it processes each frame individually, resulting in a tensor with shape (num_stack, C, H, W).\n",
        "    \"\"\"\n",
        "    state = np.array(state).astype(np.float32) / 255.0\n",
        "\n",
        "    if state.ndim == 3:  # Single frame: (H, W, C)\n",
        "        return np.transpose(state, (2, 0, 1))\n",
        "    elif state.ndim == 4:  # Stacked frames: (num_stack, H, W, C)\n",
        "        # Process each frame and stack along a new axis (resulting in shape: (num_stack, C, H, W))\n",
        "        return np.stack([np.transpose(frame, (2, 0, 1)) for frame in state], axis=0)\n",
        "    else:\n",
        "        raise ValueError(f\"Unexpected state shape: {state.shape}\")\n",
        "\n",
        "##############################################\n",
        "# Epsilon Greedy Exploration Schedule\n",
        "##############################################\n",
        "def epsilon_by_frame(frame_idx):\n",
        "  \"\"\"\n",
        "  Returns the epsilon value for the epsilon-greedy exploration strategy,\n",
        "  decaying exponentially from EPSILON_START to EPSILON_FINAL.\n",
        "  \"\"\"\n",
        "  return EPSILON_FINAL + (EPSILON_START - EPSILON_FINAL) * np.exp(-1. * frame_idx / EPSILON_DECAY)\n",
        "\n",
        "##############################################\n",
        "# Select Action\n",
        "##############################################\n",
        "def select_action(env, frame_idx, q_network, state_tensor):\n",
        "  # Epsilon-greedy action selection.\n",
        "  epsilon = epsilon_by_frame(frame_idx)\n",
        "\n",
        "  if random.random() < epsilon:\n",
        "    return env.action_space.sample()\n",
        "  else:\n",
        "    with torch.no_grad():\n",
        "      q_vals = q_network.forward(state_tensor)\n",
        "      return q_vals.argmax(1).item()\n",
        "\n",
        "##############################################\n",
        "# Custom Reward\n",
        "##############################################\n",
        "DOOR_OPEN_REWARD = 0.4\n",
        "DOOR_CLOSE_PENALTY = -0.5     # Negative reward for closing an open door\n",
        "STEP_PENALTY = -0.01\n",
        "INVALID_TOGGLE_PENALTY = -0.2\n",
        "DOOR_VIEW_REWARD = 0.05      # Reward for seeing a door in the field-of-view\n",
        "\n",
        "# Constant for door type in the observation encoding.\n",
        "# (Assumes that the door is encoded as the integer 3 in the observation's first channel.)\n",
        "DOOR_TYPE = 3\n",
        "\n",
        "def custom_reward(env, action, reward, done, truncated):\n",
        "  env = env.unwrapped\n",
        "  total_reward = STEP_PENALTY\n",
        "\n",
        "  # Check for goal achievement.\n",
        "  if done:\n",
        "    return reward\n",
        "\n",
        "  # --- Action-specific logic ---\n",
        "  if action == env.actions.toggle:\n",
        "    # Compute the coordinates of the cell in front of the agent.\n",
        "    dx, dy = 0, 0\n",
        "    if env.agent_dir == 0:\n",
        "      dx = 1\n",
        "    elif env.agent_dir == 1:\n",
        "      dy = 1\n",
        "    elif env.agent_dir == 2:\n",
        "      dx = -1\n",
        "    elif env.agent_dir == 3:\n",
        "      dy = -1\n",
        "\n",
        "    front_x = env.agent_pos[0] + dx\n",
        "    front_y = env.agent_pos[1] + dy\n",
        "    front_cell = env.grid.get(front_x, front_y)\n",
        "\n",
        "    # Check if the front cell is a door.\n",
        "    if front_cell is not None and getattr(front_cell, \"type\", None) == \"door\":\n",
        "      if front_cell.is_open:\n",
        "        total_reward += DOOR_OPEN_REWARD\n",
        "      else:\n",
        "        total_reward += DOOR_CLOSE_PENALTY\n",
        "    else:\n",
        "      total_reward += INVALID_TOGGLE_PENALTY\n",
        "  else:\n",
        "    # For non-toggle actions, check the entire field-of-view.\n",
        "    # Generate the agent's observation. The 'image' key holds the egocentric view.\n",
        "    obs = env.gen_obs()['image']\n",
        "    door_seen = False\n",
        "    # Iterate over each cell in the agent's view.\n",
        "    for row in obs:\n",
        "      for cell in row:\n",
        "        # Each cell is encoded as [object_type, color, state].\n",
        "        # We assume that a door is represented with object_type equal to DOOR_TYPE.\n",
        "        if cell[0] == DOOR_TYPE:\n",
        "          door_seen = True\n",
        "          break\n",
        "      if door_seen:\n",
        "        break\n",
        "\n",
        "    if door_seen:\n",
        "      total_reward += DOOR_VIEW_REWARD\n",
        "\n",
        "  return total_reward"
      ],
      "metadata": {
        "id": "mD1EJMx0xim9"
      },
      "execution_count": 11,
      "outputs": []
    },
    {
      "cell_type": "markdown",
      "source": [
        "# DQN"
      ],
      "metadata": {
        "id": "ePuMBR7noGyB"
      }
    },
    {
      "cell_type": "code",
      "source": [
        "from IPython.display import display\n",
        "\n",
        "##############################################\n",
        "# Define the Q-Network (using PyTorch)\n",
        "##############################################\n",
        "class DuelingDQN(nn.Module):\n",
        "  def __init__(self, input_shape, num_actions):\n",
        "    \"\"\"\n",
        "    A dueling convolutional neural network that maps image observations to Q-values.\n",
        "    \"\"\"\n",
        "    super(DuelingDQN, self).__init__()\n",
        "\n",
        "    # input_shape: (num_stack, C, H, W)\n",
        "    num_stacks, C, H, W = input_shape\n",
        "\n",
        "    # Define a convolutional backbone for processing a single frame.\n",
        "    self.conv = nn.Sequential(\n",
        "        nn.Conv2d(C, 32, kernel_size=3, stride=1),\n",
        "        nn.ReLU(),\n",
        "        nn.Conv2d(32, 64, kernel_size=3, stride=1),\n",
        "        nn.ReLU(),\n",
        "        nn.Flatten()\n",
        "    )\n",
        "\n",
        "    # Determine the size of the conv output for a single frame.\n",
        "    with torch.no_grad():\n",
        "        dummy_input = torch.zeros(1, C, H, W)\n",
        "        conv_out_size = self.conv(dummy_input).shape[1]\n",
        "\n",
        "    # A fully connected layer for further processing per frame.\n",
        "    self.fc = nn.Sequential(\n",
        "        nn.Linear(conv_out_size, 128),\n",
        "        nn.ReLU()\n",
        "    )\n",
        "\n",
        "    # Value Stream\n",
        "    self.value_stream = nn.Sequential(\n",
        "        nn.Linear(128, 128),\n",
        "        nn.ReLU(),\n",
        "        nn.Linear(128, 1)  # Outputs a single state-value estimate\n",
        "    )\n",
        "\n",
        "    # Advantage Stream\n",
        "    self.advantage_stream = nn.Sequential(\n",
        "        nn.Linear(128, 128),\n",
        "        nn.ReLU(),\n",
        "        nn.Linear(128, num_actions)  # Outputs advantage estimates for each action\n",
        "    )\n",
        "\n",
        "  def forward(self, x):\n",
        "    \"\"\"\n",
        "    x: input tensor of shape (batch_size, num_stack, C, H, W)\n",
        "    \"\"\"\n",
        "    batch_size, num_stack, C, H, W = x.shape\n",
        "\n",
        "    # Process each frame individually:\n",
        "    # Reshape to (batch_size * num_stack, C, H, W)\n",
        "    x = x.view(batch_size * num_stack, C, H, W).float() / 255.0\n",
        "\n",
        "    conv_out = self.conv(x)  # -> (batch_size * num_stack, conv_out_size)\n",
        "    fc_out = self.fc(conv_out)  # -> (batch_size * num_stack, 128)\n",
        "\n",
        "    # Reshape back to (batch_size, num_stack, 128)\n",
        "    fc_out = fc_out.view(batch_size, num_stack, -1)\n",
        "\n",
        "    # Aggregate features across the time (frame stack) dimension.\n",
        "    # Here we use mean aggregation, but you might also experiment with max or even an LSTM.\n",
        "    aggregated = fc_out.mean(dim=1)  # -> (batch_size, 128)\n",
        "\n",
        "    # Dueling streams:\n",
        "    value = self.value_stream(aggregated)  # -> (batch_size, 1)\n",
        "    advantage = self.advantage_stream(aggregated)  # -> (batch_size, num_actions)\n",
        "\n",
        "    # Combine streams to compute Q-values.\n",
        "    q_values = value + (advantage - advantage.mean(dim=1, keepdim=True))\n",
        "    return q_values\n",
        "\n",
        "##############################################\n",
        "# Experience Replay Buffer\n",
        "##############################################\n",
        "class ReplayBuffer:\n",
        "  def __init__(self, capacity):\n",
        "    self.capacity = capacity\n",
        "    self.buffer = deque(maxlen=capacity)\n",
        "\n",
        "  def push(self, state, action, reward, next_state, done):\n",
        "    \"\"\"\n",
        "    Save a transition.\n",
        "    \"\"\"\n",
        "    self.buffer.append((state, action, reward, next_state, done))\n",
        "\n",
        "  def sample(self, batch_size):\n",
        "    \"\"\"\n",
        "    Sample a batch of transitions.\n",
        "    \"\"\"\n",
        "    batch = random.sample(self.buffer, batch_size)\n",
        "    # Transpose the batch (list of tuples) into tuples of lists.\n",
        "    states, actions, rewards, next_states, dones = zip(*batch)\n",
        "\n",
        "    return np.array(states), np.array(actions), np.array(rewards), np.array(next_states), np.array(dones)\n",
        "\n",
        "  def __len__(self):\n",
        "    return len(self.buffer)\n",
        "\n",
        "##############################################\n",
        "# Plot Results\n",
        "##############################################\n",
        "def plot_result(log_every, rooms, episode_rewards, episode_steps, episode_finished):\n",
        "  # Plot rewards and score\n",
        "  fig, axs = plt.subplots(3, 1, figsize=(8, 6))\n",
        "\n",
        "  # Generate X-axis values (e.g., for every 100 episodes)\n",
        "  episodes = np.arange(log_every, log_every + len(episode_rewards) * log_every, log_every)\n",
        "\n",
        "  # Plot rewards\n",
        "  axs[0].plot(episodes, episode_rewards, label='Average Rewards')\n",
        "  axs[0].set_xlabel('Episodes')\n",
        "  axs[0].set_ylabel('Average Reward')\n",
        "  axs[0].set_title('Average Rewards Over Time')\n",
        "  axs[0].legend()\n",
        "\n",
        "  #Plot scores\n",
        "  axs[1].plot(episodes, episode_steps, label='Average Steps', color='orange')\n",
        "  axs[1].set_xlabel('Steps')\n",
        "  axs[1].set_ylabel('Average Steps')\n",
        "  axs[1].set_title('Steps Over Time')\n",
        "  axs[1].legend()\n",
        "\n",
        "  #Plot episode lengths\n",
        "  axs[2].plot(episodes, episode_finished, label='Amount of Episodes Finished', color='pink')\n",
        "  axs[2].set_xlabel('Episodes')\n",
        "  axs[2].set_ylabel('Amount of Episodes Finished')\n",
        "  axs[2].set_title('Amount of Episodes Finished Over Time')\n",
        "  axs[2].legend()\n",
        "\n",
        "  plt.tight_layout()\n",
        "  plt.show()"
      ],
      "metadata": {
        "id": "J08AyMRunuQ_"
      },
      "execution_count": 12,
      "outputs": []
    },
    {
      "cell_type": "code",
      "source": [
        "##############################################\n",
        "# Main Training Loop\n",
        "##############################################\n",
        "\n",
        "def train(env, q_network, target_network, optimizer, seed=None):\n",
        "  replay_buffer = ReplayBuffer(REPLAY_BUFFER_CAPACITY)\n",
        "\n",
        "  episode_rewards = []\n",
        "  episode_steps = []\n",
        "  episode_finished = []\n",
        "\n",
        "  frame_idx = 0\n",
        "  losses = []\n",
        "  finish_counter = 0\n",
        "  best_avg_reward = -100\n",
        "\n",
        "  for episode in range(1, NUM_EPISODES + 1):\n",
        "    state, _ = env_reset(env)\n",
        "    state = preprocess_state(state)\n",
        "    episode_reward = 0\n",
        "    done = False\n",
        "    steps = 0\n",
        "\n",
        "    while not done:\n",
        "      frame_idx += 1\n",
        "      # Prepare the current state tensor.\n",
        "      state_tensor = torch.from_numpy(state).to(device)\n",
        "      state_tensor = state_tensor.unsqueeze(0)\n",
        "\n",
        "      # Epsilon-greedy action selection.\n",
        "      action = select_action(env, frame_idx, q_network, state_tensor)\n",
        "\n",
        "      # Take the action in the environment.\n",
        "      next_state, reward, done, truncated, _ = env.step(action)\n",
        "      custom_reward = custom_reward(env, action, reward, done, truncated)\n",
        "      episode_reward += custom_reward\n",
        "      next_state_proc = preprocess_state(next_state)\n",
        "\n",
        "      # Save the transition in the replay buffer.\n",
        "      replay_buffer.push(state, action, custom_reward, next_state_proc, done)\n",
        "      state = next_state_proc\n",
        "\n",
        "      # Update the Q-network once enough samples are available.\n",
        "      if len(replay_buffer) > BATCH_SIZE:\n",
        "        states, actions, rewards, next_states, dones = replay_buffer.sample(BATCH_SIZE)\n",
        "\n",
        "        # Convert the mini-batch to PyTorch tensors.\n",
        "        states = torch.tensor(states, dtype=torch.uint8).to(device)\n",
        "        actions = torch.tensor(actions, dtype=torch.long).to(device)\n",
        "        rewards = torch.tensor(rewards, dtype=torch.float32).to(device)\n",
        "        next_states = torch.tensor(next_states, dtype=torch.uint8).to(device)\n",
        "        dones = torch.tensor(dones, dtype=torch.float32).to(device)\n",
        "\n",
        "        # Compute Q-values for current states.\n",
        "        q_values = q_network.forward(states)\n",
        "        q_value = q_values.gather(1, actions.unsqueeze(1)).squeeze(1)\n",
        "\n",
        "        # Compute target Q-values using the target network.\n",
        "        with torch.no_grad():\n",
        "          next_q_values = target_network(next_states)\n",
        "          next_q_value = next_q_values.max(1)[0]\n",
        "          target = rewards + GAMMA * next_q_value * (1 - dones)\n",
        "\n",
        "        # Compute the loss (Mean Squared Error).\n",
        "        loss = nn.MSELoss()(q_value, target)\n",
        "        losses.append(loss.item())\n",
        "\n",
        "        optimizer.zero_grad()\n",
        "        loss.backward()\n",
        "        optimizer.step()\n",
        "\n",
        "        # Update the target network periodically.\n",
        "        if frame_idx % TARGET_UPDATE_FREQ == 0:\n",
        "          target_network.load_state_dict(q_network.state_dict())\n",
        "\n",
        "        steps += 1\n",
        "\n",
        "    if done and not truncated:\n",
        "      finish_counter += 1\n",
        "\n",
        "    episode_rewards.append(episode_reward)\n",
        "    episode_steps.append(env.unwrapped.step_count)\n",
        "    episode_finished.append(finish_counter)\n",
        "\n",
        "    if episode % LOG_EVERY == 0:\n",
        "      avg_reward = np.mean(episode_rewards[-10:])\n",
        "      avg_steps = np.mean(episode_steps[-10:])\n",
        "      avg_loss = np.mean(losses[-100:]) if losses else 0\n",
        "      epsilon_val = epsilon_by_frame(frame_idx)\n",
        "\n",
        "      if avg_reward > best_avg_reward:\n",
        "        best_avg_reward = avg_reward\n",
        "        print(\"Saving parameters...\")\n",
        "        torch.save(q_network.state_dict(), '/content/drive/MyDrive/RL/best_model.pth')\n",
        "\n",
        "      print(f\"Episode: {episode}, Frame: {frame_idx}, Epsilon: {epsilon_val}, Avg Reward (last 10): {avg_reward:.2f}, Loss: {avg_loss:.4f}, Avg Steps (last 10): {avg_steps:.2f}, Finished: {finish_counter}\")\n",
        "\n",
        "  env.close()\n",
        "\n",
        "  return episode_rewards, episode_steps, episode_finished"
      ],
      "metadata": {
        "id": "NXru0wObn7GF"
      },
      "execution_count": 19,
      "outputs": []
    },
    {
      "cell_type": "code",
      "source": [
        "##############################################\n",
        "# Hyperparameters\n",
        "##############################################\n",
        "\n",
        "# Environment settings\n",
        "ENV_NAME_2 = \"MiniGrid-MultiRoom-N2-S4-v0\"\n",
        "ENV_NAME_4 = \"MiniGrid-MultiRoom-N4-S5-v0\"\n",
        "ENV_NAME_6 = \"MiniGrid-MultiRoom-N6-v0\"\n",
        "REPLAY_BUFFER_CAPACITY = 10000\n",
        "BATCH_SIZE = 32\n",
        "GAMMA = 0.99\n",
        "LEARNING_RATE = 0.001\n",
        "NUM_EPISODES = 700\n",
        "TARGET_UPDATE_FREQ = 500  # steps\n",
        "EPSILON_START = 1.0\n",
        "EPSILON_FINAL = 0.1\n",
        "EPSILON_DECAY = 500000  # steps over which epsilon decays\n",
        "LOG_EVERY = 10\n",
        "\n",
        "# Create the environment\n",
        "env = gymnasium.make(ENV_NAME_2, render_mode=render_mode, highlight=highlight)\n",
        "\n",
        "# Wrap to get a partial (RGB) observation and then extract the image\n",
        "env = RGBImgPartialObsWrapper(env)\n",
        "env = ImgObsWrapper(env)\n",
        "env = FrameStackObservation(env, stack_size=3)\n",
        "\n",
        "# Reset the environment\n",
        "state, _ = env_reset(env)\n",
        "state = preprocess_state(state)\n",
        "\n",
        "# Get initial observation and derive input dimensions.\n",
        "input_shape = state.shape\n",
        "num_actions = env.action_space.n\n",
        "\n",
        "# Initialize the Q-network and target network.\n",
        "q_network = DuelingDQN(input_shape, num_actions).to(device)\n",
        "target_network = DuelingDQN(input_shape, num_actions).to(device)\n",
        "target_network.load_state_dict(q_network.state_dict())\n",
        "target_network.eval()  # Target network is only used for inference.\n",
        "\n",
        "optimizer = optim.Adam(q_network.parameters(), lr=LEARNING_RATE)\n",
        "\n",
        "episode_rewards, episode_steps, episode_finished = train(env, q_network, target_network, optimizer)\n",
        "\n",
        "plot_result(LOG_EVERY, 2, episode_rewards, episode_steps, episode_finished)"
      ],
      "metadata": {
        "id": "Dwd1xhv8nLi5",
        "colab": {
          "base_uri": "https://localhost:8080/",
          "height": 540
        },
        "outputId": "bfba67dd-3922-4823-d67c-675b12d12e32"
      },
      "execution_count": 20,
      "outputs": [
        {
          "output_type": "stream",
          "name": "stdout",
          "text": [
            "Saving parameters...\n",
            "Episode: 10, Frame: 4800, Epsilon: 0.9914013396074944, Avg Reward (last 10): -9.80, Loss: 0.1897, Avg Steps (last 10): 480.00, Finished: 0\n",
            "Saving parameters...\n",
            "Episode: 20, Frame: 8999, Epsilon: 0.9839466970140968, Avg Reward (last 10): -8.45, Loss: 0.1060, Avg Steps (last 10): 419.90, Finished: 0\n",
            "Episode: 30, Frame: 16768, Epsilon: 0.9703180880931184, Avg Reward (last 10): -16.48, Loss: 0.7490, Avg Steps (last 10): 776.90, Finished: 0\n",
            "Episode: 40, Frame: 27077, Epsilon: 0.9525575918723231, Avg Reward (last 10): -22.20, Loss: 1.1035, Avg Steps (last 10): 1030.90, Finished: 0\n",
            "Saving parameters...\n",
            "Episode: 50, Frame: 30433, Epsilon: 0.9468543866835053, Avg Reward (last 10): -6.55, Loss: 0.0689, Avg Steps (last 10): 335.60, Finished: 0\n",
            "Episode: 60, Frame: 36890, Epsilon: 0.9359884216804919, Avg Reward (last 10): -13.53, Loss: 0.6462, Avg Steps (last 10): 645.70, Finished: 0\n",
            "Episode: 70, Frame: 42482, Epsilon: 0.926690816295009, Avg Reward (last 10): -11.58, Loss: 0.5890, Avg Steps (last 10): 559.20, Finished: 0\n",
            "Episode: 80, Frame: 51542, Epsilon: 0.9118460781985229, Avg Reward (last 10): -19.39, Loss: 1.0265, Avg Steps (last 10): 906.00, Finished: 0\n",
            "Episode: 90, Frame: 57528, Epsilon: 0.9021846059203678, Avg Reward (last 10): -12.47, Loss: 0.2124, Avg Steps (last 10): 598.60, Finished: 0\n"
          ]
        },
        {
          "output_type": "error",
          "ename": "KeyboardInterrupt",
          "evalue": "",
          "traceback": [
            "\u001b[0;31m---------------------------------------------------------------------------\u001b[0m",
            "\u001b[0;31mKeyboardInterrupt\u001b[0m                         Traceback (most recent call last)",
            "\u001b[0;32m<ipython-input-20-2aacb6b13237>\u001b[0m in \u001b[0;36m<cell line: 0>\u001b[0;34m()\u001b[0m\n\u001b[1;32m     42\u001b[0m \u001b[0moptimizer\u001b[0m \u001b[0;34m=\u001b[0m \u001b[0moptim\u001b[0m\u001b[0;34m.\u001b[0m\u001b[0mAdam\u001b[0m\u001b[0;34m(\u001b[0m\u001b[0mq_network\u001b[0m\u001b[0;34m.\u001b[0m\u001b[0mparameters\u001b[0m\u001b[0;34m(\u001b[0m\u001b[0;34m)\u001b[0m\u001b[0;34m,\u001b[0m \u001b[0mlr\u001b[0m\u001b[0;34m=\u001b[0m\u001b[0mLEARNING_RATE\u001b[0m\u001b[0;34m)\u001b[0m\u001b[0;34m\u001b[0m\u001b[0;34m\u001b[0m\u001b[0m\n\u001b[1;32m     43\u001b[0m \u001b[0;34m\u001b[0m\u001b[0m\n\u001b[0;32m---> 44\u001b[0;31m \u001b[0mepisode_rewards\u001b[0m\u001b[0;34m,\u001b[0m \u001b[0mepisode_steps\u001b[0m\u001b[0;34m,\u001b[0m \u001b[0mepisode_finished\u001b[0m \u001b[0;34m=\u001b[0m \u001b[0mtrain\u001b[0m\u001b[0;34m(\u001b[0m\u001b[0menv\u001b[0m\u001b[0;34m,\u001b[0m \u001b[0mq_network\u001b[0m\u001b[0;34m,\u001b[0m \u001b[0mtarget_network\u001b[0m\u001b[0;34m,\u001b[0m \u001b[0moptimizer\u001b[0m\u001b[0;34m)\u001b[0m\u001b[0;34m\u001b[0m\u001b[0;34m\u001b[0m\u001b[0m\n\u001b[0m\u001b[1;32m     45\u001b[0m \u001b[0;34m\u001b[0m\u001b[0m\n\u001b[1;32m     46\u001b[0m \u001b[0mplot_result\u001b[0m\u001b[0;34m(\u001b[0m\u001b[0mLOG_EVERY\u001b[0m\u001b[0;34m,\u001b[0m \u001b[0;36m2\u001b[0m\u001b[0;34m,\u001b[0m \u001b[0mepisode_rewards\u001b[0m\u001b[0;34m,\u001b[0m \u001b[0mepisode_steps\u001b[0m\u001b[0;34m,\u001b[0m \u001b[0mepisode_finished\u001b[0m\u001b[0;34m)\u001b[0m\u001b[0;34m\u001b[0m\u001b[0;34m\u001b[0m\u001b[0m\n",
            "\u001b[0;32m<ipython-input-19-d612d1d9d6f8>\u001b[0m in \u001b[0;36mtrain\u001b[0;34m(env, q_network, target_network, optimizer, seed)\u001b[0m\n\u001b[1;32m     24\u001b[0m       \u001b[0mframe_idx\u001b[0m \u001b[0;34m+=\u001b[0m \u001b[0;36m1\u001b[0m\u001b[0;34m\u001b[0m\u001b[0;34m\u001b[0m\u001b[0m\n\u001b[1;32m     25\u001b[0m       \u001b[0;31m# Prepare the current state tensor.\u001b[0m\u001b[0;34m\u001b[0m\u001b[0;34m\u001b[0m\u001b[0m\n\u001b[0;32m---> 26\u001b[0;31m       \u001b[0mstate_tensor\u001b[0m \u001b[0;34m=\u001b[0m \u001b[0mtorch\u001b[0m\u001b[0;34m.\u001b[0m\u001b[0mfrom_numpy\u001b[0m\u001b[0;34m(\u001b[0m\u001b[0mstate\u001b[0m\u001b[0;34m)\u001b[0m\u001b[0;34m.\u001b[0m\u001b[0mto\u001b[0m\u001b[0;34m(\u001b[0m\u001b[0mdevice\u001b[0m\u001b[0;34m)\u001b[0m\u001b[0;34m\u001b[0m\u001b[0;34m\u001b[0m\u001b[0m\n\u001b[0m\u001b[1;32m     27\u001b[0m       \u001b[0mstate_tensor\u001b[0m \u001b[0;34m=\u001b[0m \u001b[0mstate_tensor\u001b[0m\u001b[0;34m.\u001b[0m\u001b[0munsqueeze\u001b[0m\u001b[0;34m(\u001b[0m\u001b[0;36m0\u001b[0m\u001b[0;34m)\u001b[0m\u001b[0;34m\u001b[0m\u001b[0;34m\u001b[0m\u001b[0m\n\u001b[1;32m     28\u001b[0m \u001b[0;34m\u001b[0m\u001b[0m\n",
            "\u001b[0;31mKeyboardInterrupt\u001b[0m: "
          ]
        }
      ]
    },
    {
      "cell_type": "code",
      "source": [
        "from google.colab import drive\n",
        "drive.mount('/content/drive')"
      ],
      "metadata": {
        "id": "rWBhT5WaaKzW",
        "colab": {
          "base_uri": "https://localhost:8080/"
        },
        "outputId": "0bf353bb-6cfb-46cd-dab1-8484f2101843"
      },
      "execution_count": 15,
      "outputs": [
        {
          "output_type": "stream",
          "name": "stdout",
          "text": [
            "Mounted at /content/drive\n"
          ]
        }
      ]
    },
    {
      "cell_type": "code",
      "source": [
        "NUM_EPISODES = 50\n",
        "\n",
        "# Create the environment\n",
        "env = gymnasium.make(ENV_NAME_4, render_mode=render_mode, highlight=highlight)\n",
        "\n",
        "# Wrap to get a partial (RGB) observation and then extract the image\n",
        "env = RGBImgPartialObsWrapper(env)\n",
        "env = ImgObsWrapper(env)\n",
        "env = FrameStackObservation(env, stack_size=3)\n",
        "\n",
        "episode_rewards, episode_steps, episode_finished = train(env, q_network, target_network, optimizer)\n",
        "\n",
        "plot_result(LOG_EVERY, 2, episode_rewards, episode_steps, episode_finished)"
      ],
      "metadata": {
        "id": "U3xunZLCyBVf"
      },
      "execution_count": null,
      "outputs": []
    },
    {
      "cell_type": "code",
      "source": [
        "NUM_EPISODES = 20\n",
        "\n",
        "# Create the environment\n",
        "env = gymnasium.make(ENV_NAME_6, render_mode=render_mode, highlight=highlight)\n",
        "\n",
        "# Wrap to get a partial (RGB) observation and then extract the image\n",
        "env = RGBImgPartialObsWrapper(env)\n",
        "env = ImgObsWrapper(env)\n",
        "env = FrameStackObservation(env, stack_size=3)\n",
        "\n",
        "episode_rewards, episode_steps, episode_finished = train(env, q_network, target_network, optimizer)\n",
        "\n",
        "plot_result(LOG_EVERY, 2, episode_rewards, episode_steps, episode_finished)"
      ],
      "metadata": {
        "id": "7pTIm-8WHTJp"
      },
      "execution_count": null,
      "outputs": []
    }
  ],
  "metadata": {
    "colab": {
      "provenance": [],
      "gpuType": "T4",
      "include_colab_link": true
    },
    "kernelspec": {
      "display_name": "Python 3",
      "name": "python3"
    },
    "language_info": {
      "codemirror_mode": {
        "name": "ipython",
        "version": 3
      },
      "file_extension": ".py",
      "mimetype": "text/x-python",
      "name": "python",
      "nbconvert_exporter": "python",
      "pygments_lexer": "ipython3",
      "version": "3.13.1"
    },
    "accelerator": "GPU"
  },
  "nbformat": 4,
  "nbformat_minor": 0
}